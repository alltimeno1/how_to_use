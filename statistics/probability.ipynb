{
 "cells": [
  {
   "source": [
    "## probability density function"
   ],
   "cell_type": "markdown",
   "metadata": {}
  },
  {
   "cell_type": "code",
   "execution_count": 16,
   "metadata": {},
   "outputs": [],
   "source": [
    "def F(x):\n",
    "    if x > 180:\n",
    "        return (x-180)/540 + 2/3\n",
    "    else:\n",
    "        return x/270"
   ]
  },
  {
   "cell_type": "code",
   "execution_count": 17,
   "metadata": {},
   "outputs": [],
   "source": [
    "f = [F(x) for x in range(360)]"
   ]
  },
  {
   "cell_type": "code",
   "execution_count": 18,
   "metadata": {},
   "outputs": [
    {
     "data": {
      "image/png": "[encoded data removed]",
      "text/plain": [
       "<Figure size 432x288 with 1 Axes>"
      ]
     },
     "metadata": {
      "image/png": {
       "height": 251,
       "width": 374
      }
     },
     "output_type": "display_data"
    }
   ],
   "source": [
    "plt.plot(f);\n",
    "plt.xticks([0,180,360]);"
   ]
  },
  {
   "cell_type": "code",
   "execution_count": 21,
   "metadata": {},
   "outputs": [
    {
     "data": {
      "text/plain": [
       "0.5"
      ]
     },
     "execution_count": 21,
     "metadata": {},
     "output_type": "execute_result"
    }
   ],
   "source": [
    "round(F(270)-F(90),2)"
   ]
  },
  {
   "source": [
    "## pgmpy package"
   ],
   "cell_type": "markdown",
   "metadata": {}
  },
  {
   "cell_type": "code",
   "execution_count": 2,
   "metadata": {},
   "outputs": [],
   "source": [
    "from pgmpy.factors.discrete import JointProbabilityDistribution as JPD"
   ]
  },
  {
   "cell_type": "code",
   "execution_count": 3,
   "metadata": {},
   "outputs": [
    {
     "output_type": "stream",
     "name": "stdout",
     "text": [
      "+------+--------+\n| X    |   P(X) |\n+======+========+\n| X(0) | 0.6000 |\n+------+--------+\n| X(1) | 0.4000 |\n+------+--------+\n"
     ]
    }
   ],
   "source": [
    "px = JPD(['X'], [2], [0.6,0.4])\n",
    "print(px)"
   ]
  },
  {
   "cell_type": "code",
   "execution_count": 4,
   "metadata": {},
   "outputs": [
    {
     "output_type": "stream",
     "name": "stdout",
     "text": [
      "+------+--------+\n| Y    |   P(Y) |\n+======+========+\n| Y(0) | 0.5000 |\n+------+--------+\n| Y(1) | 0.5000 |\n+------+--------+\n"
     ]
    }
   ],
   "source": [
    "py = JPD(['Y'], [2], [0.5,0.5])\n",
    "print(py)"
   ]
  },
  {
   "cell_type": "code",
   "execution_count": 5,
   "metadata": {},
   "outputs": [
    {
     "output_type": "stream",
     "name": "stdout",
     "text": [
      "+------+------+----------+\n| X    | Y    |   P(X,Y) |\n+======+======+==========+\n| X(0) | Y(0) |   0.1500 |\n+------+------+----------+\n| X(0) | Y(1) |   0.4500 |\n+------+------+----------+\n| X(1) | Y(0) |   0.3500 |\n+------+------+----------+\n| X(1) | Y(1) |   0.0500 |\n+------+------+----------+\n"
     ]
    }
   ],
   "source": [
    "pxy = JPD(['X','Y'], [2,2], np.array([3,9,7,1])/20)\n",
    "print(pxy)"
   ]
  },
  {
   "cell_type": "code",
   "execution_count": 6,
   "metadata": {},
   "outputs": [
    {
     "output_type": "stream",
     "name": "stdout",
     "text": [
      "+------+------+----------+\n| X    | Y    |   P(X,Y) |\n+======+======+==========+\n| X(0) | Y(0) |   0.3000 |\n+------+------+----------+\n| X(0) | Y(1) |   0.3000 |\n+------+------+----------+\n| X(1) | Y(0) |   0.2000 |\n+------+------+----------+\n| X(1) | Y(1) |   0.2000 |\n+------+------+----------+\n"
     ]
    }
   ],
   "source": [
    "pxy_2 = JPD(['X','Y'], [2,2], np.array([3,3,2,2])/10)\n",
    "print(pxy_2)"
   ]
  },
  {
   "cell_type": "code",
   "execution_count": 7,
   "metadata": {},
   "outputs": [
    {
     "output_type": "execute_result",
     "data": {
      "text/plain": [
       "<Joint Distribution representing P(X:2) at 0x1bdab2237c0>"
      ]
     },
     "metadata": {},
     "execution_count": 7
    }
   ],
   "source": [
    "pmx = pxy.marginalize(['Y'], inplace=False)\n",
    "pmx"
   ]
  },
  {
   "cell_type": "code",
   "execution_count": 8,
   "metadata": {},
   "outputs": [
    {
     "output_type": "stream",
     "name": "stdout",
     "text": [
      "+------+--------+\n| X    |   P(X) |\n+======+========+\n| X(0) | 0.6000 |\n+------+--------+\n| X(1) | 0.4000 |\n+------+--------+\n"
     ]
    }
   ],
   "source": [
    "print(pmx)"
   ]
  },
  {
   "cell_type": "code",
   "execution_count": 10,
   "metadata": {},
   "outputs": [
    {
     "output_type": "execute_result",
     "data": {
      "text/plain": [
       "True"
      ]
     },
     "metadata": {},
     "execution_count": 10
    }
   ],
   "source": [
    "pxy_2.check_independence(['X'],['Y'])"
   ]
  },
  {
   "source": [
    "## Bayesian rule"
   ],
   "cell_type": "markdown",
   "metadata": {}
  },
  {
   "cell_type": "code",
   "execution_count": 16,
   "metadata": {},
   "outputs": [
    {
     "output_type": "stream",
     "name": "stdout",
     "text": [
      "+------+-------+\n| X(0) | 0.998 |\n+------+-------+\n| X(1) | 0.002 |\n+------+-------+\n"
     ]
    }
   ],
   "source": [
    "from pgmpy.factors.discrete import TabularCPD\n",
    "\n",
    "cpd_X = TabularCPD('X', 2, [[0.998], [0.002]])\n",
    "\n",
    "print(cpd_X)"
   ]
  },
  {
   "cell_type": "code",
   "execution_count": 17,
   "metadata": {},
   "outputs": [
    {
     "output_type": "stream",
     "name": "stdout",
     "text": [
      "+------+------+------+\n| X    | X(0) | X(1) |\n+------+------+------+\n| Y(0) | 0.95 | 0.01 |\n+------+------+------+\n| Y(1) | 0.05 | 0.99 |\n+------+------+------+\n"
     ]
    }
   ],
   "source": [
    "cpd_Y_on_X = TabularCPD('Y', 2, np.array([[0.95, 0.01],[0.05, 0.99]]),\n",
    "                        evidence=['X'], evidence_card=[2])\n",
    "print(cpd_Y_on_X)"
   ]
  },
  {
   "cell_type": "code",
   "execution_count": 18,
   "metadata": {},
   "outputs": [
    {
     "output_type": "execute_result",
     "data": {
      "text/plain": [
       "True"
      ]
     },
     "metadata": {},
     "execution_count": 18
    }
   ],
   "source": [
    "from pgmpy.models import BayesianModel\n",
    "\n",
    "model = BayesianModel([('X', 'Y')])\n",
    "model.add_cpds(cpd_X, cpd_Y_on_X)\n",
    "model.check_model()"
   ]
  },
  {
   "cell_type": "code",
   "execution_count": 19,
   "metadata": {},
   "outputs": [
    {
     "output_type": "stream",
     "name": "stdout",
     "text": [
      "+------+----------+\n| X    |   phi(X) |\n+======+==========+\n| X(0) |   0.9618 |\n+------+----------+\n| X(1) |   0.0382 |\n+------+----------+\n"
     ]
    }
   ],
   "source": [
    "from pgmpy.inference import VariableElimination\n",
    "\n",
    "inference = VariableElimination(model)\n",
    "posterior = inference.query(['X'], evidence={'Y':1}, joint=False, show_progress=False)\n",
    "print(posterior['X'])"
   ]
  },
  {
   "cell_type": "code",
   "execution_count": null,
   "metadata": {},
   "outputs": [],
   "source": []
  }
 ],
 "metadata": {
  "kernelspec": {
   "name": "python3",
   "display_name": "Python 3.8.3 64-bit (conda)",
   "metadata": {
    "interpreter": {
     "hash": "b8551cc035c1c2f6dedf9d5ec53b374a5a45998e7f7ea517665a27e1156275b6"
    }
   }
  },
  "language_info": {
   "codemirror_mode": {
    "name": "ipython",
    "version": 3
   },
   "file_extension": ".py",
   "mimetype": "text/x-python",
   "name": "python",
   "nbconvert_exporter": "python",
   "pygments_lexer": "ipython3",
   "version": "3.8.3-final"
  }
 },
 "nbformat": 4,
 "nbformat_minor": 4
}