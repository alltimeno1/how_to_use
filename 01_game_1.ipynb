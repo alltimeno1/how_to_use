{
 "cells": [
  {
   "cell_type": "markdown",
   "metadata": {},
   "source": [
    "# 문제 설명 \n",
    "- 정수 배열 numbers가 주어집니다.\n",
    "- numbers에서 서로 다른 인덱스에 있는 두 개의 수를 뽑아 더해서 만들 수 있는 \n",
    "- 모든 수를 배열에 오름차순으로 담아 return 하도록 solution 함수를 완성해주세요.\n"
   ]
  },
  {
   "cell_type": "markdown",
   "metadata": {},
   "source": [
    "# 제한사항\n",
    "- numbers의 길이는 2 이상 100 이하입니다.\n",
    "- numbers의 모든 수는 0 이상 100 이하입니다."
   ]
  },
  {
   "cell_type": "markdown",
   "metadata": {},
   "source": [
    "# 입출력 예!"
   ]
  },
  {
   "cell_type": "markdown",
   "metadata": {},
   "source": [
    "### ex1)\n",
    "- input \n",
    "    - [2,1,3,4,1]\n",
    "- result\n",
    "    - [2,3,4,5,6,7]\n",
    "\n",
    "### ex2)\n",
    "- input\n",
    "    - [5,0,2,7]\n",
    "- result \n",
    "    - [2,5,7,9,12]"
   ]
  },
  {
   "cell_type": "code",
   "execution_count": 39,
   "metadata": {},
   "outputs": [],
   "source": [
    "def solution():\n",
    "    \n",
    "    numbers = []\n",
    "    \n",
    "    for _ in range(random.randint(2,100)):\n",
    "        numbers.append(random.randint(0,100))\n",
    "        \n",
    "    result = []\n",
    "    \n",
    "    for number1 in numbers:\n",
    "        n = 0\n",
    "        for number2 in numbers[n+1:]:\n",
    "            result.append(number1+number2)\n",
    "        n += 1\n",
    "        \n",
    "    result = sorted(set(result))\n",
    "    return result"
   ]
  },
  {
   "cell_type": "code",
   "execution_count": 40,
   "metadata": {},
   "outputs": [
    {
     "data": {
      "text/plain": [
       "[6,\n",
       " 8,\n",
       " 10,\n",
       " 26,\n",
       " 28,\n",
       " 33,\n",
       " 35,\n",
       " 37,\n",
       " 39,\n",
       " 46,\n",
       " 48,\n",
       " 49,\n",
       " 50,\n",
       " 51,\n",
       " 53,\n",
       " 57,\n",
       " 60,\n",
       " 64,\n",
       " 66,\n",
       " 68,\n",
       " 69,\n",
       " 71,\n",
       " 73,\n",
       " 75,\n",
       " 76,\n",
       " 77,\n",
       " 79,\n",
       " 80,\n",
       " 86,\n",
       " 88,\n",
       " 89,\n",
       " 90,\n",
       " 91,\n",
       " 92,\n",
       " 94,\n",
       " 96,\n",
       " 98,\n",
       " 99,\n",
       " 100,\n",
       " 101,\n",
       " 109,\n",
       " 110,\n",
       " 111,\n",
       " 112,\n",
       " 116,\n",
       " 117,\n",
       " 119,\n",
       " 121,\n",
       " 123,\n",
       " 126,\n",
       " 127,\n",
       " 130,\n",
       " 132,\n",
       " 133,\n",
       " 134,\n",
       " 135,\n",
       " 136,\n",
       " 138,\n",
       " 139,\n",
       " 141,\n",
       " 142,\n",
       " 153,\n",
       " 155,\n",
       " 159,\n",
       " 162,\n",
       " 176,\n",
       " 178,\n",
       " 180,\n",
       " 182,\n",
       " 183,\n",
       " 185,\n",
       " 186,\n",
       " 189,\n",
       " 192]"
      ]
     },
     "execution_count": 40,
     "metadata": {},
     "output_type": "execute_result"
    }
   ],
   "source": [
    "solution()"
   ]
  }
 ],
 "metadata": {
  "kernelspec": {
   "display_name": "Python 3",
   "language": "python",
   "name": "python3"
  },
  "language_info": {
   "codemirror_mode": {
    "name": "ipython",
    "version": 3
   },
   "file_extension": ".py",
   "mimetype": "text/x-python",
   "name": "python",
   "nbconvert_exporter": "python",
   "pygments_lexer": "ipython3",
   "version": "3.8.3"
  }
 },
 "nbformat": 4,
 "nbformat_minor": 4
}
