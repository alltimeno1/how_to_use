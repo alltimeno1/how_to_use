{
 "cells": [
  {
   "cell_type": "markdown",
   "metadata": {},
   "source": [
    "### rock paper scissors v0.1\n",
    "`````\n",
    "if statement\n",
    "`````"
   ]
  },
  {
   "cell_type": "code",
   "execution_count": 10,
   "metadata": {},
   "outputs": [
    {
     "name": "stdout",
     "output_type": "stream",
     "text": [
      "Choose rock, scissors, paper: paper\n",
      "Friend has chosen scissors. Defeat!\n"
     ]
    }
   ],
   "source": [
    "me = input(\"Choose rock, scissors, paper: \")\n",
    "friend = np.random.choice([\"rock\", \"scissors\", \"paper\"])\n",
    "\n",
    "if me == friend:\n",
    "    print(\"Friend has chosen {}. Draw!\".format(friend))\n",
    "elif me == \"scissors\" and friend == \"paper\":\n",
    "    print(\"Friend has chosen {}. Victory!\".format(friend))\n",
    "elif me == \"scissors\" and friend == \"rock\":\n",
    "    print(\"Friend has chosen {}. Defeat!\".format(friend))\n",
    "elif me == \"rock\" and friend == \"scissors\":\n",
    "    print(\"Friend has chosen {}. Victory!\".format(friend))\n",
    "elif me == \"rock\" and friend == \"paper\":\n",
    "    print(\"Friend has chosen {}. Defeat!\".format(friend))\n",
    "elif me == \"paper\" and friend == \"rock\":\n",
    "    print(\"Friend has chosen {}. Victory!\".format(friend))\n",
    "elif me == \"paper\" and friend == \"scissors\":\n",
    "    print(\"Friend has chosen {}. Defeat!\".format(friend))"
   ]
  },
  {
   "cell_type": "markdown",
   "metadata": {},
   "source": [
    "### rock paper scissors v0.2\n",
    "`````\n",
    "if statement, dictionary type\n",
    "`````"
   ]
  },
  {
   "cell_type": "code",
   "execution_count": 17,
   "metadata": {},
   "outputs": [
    {
     "name": "stdout",
     "output_type": "stream",
     "text": [
      "Choose rock, scissors, paper: rock\n",
      "Friend has chosen paper. Defeat!\n"
     ]
    }
   ],
   "source": [
    "me = input(\"Choose rock, scissors, paper: \")\n",
    "friend = np.random.choice([\"scissors\", \"rock\", \"paper\"])    \n",
    "\n",
    "RPS = {\"scissors\":\"rock\",\n",
    "      \"rock\":\"paper\",\n",
    "      \"paper\":\"scissors\"}\n",
    "\n",
    "if me == friend:\n",
    "     print(\"Friend has chosen {}. Draw!\".format(friend))\n",
    "elif me == RPS[friend]:\n",
    "    print(\"Friend has chosen {}. Victory!\".format(friend))\n",
    "elif friend == RPS[me]:\n",
    "    print(\"Friend has chosen {}. Defeat!\".format(friend))"
   ]
  },
  {
   "cell_type": "code",
   "execution_count": null,
   "metadata": {},
   "outputs": [],
   "source": []
  }
 ],
 "metadata": {
  "kernelspec": {
   "display_name": "Python 3",
   "language": "python",
   "name": "python3"
  },
  "language_info": {
   "codemirror_mode": {
    "name": "ipython",
    "version": 3
   },
   "file_extension": ".py",
   "mimetype": "text/x-python",
   "name": "python",
   "nbconvert_exporter": "python",
   "pygments_lexer": "ipython3",
   "version": "3.8.3"
  }
 },
 "nbformat": 4,
 "nbformat_minor": 4
}
