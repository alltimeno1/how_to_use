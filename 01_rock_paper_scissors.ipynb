{
 "cells": [
  {
   "cell_type": "markdown",
   "metadata": {},
   "source": [
    "### rock paper scissors v0.1\n",
    "`````\n",
    "if statement\n",
    "`````"
   ]
  },
  {
   "cell_type": "code",
   "execution_count": null,
   "metadata": {},
   "outputs": [],
   "source": [
    "me = input(\"Choose rock, scissors, paper: \")\n",
    "friend = np.random.choice([\"rock\", \"scissors\", \"paper\"])\n",
    "\n",
    "if me == friend:\n",
    "    print(\"Friend has chosen {}. Draw!\".format(friend))\n",
    "elif me == \"scissors\" and friend == \"paper\":\n",
    "    print(\"Friend has chosen {}. Victory!\".format(friend))\n",
    "elif me == \"scissors\" and friend == \"rock\":\n",
    "    print(\"Friend has chosen {}. Defeat!\".format(friend))\n",
    "elif me == \"rock\" and friend == \"scissors\":\n",
    "    print(\"Friend has chosen {}. Victory!\".format(friend))\n",
    "elif me == \"rock\" and friend == \"paper\":\n",
    "    print(\"Friend has chosen {}. Defeat!\".format(friend))\n",
    "elif me == \"paper\" and friend == \"rock\":\n",
    "    print(\"Friend has chosen {}. Victory!\".format(friend))\n",
    "elif me == \"paper\" and friend == \"scissors\":\n",
    "    print(\"Friend has chosen {}. Defeat!\".format(friend))"
   ]
  },
  {
   "cell_type": "markdown",
   "metadata": {},
   "source": [
    "### rock paper scissors v0.2\n",
    "`````\n",
    "if statement, dictionary type\n",
    "`````"
   ]
  },
  {
   "cell_type": "code",
   "execution_count": null,
   "metadata": {},
   "outputs": [],
   "source": [
    "me = input(\"Choose rock, scissors, paper: \")\n",
    "friend = np.random.choice([\"scissors\", \"rock\", \"paper\"])    \n",
    "\n",
    "RPS = {\"scissors\":\"rock\",\n",
    "      \"rock\":\"paper\",\n",
    "      \"paper\":\"scissors\"}\n",
    "\n",
    "if me == friend:\n",
    "     print(\"Friend has chosen {}. Draw!\".format(friend))\n",
    "elif me == RPS[friend]:\n",
    "    print(\"Friend has chosen {}. Victory!\".format(friend))\n",
    "elif friend == RPS[me]:\n",
    "    print(\"Friend has chosen {}. Defeat!\".format(friend))"
   ]
  },
  {
   "cell_type": "markdown",
   "metadata": {},
   "source": [
    "### rock paper scissors v0.3\n",
    "`````\n",
    "linked list, class\n",
    "`````"
   ]
  },
  {
   "cell_type": "markdown",
   "metadata": {},
   "source": [
    "##### Not working #1\n",
    "- variables in def rps don't match global variables"
   ]
  },
  {
   "cell_type": "code",
   "execution_count": 12,
   "metadata": {},
   "outputs": [
    {
     "name": "stdout",
     "output_type": "stream",
     "text": [
      "Choose rock, scissors, paper: rock\n"
     ]
    }
   ],
   "source": [
    "me = input(\"Choose rock, scissors, paper: \")\n",
    "friend = np.random.choice([\"scissors\", \"rock\", \"paper\"])       \n",
    "        \n",
    "class Game:\n",
    "    \n",
    "    def __init__(self, my_choice = me, next_node=None):\n",
    "        self.my_choice = my_choice\n",
    "        self.next_node = next_node\n",
    "        \n",
    "    def __repr__(self):\n",
    "        return \"<my_choice:{}, next_node:{}>\".format(self.my_choice, id(self.next_node))\n",
    "    \n",
    "    def rps(self, friend = friend):\n",
    "        self.friend = friend \n",
    "        if self.my_choice == friend :\n",
    "            return \"Friend has chosen {}. Draw!\".format(friend)\n",
    "        elif Game(friend) == self.next_node:\n",
    "            return \"Friend has chosen {}. Victory!\".format(friend)\n",
    "        elif self == Game(friend).next_node:\n",
    "            return \"Friend has chosen {}. Defeat!\".format(friend)\n",
    "\n",
    "n1 = Game(\"scissors\")        \n",
    "n2 = Game(\"rock\")\n",
    "n3 = Game(\"paper\")\n",
    "\n",
    "n1.next_node = n2\n",
    "n2.next_node = n3\n",
    "n3.next_node = n1 \n",
    "\n",
    "game = Game()\n",
    "game.rps()"
   ]
  }
 ],
 "metadata": {
  "kernelspec": {
   "display_name": "Python 3",
   "language": "python",
   "name": "python3"
  },
  "language_info": {
   "codemirror_mode": {
    "name": "ipython",
    "version": 3
   },
   "file_extension": ".py",
   "mimetype": "text/x-python",
   "name": "python",
   "nbconvert_exporter": "python",
   "pygments_lexer": "ipython3",
   "version": "3.8.3"
  }
 },
 "nbformat": 4,
 "nbformat_minor": 4
}
