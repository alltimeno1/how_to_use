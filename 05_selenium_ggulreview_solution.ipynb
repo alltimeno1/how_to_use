{
 "cells": [
  {
   "cell_type": "markdown",
   "metadata": {},
   "source": [
    "### 꿀리뷰\n",
    "- 꿀리뷰 사이트에서 카테고리별 상품의 제품명, 전체평점, 최저가 데이터를 수집하세요.\n",
    "- https://www.ggulreview.com/"
   ]
  },
  {
   "cell_type": "code",
   "execution_count": null,
   "metadata": {},
   "outputs": [],
   "source": []
  },
  {
   "cell_type": "code",
   "execution_count": null,
   "metadata": {},
   "outputs": [],
   "source": []
  },
  {
   "cell_type": "code",
   "execution_count": null,
   "metadata": {},
   "outputs": [],
   "source": []
  },
  {
   "cell_type": "code",
   "execution_count": null,
   "metadata": {},
   "outputs": [],
   "source": []
  },
  {
   "cell_type": "code",
   "execution_count": null,
   "metadata": {},
   "outputs": [],
   "source": []
  },
  {
   "cell_type": "code",
   "execution_count": 1,
   "metadata": {},
   "outputs": [],
   "source": [
    "class Ggulreview:\n",
    "    \n",
    "    def __init__(self, category=\"laptops\"):\n",
    "        options = webdriver.ChromeOptions()\n",
    "        options.add_argument(\"headless\")\n",
    "        self.driver = webdriver.Chrome(options=options)\n",
    "        url = \"https://www.ggulreview.com/p/{}\".format(category)\n",
    "        self.driver.get(url)\n",
    "        self.category = category\n",
    "        self.total_page = 1\n",
    "        self.df = None\n",
    "        \n",
    "    def category_list(self):\n",
    "        response = requests.get(\"https://www.ggulreview.com/\")\n",
    "        dom = BeautifulSoup(response.text, \"html.parser\") \n",
    "        elements = dom.select(\".active-categories-list__item\")\n",
    "        categories = {}\n",
    "        for element in elements:\n",
    "            category = element.select_one(\"a\").get(\"href\").split(\"/\")[-1]\n",
    "            text = element.select_one(\"a\").text\n",
    "            categories[text] = category\n",
    "        return categories\n",
    "    \n",
    "    def change_category(self, category):\n",
    "        url = \"https://www.ggulreview.com/p/{}\".format(category)\n",
    "        self.driver.get(url)\n",
    "        self.category = category    \n",
    "    \n",
    "    def __more(self):\n",
    "        self.driver.execute_script(\"window.scrollTo(0, document.body.scrollHeight);\")\n",
    "        self.driver.find_element_by_css_selector(\".product-list-view__more\").click()\n",
    "        time.sleep(2)\n",
    "        self.total_page += 1\n",
    "    \n",
    "    def crawling(self):\n",
    "        \n",
    "        # 더보기\n",
    "        self.total_page = 1\n",
    "        try:\n",
    "            while True:\n",
    "                self.__more()\n",
    "        except:\n",
    "            pass\n",
    "        \n",
    "        elements = self.driver.find_elements_by_css_selector(\".product-list-item\")\n",
    "        datas = []\n",
    "        for element in elements:\n",
    "            data = {}\n",
    "            # 제품명 데이터 가져오기\n",
    "            data[\"제품명\"] = element.find_element_by_css_selector('.product-list-item__desc__name').text\n",
    "            # 전체 평점\n",
    "            data[\"전체평점\"] = element.find_element_by_css_selector('.product-list-item__desc__eval__score').text\n",
    "            # 최저가\n",
    "            data[\"최저가\"] = element.find_element_by_css_selector('.product-list-item__desc__price').text\n",
    "            datas.append(data)\n",
    "\n",
    "        self.df = pd.DataFrame(datas)\n",
    "        \n",
    "    def close(self):\n",
    "        self.driver.quit()"
   ]
  },
  {
   "cell_type": "code",
   "execution_count": 2,
   "metadata": {},
   "outputs": [],
   "source": [
    "# 객체 생성\n",
    "gr = Ggulreview()"
   ]
  },
  {
   "cell_type": "code",
   "execution_count": 3,
   "metadata": {},
   "outputs": [
    {
     "data": {
      "text/plain": [
       "'laptops'"
      ]
     },
     "execution_count": 3,
     "metadata": {},
     "output_type": "execute_result"
    }
   ],
   "source": [
    "# 현재 카테고리\n",
    "gr.category"
   ]
  },
  {
   "cell_type": "code",
   "execution_count": 4,
   "metadata": {},
   "outputs": [],
   "source": [
    "# 카테고리 리스트 출력"
   ]
  },
  {
   "cell_type": "code",
   "execution_count": 5,
   "metadata": {},
   "outputs": [
    {
     "data": {
      "text/plain": [
       "{'노트북': 'laptops',\n",
       " '무선 청소기': 'cordless-vacuums',\n",
       " '로봇 청소기': 'robotic-vacuums',\n",
       " '가습기': 'humidifiers',\n",
       " 'TV': 'televisions',\n",
       " '무선 이어폰': 'wireless-earphones',\n",
       " '무선 스피커': 'wireless-speakers',\n",
       " '믹서기': 'blenders',\n",
       " '전기밥솥': 'rice-cookers',\n",
       " '에어프라이어': 'air-fryers',\n",
       " '공기청정기': 'air-purifiers',\n",
       " '건조기': 'dryers',\n",
       " '세탁기': 'washing-machines',\n",
       " '식기 세척기': 'dishwashers',\n",
       " '냉장고': 'refrigerators',\n",
       " '빔 프로젝터': 'projectors',\n",
       " '모니터': 'monitors',\n",
       " '에어컨': 'air-conditioners',\n",
       " '선풍기': 'fans',\n",
       " '제습기': 'dehumidifiers'}"
      ]
     },
     "execution_count": 5,
     "metadata": {},
     "output_type": "execute_result"
    }
   ],
   "source": [
    "gr.category_list()"
   ]
  },
  {
   "cell_type": "code",
   "execution_count": 6,
   "metadata": {},
   "outputs": [],
   "source": [
    "# 선풍기로 카테고리 변경"
   ]
  },
  {
   "cell_type": "code",
   "execution_count": 7,
   "metadata": {},
   "outputs": [],
   "source": [
    "gr.change_category(\"fans\")"
   ]
  },
  {
   "cell_type": "code",
   "execution_count": 8,
   "metadata": {},
   "outputs": [
    {
     "data": {
      "text/plain": [
       "'fans'"
      ]
     },
     "execution_count": 8,
     "metadata": {},
     "output_type": "execute_result"
    }
   ],
   "source": [
    "gr.category"
   ]
  },
  {
   "cell_type": "code",
   "execution_count": 9,
   "metadata": {},
   "outputs": [],
   "source": [
    "# 데이터 수집"
   ]
  },
  {
   "cell_type": "code",
   "execution_count": 10,
   "metadata": {},
   "outputs": [],
   "source": [
    "gr.crawling()"
   ]
  },
  {
   "cell_type": "code",
   "execution_count": 11,
   "metadata": {},
   "outputs": [],
   "source": [
    "# 수집된 데이터 확인"
   ]
  },
  {
   "cell_type": "code",
   "execution_count": 12,
   "metadata": {},
   "outputs": [
    {
     "data": {
      "text/html": [
       "<div>\n",
       "<style scoped>\n",
       "    .dataframe tbody tr th:only-of-type {\n",
       "        vertical-align: middle;\n",
       "    }\n",
       "\n",
       "    .dataframe tbody tr th {\n",
       "        vertical-align: top;\n",
       "    }\n",
       "\n",
       "    .dataframe thead th {\n",
       "        text-align: right;\n",
       "    }\n",
       "</style>\n",
       "<table border=\"1\" class=\"dataframe\">\n",
       "  <thead>\n",
       "    <tr style=\"text-align: right;\">\n",
       "      <th></th>\n",
       "      <th>제품명</th>\n",
       "      <th>전체평점</th>\n",
       "      <th>최저가</th>\n",
       "    </tr>\n",
       "  </thead>\n",
       "  <tbody>\n",
       "    <tr>\n",
       "      <th>0</th>\n",
       "      <td>발뮤다 그린팬S 무선</td>\n",
       "      <td>4.5</td>\n",
       "      <td>370,000원</td>\n",
       "    </tr>\n",
       "    <tr>\n",
       "      <th>1</th>\n",
       "      <td>한일전기 아기바람 ABFL-1470RTDC</td>\n",
       "      <td>4.2</td>\n",
       "      <td>140,000원</td>\n",
       "    </tr>\n",
       "    <tr>\n",
       "      <th>2</th>\n",
       "      <td>한일전기 아기바람 ABFL-1460RDC</td>\n",
       "      <td>4.2</td>\n",
       "      <td>120,000원</td>\n",
       "    </tr>\n",
       "    <tr>\n",
       "      <th>3</th>\n",
       "      <td>샤오미 스마트미 3세대 무선</td>\n",
       "      <td>4.0</td>\n",
       "      <td>60,000원</td>\n",
       "    </tr>\n",
       "    <tr>\n",
       "      <th>4</th>\n",
       "      <td>르젠 TR 입체회전</td>\n",
       "      <td>4.2</td>\n",
       "      <td>70,000원</td>\n",
       "    </tr>\n",
       "  </tbody>\n",
       "</table>\n",
       "</div>"
      ],
      "text/plain": [
       "                       제품명 전체평점       최저가\n",
       "0              발뮤다 그린팬S 무선  4.5  370,000원\n",
       "1  한일전기 아기바람 ABFL-1470RTDC  4.2  140,000원\n",
       "2   한일전기 아기바람 ABFL-1460RDC  4.2  120,000원\n",
       "3          샤오미 스마트미 3세대 무선  4.0   60,000원\n",
       "4               르젠 TR 입체회전  4.2   70,000원"
      ]
     },
     "execution_count": 12,
     "metadata": {},
     "output_type": "execute_result"
    }
   ],
   "source": [
    "gr.df.head()"
   ]
  },
  {
   "cell_type": "code",
   "execution_count": 13,
   "metadata": {},
   "outputs": [],
   "source": [
    "# 브라우져 닫기"
   ]
  },
  {
   "cell_type": "code",
   "execution_count": 14,
   "metadata": {},
   "outputs": [],
   "source": [
    "gr.close()"
   ]
  }
 ],
 "metadata": {
  "kernelspec": {
   "display_name": "Python 3",
   "language": "python",
   "name": "python3"
  },
  "language_info": {
   "codemirror_mode": {
    "name": "ipython",
    "version": 3
   },
   "file_extension": ".py",
   "mimetype": "text/x-python",
   "name": "python",
   "nbconvert_exporter": "python",
   "pygments_lexer": "ipython3",
   "version": "3.8.3"
  }
 },
 "nbformat": 4,
 "nbformat_minor": 4
}
