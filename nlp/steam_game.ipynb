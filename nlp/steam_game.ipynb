{
 "metadata": {
  "language_info": {
   "codemirror_mode": {
    "name": "ipython",
    "version": 3
   },
   "file_extension": ".py",
   "mimetype": "text/x-python",
   "name": "python",
   "nbconvert_exporter": "python",
   "pygments_lexer": "ipython3",
   "version": "3.8.3-final"
  },
  "orig_nbformat": 2,
  "kernelspec": {
   "name": "python3",
   "display_name": "Python 3",
   "language": "python"
  }
 },
 "nbformat": 4,
 "nbformat_minor": 2,
 "cells": [
  {
   "cell_type": "code",
   "execution_count": 1,
   "metadata": {},
   "outputs": [],
   "source": [
    "steam = pd.read_csv('data/steam.csv')\n",
    "steam_desc = pd.read_csv('data/steam_description_data.csv')\n",
    "steam_med = pd.read_csv('data/steam_media_data.csv')\n",
    "steam_req = pd.read_csv('data/steam_requirements_data.csv')\n",
    "steam_sup = pd.read_csv('data/steam_support_info.csv')\n",
    "steam_tag = pd.read_csv('data/steamspy_tag_data.csv')"
   ]
  },
  {
   "cell_type": "code",
   "execution_count": 2,
   "metadata": {},
   "outputs": [
    {
     "output_type": "execute_result",
     "data": {
      "text/plain": [
       "         appid                        name release_date  english  \\\n",
       "27070  1065230             Room of Pandora   2019-04-24        1   \n",
       "27071  1065570                   Cyber Gun   2019-04-23        1   \n",
       "27072  1065650            Super Star Blast   2019-04-24        1   \n",
       "27073  1066700  New Yankee 7: Deer Hunters   2019-04-17        1   \n",
       "27074  1069460                   Rune Lord   2019-04-24        1   \n",
       "\n",
       "                developer             publisher    platforms  required_age  \\\n",
       "27070         SHEN JIAWEI           SHEN JIAWEI      windows             0   \n",
       "27071      Semyon Maximov      BekkerDev Studio      windows             0   \n",
       "27072         EntwicklerX           EntwicklerX      windows             0   \n",
       "27073  Yustas Game Studio  Alawar Entertainment  windows;mac             0   \n",
       "27074    Adept Studios GD  Alawar Entertainment  windows;mac             0   \n",
       "\n",
       "                                              categories  \\\n",
       "27070                   Single-player;Steam Achievements   \n",
       "27071                                      Single-player   \n",
       "27072  Single-player;Multi-player;Co-op;Shared/Split ...   \n",
       "27073                          Single-player;Steam Cloud   \n",
       "27074                          Single-player;Steam Cloud   \n",
       "\n",
       "                       genres           steamspy_tags  achievements  \\\n",
       "27070  Adventure;Casual;Indie  Adventure;Indie;Casual             7   \n",
       "27071  Action;Adventure;Indie  Action;Indie;Adventure             0   \n",
       "27072     Action;Casual;Indie     Action;Indie;Casual            24   \n",
       "27073  Adventure;Casual;Indie  Indie;Casual;Adventure             0   \n",
       "27074  Adventure;Casual;Indie  Indie;Casual;Adventure             0   \n",
       "\n",
       "       positive_ratings  negative_ratings  average_playtime  median_playtime  \\\n",
       "27070                 3                 0                 0                0   \n",
       "27071                 8                 1                 0                0   \n",
       "27072                 0                 1                 0                0   \n",
       "27073                 2                 0                 0                0   \n",
       "27074                 4                 0                 0                0   \n",
       "\n",
       "        owners  price  \n",
       "27070  0-20000   2.09  \n",
       "27071  0-20000   1.69  \n",
       "27072  0-20000   3.99  \n",
       "27073  0-20000   5.19  \n",
       "27074  0-20000   5.19  "
      ],
      "text/html": "<div>\n<style scoped>\n    .dataframe tbody tr th:only-of-type {\n        vertical-align: middle;\n    }\n\n    .dataframe tbody tr th {\n        vertical-align: top;\n    }\n\n    .dataframe thead th {\n        text-align: right;\n    }\n</style>\n<table border=\"1\" class=\"dataframe\">\n  <thead>\n    <tr style=\"text-align: right;\">\n      <th></th>\n      <th>appid</th>\n      <th>name</th>\n      <th>release_date</th>\n      <th>english</th>\n      <th>developer</th>\n      <th>publisher</th>\n      <th>platforms</th>\n      <th>required_age</th>\n      <th>categories</th>\n      <th>genres</th>\n      <th>steamspy_tags</th>\n      <th>achievements</th>\n      <th>positive_ratings</th>\n      <th>negative_ratings</th>\n      <th>average_playtime</th>\n      <th>median_playtime</th>\n      <th>owners</th>\n      <th>price</th>\n    </tr>\n  </thead>\n  <tbody>\n    <tr>\n      <th>27070</th>\n      <td>1065230</td>\n      <td>Room of Pandora</td>\n      <td>2019-04-24</td>\n      <td>1</td>\n      <td>SHEN JIAWEI</td>\n      <td>SHEN JIAWEI</td>\n      <td>windows</td>\n      <td>0</td>\n      <td>Single-player;Steam Achievements</td>\n      <td>Adventure;Casual;Indie</td>\n      <td>Adventure;Indie;Casual</td>\n      <td>7</td>\n      <td>3</td>\n      <td>0</td>\n      <td>0</td>\n      <td>0</td>\n      <td>0-20000</td>\n      <td>2.09</td>\n    </tr>\n    <tr>\n      <th>27071</th>\n      <td>1065570</td>\n      <td>Cyber Gun</td>\n      <td>2019-04-23</td>\n      <td>1</td>\n      <td>Semyon Maximov</td>\n      <td>BekkerDev Studio</td>\n      <td>windows</td>\n      <td>0</td>\n      <td>Single-player</td>\n      <td>Action;Adventure;Indie</td>\n      <td>Action;Indie;Adventure</td>\n      <td>0</td>\n      <td>8</td>\n      <td>1</td>\n      <td>0</td>\n      <td>0</td>\n      <td>0-20000</td>\n      <td>1.69</td>\n    </tr>\n    <tr>\n      <th>27072</th>\n      <td>1065650</td>\n      <td>Super Star Blast</td>\n      <td>2019-04-24</td>\n      <td>1</td>\n      <td>EntwicklerX</td>\n      <td>EntwicklerX</td>\n      <td>windows</td>\n      <td>0</td>\n      <td>Single-player;Multi-player;Co-op;Shared/Split ...</td>\n      <td>Action;Casual;Indie</td>\n      <td>Action;Indie;Casual</td>\n      <td>24</td>\n      <td>0</td>\n      <td>1</td>\n      <td>0</td>\n      <td>0</td>\n      <td>0-20000</td>\n      <td>3.99</td>\n    </tr>\n    <tr>\n      <th>27073</th>\n      <td>1066700</td>\n      <td>New Yankee 7: Deer Hunters</td>\n      <td>2019-04-17</td>\n      <td>1</td>\n      <td>Yustas Game Studio</td>\n      <td>Alawar Entertainment</td>\n      <td>windows;mac</td>\n      <td>0</td>\n      <td>Single-player;Steam Cloud</td>\n      <td>Adventure;Casual;Indie</td>\n      <td>Indie;Casual;Adventure</td>\n      <td>0</td>\n      <td>2</td>\n      <td>0</td>\n      <td>0</td>\n      <td>0</td>\n      <td>0-20000</td>\n      <td>5.19</td>\n    </tr>\n    <tr>\n      <th>27074</th>\n      <td>1069460</td>\n      <td>Rune Lord</td>\n      <td>2019-04-24</td>\n      <td>1</td>\n      <td>Adept Studios GD</td>\n      <td>Alawar Entertainment</td>\n      <td>windows;mac</td>\n      <td>0</td>\n      <td>Single-player;Steam Cloud</td>\n      <td>Adventure;Casual;Indie</td>\n      <td>Indie;Casual;Adventure</td>\n      <td>0</td>\n      <td>4</td>\n      <td>0</td>\n      <td>0</td>\n      <td>0</td>\n      <td>0-20000</td>\n      <td>5.19</td>\n    </tr>\n  </tbody>\n</table>\n</div>"
     },
     "metadata": {},
     "execution_count": 2
    }
   ],
   "source": [
    "steam.tail()"
   ]
  },
  {
   "cell_type": "code",
   "execution_count": 3,
   "metadata": {},
   "outputs": [
    {
     "output_type": "execute_result",
     "data": {
      "text/plain": [
       "       steam_appid                               detailed_description  \\\n",
       "27329      1065230  <img src=\"https://steamcdn-a.akamaihd.net/stea...   \n",
       "27330      1065570  Have you ever been so lonely that no one but y...   \n",
       "27331      1065650  <strong>Super Star Blast </strong>is a space b...   \n",
       "27332      1066700  Pursue a snow-white deer through an enchanted ...   \n",
       "27333      1069460  A portal has opened and dark magic is pouring ...   \n",
       "\n",
       "                                          about_the_game  \\\n",
       "27329  <img src=\"https://steamcdn-a.akamaihd.net/stea...   \n",
       "27330  Have you ever been so lonely that no one but y...   \n",
       "27331  <strong>Super Star Blast </strong>is a space b...   \n",
       "27332  Pursue a snow-white deer through an enchanted ...   \n",
       "27333  A portal has opened and dark magic is pouring ...   \n",
       "\n",
       "                                       short_description  \n",
       "27329  The Room of Pandora is a third-person interact...  \n",
       "27330  Cyber Gun is a hardcore first-person shooter w...  \n",
       "27331  Super Star Blast is a space based game with ch...  \n",
       "27332  Pursue a snow-white deer through an enchanted ...  \n",
       "27333  A portal has opened and dark magic is pouring ...  "
      ],
      "text/html": "<div>\n<style scoped>\n    .dataframe tbody tr th:only-of-type {\n        vertical-align: middle;\n    }\n\n    .dataframe tbody tr th {\n        vertical-align: top;\n    }\n\n    .dataframe thead th {\n        text-align: right;\n    }\n</style>\n<table border=\"1\" class=\"dataframe\">\n  <thead>\n    <tr style=\"text-align: right;\">\n      <th></th>\n      <th>steam_appid</th>\n      <th>detailed_description</th>\n      <th>about_the_game</th>\n      <th>short_description</th>\n    </tr>\n  </thead>\n  <tbody>\n    <tr>\n      <th>27329</th>\n      <td>1065230</td>\n      <td>&lt;img src=\"https://steamcdn-a.akamaihd.net/stea...</td>\n      <td>&lt;img src=\"https://steamcdn-a.akamaihd.net/stea...</td>\n      <td>The Room of Pandora is a third-person interact...</td>\n    </tr>\n    <tr>\n      <th>27330</th>\n      <td>1065570</td>\n      <td>Have you ever been so lonely that no one but y...</td>\n      <td>Have you ever been so lonely that no one but y...</td>\n      <td>Cyber Gun is a hardcore first-person shooter w...</td>\n    </tr>\n    <tr>\n      <th>27331</th>\n      <td>1065650</td>\n      <td>&lt;strong&gt;Super Star Blast &lt;/strong&gt;is a space b...</td>\n      <td>&lt;strong&gt;Super Star Blast &lt;/strong&gt;is a space b...</td>\n      <td>Super Star Blast is a space based game with ch...</td>\n    </tr>\n    <tr>\n      <th>27332</th>\n      <td>1066700</td>\n      <td>Pursue a snow-white deer through an enchanted ...</td>\n      <td>Pursue a snow-white deer through an enchanted ...</td>\n      <td>Pursue a snow-white deer through an enchanted ...</td>\n    </tr>\n    <tr>\n      <th>27333</th>\n      <td>1069460</td>\n      <td>A portal has opened and dark magic is pouring ...</td>\n      <td>A portal has opened and dark magic is pouring ...</td>\n      <td>A portal has opened and dark magic is pouring ...</td>\n    </tr>\n  </tbody>\n</table>\n</div>"
     },
     "metadata": {},
     "execution_count": 3
    }
   ],
   "source": [
    "steam_desc.tail()"
   ]
  },
  {
   "cell_type": "code",
   "execution_count": 4,
   "metadata": {},
   "outputs": [
    {
     "output_type": "execute_result",
     "data": {
      "text/plain": [
       "         appid                        name release_date  english  \\\n",
       "27070  1065230             Room of Pandora   2019-04-24        1   \n",
       "27071  1065570                   Cyber Gun   2019-04-23        1   \n",
       "27072  1065650            Super Star Blast   2019-04-24        1   \n",
       "27073  1066700  New Yankee 7: Deer Hunters   2019-04-17        1   \n",
       "27074  1069460                   Rune Lord   2019-04-24        1   \n",
       "\n",
       "                developer             publisher    platforms  required_age  \\\n",
       "27070         SHEN JIAWEI           SHEN JIAWEI      windows             0   \n",
       "27071      Semyon Maximov      BekkerDev Studio      windows             0   \n",
       "27072         EntwicklerX           EntwicklerX      windows             0   \n",
       "27073  Yustas Game Studio  Alawar Entertainment  windows;mac             0   \n",
       "27074    Adept Studios GD  Alawar Entertainment  windows;mac             0   \n",
       "\n",
       "                                              categories  \\\n",
       "27070                   Single-player;Steam Achievements   \n",
       "27071                                      Single-player   \n",
       "27072  Single-player;Multi-player;Co-op;Shared/Split ...   \n",
       "27073                          Single-player;Steam Cloud   \n",
       "27074                          Single-player;Steam Cloud   \n",
       "\n",
       "                       genres           steamspy_tags  achievements  \\\n",
       "27070  Adventure;Casual;Indie  Adventure;Indie;Casual             7   \n",
       "27071  Action;Adventure;Indie  Action;Indie;Adventure             0   \n",
       "27072     Action;Casual;Indie     Action;Indie;Casual            24   \n",
       "27073  Adventure;Casual;Indie  Indie;Casual;Adventure             0   \n",
       "27074  Adventure;Casual;Indie  Indie;Casual;Adventure             0   \n",
       "\n",
       "       positive_ratings  negative_ratings  average_playtime  median_playtime  \\\n",
       "27070                 3                 0                 0                0   \n",
       "27071                 8                 1                 0                0   \n",
       "27072                 0                 1                 0                0   \n",
       "27073                 2                 0                 0                0   \n",
       "27074                 4                 0                 0                0   \n",
       "\n",
       "        owners  price  \n",
       "27070  0-20000   2.09  \n",
       "27071  0-20000   1.69  \n",
       "27072  0-20000   3.99  \n",
       "27073  0-20000   5.19  \n",
       "27074  0-20000   5.19  "
      ],
      "text/html": "<div>\n<style scoped>\n    .dataframe tbody tr th:only-of-type {\n        vertical-align: middle;\n    }\n\n    .dataframe tbody tr th {\n        vertical-align: top;\n    }\n\n    .dataframe thead th {\n        text-align: right;\n    }\n</style>\n<table border=\"1\" class=\"dataframe\">\n  <thead>\n    <tr style=\"text-align: right;\">\n      <th></th>\n      <th>appid</th>\n      <th>name</th>\n      <th>release_date</th>\n      <th>english</th>\n      <th>developer</th>\n      <th>publisher</th>\n      <th>platforms</th>\n      <th>required_age</th>\n      <th>categories</th>\n      <th>genres</th>\n      <th>steamspy_tags</th>\n      <th>achievements</th>\n      <th>positive_ratings</th>\n      <th>negative_ratings</th>\n      <th>average_playtime</th>\n      <th>median_playtime</th>\n      <th>owners</th>\n      <th>price</th>\n    </tr>\n  </thead>\n  <tbody>\n    <tr>\n      <th>27070</th>\n      <td>1065230</td>\n      <td>Room of Pandora</td>\n      <td>2019-04-24</td>\n      <td>1</td>\n      <td>SHEN JIAWEI</td>\n      <td>SHEN JIAWEI</td>\n      <td>windows</td>\n      <td>0</td>\n      <td>Single-player;Steam Achievements</td>\n      <td>Adventure;Casual;Indie</td>\n      <td>Adventure;Indie;Casual</td>\n      <td>7</td>\n      <td>3</td>\n      <td>0</td>\n      <td>0</td>\n      <td>0</td>\n      <td>0-20000</td>\n      <td>2.09</td>\n    </tr>\n    <tr>\n      <th>27071</th>\n      <td>1065570</td>\n      <td>Cyber Gun</td>\n      <td>2019-04-23</td>\n      <td>1</td>\n      <td>Semyon Maximov</td>\n      <td>BekkerDev Studio</td>\n      <td>windows</td>\n      <td>0</td>\n      <td>Single-player</td>\n      <td>Action;Adventure;Indie</td>\n      <td>Action;Indie;Adventure</td>\n      <td>0</td>\n      <td>8</td>\n      <td>1</td>\n      <td>0</td>\n      <td>0</td>\n      <td>0-20000</td>\n      <td>1.69</td>\n    </tr>\n    <tr>\n      <th>27072</th>\n      <td>1065650</td>\n      <td>Super Star Blast</td>\n      <td>2019-04-24</td>\n      <td>1</td>\n      <td>EntwicklerX</td>\n      <td>EntwicklerX</td>\n      <td>windows</td>\n      <td>0</td>\n      <td>Single-player;Multi-player;Co-op;Shared/Split ...</td>\n      <td>Action;Casual;Indie</td>\n      <td>Action;Indie;Casual</td>\n      <td>24</td>\n      <td>0</td>\n      <td>1</td>\n      <td>0</td>\n      <td>0</td>\n      <td>0-20000</td>\n      <td>3.99</td>\n    </tr>\n    <tr>\n      <th>27073</th>\n      <td>1066700</td>\n      <td>New Yankee 7: Deer Hunters</td>\n      <td>2019-04-17</td>\n      <td>1</td>\n      <td>Yustas Game Studio</td>\n      <td>Alawar Entertainment</td>\n      <td>windows;mac</td>\n      <td>0</td>\n      <td>Single-player;Steam Cloud</td>\n      <td>Adventure;Casual;Indie</td>\n      <td>Indie;Casual;Adventure</td>\n      <td>0</td>\n      <td>2</td>\n      <td>0</td>\n      <td>0</td>\n      <td>0</td>\n      <td>0-20000</td>\n      <td>5.19</td>\n    </tr>\n    <tr>\n      <th>27074</th>\n      <td>1069460</td>\n      <td>Rune Lord</td>\n      <td>2019-04-24</td>\n      <td>1</td>\n      <td>Adept Studios GD</td>\n      <td>Alawar Entertainment</td>\n      <td>windows;mac</td>\n      <td>0</td>\n      <td>Single-player;Steam Cloud</td>\n      <td>Adventure;Casual;Indie</td>\n      <td>Indie;Casual;Adventure</td>\n      <td>0</td>\n      <td>4</td>\n      <td>0</td>\n      <td>0</td>\n      <td>0</td>\n      <td>0-20000</td>\n      <td>5.19</td>\n    </tr>\n  </tbody>\n</table>\n</div>"
     },
     "metadata": {},
     "execution_count": 4
    }
   ],
   "source": [
    "steam.tail()"
   ]
  },
  {
   "cell_type": "code",
   "execution_count": 5,
   "metadata": {},
   "outputs": [],
   "source": [
    "steam_1 = pd.merge(steam, steam_desc, how='inner', left_on='appid', right_on='steam_appid')"
   ]
  },
  {
   "cell_type": "code",
   "execution_count": 6,
   "metadata": {},
   "outputs": [],
   "source": [
    "steam_1 = pd.merge(steam_1, steam_med, how='inner', left_on='appid', right_on='steam_appid')"
   ]
  },
  {
   "cell_type": "code",
   "execution_count": 7,
   "metadata": {},
   "outputs": [],
   "source": [
    "steam_1 = pd.merge(steam_1, steam_req, how='inner', left_on='appid', right_on='steam_appid')"
   ]
  },
  {
   "cell_type": "code",
   "execution_count": 8,
   "metadata": {},
   "outputs": [],
   "source": [
    "steam_1 = pd.merge(steam_1, steam_sup, how='inner', left_on='appid', right_on='steam_appid')"
   ]
  },
  {
   "cell_type": "code",
   "execution_count": 9,
   "metadata": {},
   "outputs": [
    {
     "output_type": "execute_result",
     "data": {
      "text/plain": [
       "         appid                            name release_date  english  \\\n",
       "0           10                  Counter-Strike   2000-11-01        1   \n",
       "1           30                   Day of Defeat   2003-05-01        1   \n",
       "2           50       Half-Life: Opposing Force   1999-11-01        1   \n",
       "3           70                       Half-Life   1998-11-08        1   \n",
       "4           80  Counter-Strike: Condition Zero   2004-03-01        1   \n",
       "...        ...                             ...          ...      ...   \n",
       "26863  1065230                 Room of Pandora   2019-04-24        1   \n",
       "26864  1065570                       Cyber Gun   2019-04-23        1   \n",
       "26865  1065650                Super Star Blast   2019-04-24        1   \n",
       "26866  1066700      New Yankee 7: Deer Hunters   2019-04-17        1   \n",
       "26867  1069460                       Rune Lord   2019-04-24        1   \n",
       "\n",
       "                developer             publisher          platforms  \\\n",
       "0                   Valve                 Valve  windows;mac;linux   \n",
       "1                   Valve                 Valve  windows;mac;linux   \n",
       "2        Gearbox Software                 Valve  windows;mac;linux   \n",
       "3                   Valve                 Valve  windows;mac;linux   \n",
       "4                   Valve                 Valve  windows;mac;linux   \n",
       "...                   ...                   ...                ...   \n",
       "26863         SHEN JIAWEI           SHEN JIAWEI            windows   \n",
       "26864      Semyon Maximov      BekkerDev Studio            windows   \n",
       "26865         EntwicklerX           EntwicklerX            windows   \n",
       "26866  Yustas Game Studio  Alawar Entertainment        windows;mac   \n",
       "26867    Adept Studios GD  Alawar Entertainment        windows;mac   \n",
       "\n",
       "       required_age                                         categories  \\\n",
       "0                 0  Multi-player;Online Multi-Player;Local Multi-P...   \n",
       "1                 0              Multi-player;Valve Anti-Cheat enabled   \n",
       "2                 0  Single-player;Multi-player;Valve Anti-Cheat en...   \n",
       "3                 0  Single-player;Multi-player;Online Multi-Player...   \n",
       "4                 0  Single-player;Multi-player;Valve Anti-Cheat en...   \n",
       "...             ...                                                ...   \n",
       "26863             0                   Single-player;Steam Achievements   \n",
       "26864             0                                      Single-player   \n",
       "26865             0  Single-player;Multi-player;Co-op;Shared/Split ...   \n",
       "26866             0                          Single-player;Steam Cloud   \n",
       "26867             0                          Single-player;Steam Cloud   \n",
       "\n",
       "                       genres  ... steam_appid_x  \\\n",
       "0                      Action  ...            10   \n",
       "1                      Action  ...            30   \n",
       "2                      Action  ...            50   \n",
       "3                      Action  ...            70   \n",
       "4                      Action  ...            80   \n",
       "...                       ...  ...           ...   \n",
       "26863  Adventure;Casual;Indie  ...       1065230   \n",
       "26864  Action;Adventure;Indie  ...       1065570   \n",
       "26865     Action;Casual;Indie  ...       1065650   \n",
       "26866  Adventure;Casual;Indie  ...       1066700   \n",
       "26867  Adventure;Casual;Indie  ...       1069460   \n",
       "\n",
       "                                         pc_requirements  \\\n",
       "0      {'minimum': '\\r\\n\\t\\t\\t<p><strong>Minimum:</st...   \n",
       "1      {'minimum': '\\r\\n\\t\\t\\t<p><strong>Minimum:</st...   \n",
       "2      {'minimum': '\\r\\n\\t\\t\\t<p><strong>Minimum:</st...   \n",
       "3      {'minimum': '\\r\\n\\t\\t\\t<p><strong>Minimum:</st...   \n",
       "4      {'minimum': '\\r\\n\\t\\t\\t<p><strong>Minimum:</st...   \n",
       "...                                                  ...   \n",
       "26863  {'minimum': '<strong>Minimum:</strong><br><ul ...   \n",
       "26864  {'minimum': '<strong>Minimum:</strong><br><ul ...   \n",
       "26865  {'minimum': '<strong>Minimum:</strong><br><ul ...   \n",
       "26866  {'minimum': '<strong>Minimum:</strong><br><ul ...   \n",
       "26867  {'minimum': '<strong>Minimum:</strong><br><ul ...   \n",
       "\n",
       "                                        mac_requirements  \\\n",
       "0      {'minimum': 'Minimum: OS X  Snow Leopard 10.6....   \n",
       "1      {'minimum': 'Minimum: OS X  Snow Leopard 10.6....   \n",
       "2      {'minimum': 'Minimum: OS X  Snow Leopard 10.6....   \n",
       "3      {'minimum': 'Minimum: OS X  Snow Leopard 10.6....   \n",
       "4                                                     []   \n",
       "...                                                  ...   \n",
       "26863                                                 []   \n",
       "26864                                                 []   \n",
       "26865                                                 []   \n",
       "26866  {'minimum': '<strong>Minimum:</strong><br><ul ...   \n",
       "26867  {'minimum': '<strong>Minimum:</strong><br><ul ...   \n",
       "\n",
       "                                      linux_requirements  \\\n",
       "0      {'minimum': 'Minimum: Linux Ubuntu 12.04, Dual...   \n",
       "1      {'minimum': 'Minimum: Linux Ubuntu 12.04, Dual...   \n",
       "2      {'minimum': 'Minimum: Linux Ubuntu 12.04, Dual...   \n",
       "3      {'minimum': 'Minimum: Linux Ubuntu 12.04, Dual...   \n",
       "4                                                     []   \n",
       "...                                                  ...   \n",
       "26863                                                 []   \n",
       "26864                                                 []   \n",
       "26865                                                 []   \n",
       "26866                                                 []   \n",
       "26867                                                 []   \n",
       "\n",
       "                                                 minimum  \\\n",
       "0      500 mhz processor, 96mb ram, 16mb video card, ...   \n",
       "1      500 mhz processor, 96mb ram, 16mb video card, ...   \n",
       "2      500 mhz processor, 96mb ram, 16mb video card, ...   \n",
       "3      500 mhz processor, 96mb ram, 16mb video card, ...   \n",
       "4      500 mhz processor, 96mb ram, 16mb video card, ...   \n",
       "...                                                  ...   \n",
       "26863  OS: Windows 7 Processor: Inter Core i7 Memory:...   \n",
       "26864  OS: Windows XP, Vista, 7, 8, 10 Processor: Int...   \n",
       "26865  OS: Windows 7, Windows 8, Windows 10 (32/64bit...   \n",
       "26866  OS: Windows XP or later Processor: 1.5 GHz Mem...   \n",
       "26867  OS: Windows XP or later Processor: 2 GHz Memor...   \n",
       "\n",
       "                                             recommended steam_appid_y  \\\n",
       "0                                                    NaN            10   \n",
       "1                                                    NaN            30   \n",
       "2                                                    NaN            50   \n",
       "3                                                    NaN            70   \n",
       "4                                                    NaN            80   \n",
       "...                                                  ...           ...   \n",
       "26863                                                NaN       1065230   \n",
       "26864                                                NaN       1065570   \n",
       "26865                                                NaN       1065650   \n",
       "26866  OS: Windows 7 or later Processor: 1.5 GHz Memo...       1066700   \n",
       "26867  OS: Windows 7 or later Processor: 4 GHZ proces...       1069460   \n",
       "\n",
       "                                             website  \\\n",
       "0                                                NaN   \n",
       "1                        http://www.dayofdefeat.com/   \n",
       "2                                                NaN   \n",
       "3                          http://www.half-life.com/   \n",
       "4                                                NaN   \n",
       "...                                              ...   \n",
       "26863                                            NaN   \n",
       "26864                                            NaN   \n",
       "26865        http://entwickler-x.de/super-star-blast   \n",
       "26866  https://steamcommunity.com/groups/alawargames   \n",
       "26867  https://steamcommunity.com/groups/alawargames   \n",
       "\n",
       "                                support_url            support_email  \n",
       "0          http://steamcommunity.com/app/10                      NaN  \n",
       "1                                       NaN                      NaN  \n",
       "2             https://help.steampowered.com                      NaN  \n",
       "3          http://steamcommunity.com/app/70                      NaN  \n",
       "4          http://steamcommunity.com/app/80                      NaN  \n",
       "...                                     ...                      ...  \n",
       "26863  https://goldlogsh.wixsite.com/myapps  zhang_frank@hotmail.com  \n",
       "26864                                   NaN      piziroggg@gmail.com  \n",
       "26865            http://www.entwickler-x.de     mail@entwickler-x.de  \n",
       "26866                 http://www.alawar.com         steam@alawar.com  \n",
       "26867                 http://www.alawar.com         steam@alawar.com  \n",
       "\n",
       "[26868 rows x 37 columns]"
      ],
      "text/html": "<div>\n<style scoped>\n    .dataframe tbody tr th:only-of-type {\n        vertical-align: middle;\n    }\n\n    .dataframe tbody tr th {\n        vertical-align: top;\n    }\n\n    .dataframe thead th {\n        text-align: right;\n    }\n</style>\n<table border=\"1\" class=\"dataframe\">\n  <thead>\n    <tr style=\"text-align: right;\">\n      <th></th>\n      <th>appid</th>\n      <th>name</th>\n      <th>release_date</th>\n      <th>english</th>\n      <th>developer</th>\n      <th>publisher</th>\n      <th>platforms</th>\n      <th>required_age</th>\n      <th>categories</th>\n      <th>genres</th>\n      <th>...</th>\n      <th>steam_appid_x</th>\n      <th>pc_requirements</th>\n      <th>mac_requirements</th>\n      <th>linux_requirements</th>\n      <th>minimum</th>\n      <th>recommended</th>\n      <th>steam_appid_y</th>\n      <th>website</th>\n      <th>support_url</th>\n      <th>support_email</th>\n    </tr>\n  </thead>\n  <tbody>\n    <tr>\n      <th>0</th>\n      <td>10</td>\n      <td>Counter-Strike</td>\n      <td>2000-11-01</td>\n      <td>1</td>\n      <td>Valve</td>\n      <td>Valve</td>\n      <td>windows;mac;linux</td>\n      <td>0</td>\n      <td>Multi-player;Online Multi-Player;Local Multi-P...</td>\n      <td>Action</td>\n      <td>...</td>\n      <td>10</td>\n      <td>{'minimum': '\\r\\n\\t\\t\\t&lt;p&gt;&lt;strong&gt;Minimum:&lt;/st...</td>\n      <td>{'minimum': 'Minimum: OS X  Snow Leopard 10.6....</td>\n      <td>{'minimum': 'Minimum: Linux Ubuntu 12.04, Dual...</td>\n      <td>500 mhz processor, 96mb ram, 16mb video card, ...</td>\n      <td>NaN</td>\n      <td>10</td>\n      <td>NaN</td>\n      <td>http://steamcommunity.com/app/10</td>\n      <td>NaN</td>\n    </tr>\n    <tr>\n      <th>1</th>\n      <td>30</td>\n      <td>Day of Defeat</td>\n      <td>2003-05-01</td>\n      <td>1</td>\n      <td>Valve</td>\n      <td>Valve</td>\n      <td>windows;mac;linux</td>\n      <td>0</td>\n      <td>Multi-player;Valve Anti-Cheat enabled</td>\n      <td>Action</td>\n      <td>...</td>\n      <td>30</td>\n      <td>{'minimum': '\\r\\n\\t\\t\\t&lt;p&gt;&lt;strong&gt;Minimum:&lt;/st...</td>\n      <td>{'minimum': 'Minimum: OS X  Snow Leopard 10.6....</td>\n      <td>{'minimum': 'Minimum: Linux Ubuntu 12.04, Dual...</td>\n      <td>500 mhz processor, 96mb ram, 16mb video card, ...</td>\n      <td>NaN</td>\n      <td>30</td>\n      <td>http://www.dayofdefeat.com/</td>\n      <td>NaN</td>\n      <td>NaN</td>\n    </tr>\n    <tr>\n      <th>2</th>\n      <td>50</td>\n      <td>Half-Life: Opposing Force</td>\n      <td>1999-11-01</td>\n      <td>1</td>\n      <td>Gearbox Software</td>\n      <td>Valve</td>\n      <td>windows;mac;linux</td>\n      <td>0</td>\n      <td>Single-player;Multi-player;Valve Anti-Cheat en...</td>\n      <td>Action</td>\n      <td>...</td>\n      <td>50</td>\n      <td>{'minimum': '\\r\\n\\t\\t\\t&lt;p&gt;&lt;strong&gt;Minimum:&lt;/st...</td>\n      <td>{'minimum': 'Minimum: OS X  Snow Leopard 10.6....</td>\n      <td>{'minimum': 'Minimum: Linux Ubuntu 12.04, Dual...</td>\n      <td>500 mhz processor, 96mb ram, 16mb video card, ...</td>\n      <td>NaN</td>\n      <td>50</td>\n      <td>NaN</td>\n      <td>https://help.steampowered.com</td>\n      <td>NaN</td>\n    </tr>\n    <tr>\n      <th>3</th>\n      <td>70</td>\n      <td>Half-Life</td>\n      <td>1998-11-08</td>\n      <td>1</td>\n      <td>Valve</td>\n      <td>Valve</td>\n      <td>windows;mac;linux</td>\n      <td>0</td>\n      <td>Single-player;Multi-player;Online Multi-Player...</td>\n      <td>Action</td>\n      <td>...</td>\n      <td>70</td>\n      <td>{'minimum': '\\r\\n\\t\\t\\t&lt;p&gt;&lt;strong&gt;Minimum:&lt;/st...</td>\n      <td>{'minimum': 'Minimum: OS X  Snow Leopard 10.6....</td>\n      <td>{'minimum': 'Minimum: Linux Ubuntu 12.04, Dual...</td>\n      <td>500 mhz processor, 96mb ram, 16mb video card, ...</td>\n      <td>NaN</td>\n      <td>70</td>\n      <td>http://www.half-life.com/</td>\n      <td>http://steamcommunity.com/app/70</td>\n      <td>NaN</td>\n    </tr>\n    <tr>\n      <th>4</th>\n      <td>80</td>\n      <td>Counter-Strike: Condition Zero</td>\n      <td>2004-03-01</td>\n      <td>1</td>\n      <td>Valve</td>\n      <td>Valve</td>\n      <td>windows;mac;linux</td>\n      <td>0</td>\n      <td>Single-player;Multi-player;Valve Anti-Cheat en...</td>\n      <td>Action</td>\n      <td>...</td>\n      <td>80</td>\n      <td>{'minimum': '\\r\\n\\t\\t\\t&lt;p&gt;&lt;strong&gt;Minimum:&lt;/st...</td>\n      <td>[]</td>\n      <td>[]</td>\n      <td>500 mhz processor, 96mb ram, 16mb video card, ...</td>\n      <td>NaN</td>\n      <td>80</td>\n      <td>NaN</td>\n      <td>http://steamcommunity.com/app/80</td>\n      <td>NaN</td>\n    </tr>\n    <tr>\n      <th>...</th>\n      <td>...</td>\n      <td>...</td>\n      <td>...</td>\n      <td>...</td>\n      <td>...</td>\n      <td>...</td>\n      <td>...</td>\n      <td>...</td>\n      <td>...</td>\n      <td>...</td>\n      <td>...</td>\n      <td>...</td>\n      <td>...</td>\n      <td>...</td>\n      <td>...</td>\n      <td>...</td>\n      <td>...</td>\n      <td>...</td>\n      <td>...</td>\n      <td>...</td>\n      <td>...</td>\n    </tr>\n    <tr>\n      <th>26863</th>\n      <td>1065230</td>\n      <td>Room of Pandora</td>\n      <td>2019-04-24</td>\n      <td>1</td>\n      <td>SHEN JIAWEI</td>\n      <td>SHEN JIAWEI</td>\n      <td>windows</td>\n      <td>0</td>\n      <td>Single-player;Steam Achievements</td>\n      <td>Adventure;Casual;Indie</td>\n      <td>...</td>\n      <td>1065230</td>\n      <td>{'minimum': '&lt;strong&gt;Minimum:&lt;/strong&gt;&lt;br&gt;&lt;ul ...</td>\n      <td>[]</td>\n      <td>[]</td>\n      <td>OS: Windows 7 Processor: Inter Core i7 Memory:...</td>\n      <td>NaN</td>\n      <td>1065230</td>\n      <td>NaN</td>\n      <td>https://goldlogsh.wixsite.com/myapps</td>\n      <td>zhang_frank@hotmail.com</td>\n    </tr>\n    <tr>\n      <th>26864</th>\n      <td>1065570</td>\n      <td>Cyber Gun</td>\n      <td>2019-04-23</td>\n      <td>1</td>\n      <td>Semyon Maximov</td>\n      <td>BekkerDev Studio</td>\n      <td>windows</td>\n      <td>0</td>\n      <td>Single-player</td>\n      <td>Action;Adventure;Indie</td>\n      <td>...</td>\n      <td>1065570</td>\n      <td>{'minimum': '&lt;strong&gt;Minimum:&lt;/strong&gt;&lt;br&gt;&lt;ul ...</td>\n      <td>[]</td>\n      <td>[]</td>\n      <td>OS: Windows XP, Vista, 7, 8, 10 Processor: Int...</td>\n      <td>NaN</td>\n      <td>1065570</td>\n      <td>NaN</td>\n      <td>NaN</td>\n      <td>piziroggg@gmail.com</td>\n    </tr>\n    <tr>\n      <th>26865</th>\n      <td>1065650</td>\n      <td>Super Star Blast</td>\n      <td>2019-04-24</td>\n      <td>1</td>\n      <td>EntwicklerX</td>\n      <td>EntwicklerX</td>\n      <td>windows</td>\n      <td>0</td>\n      <td>Single-player;Multi-player;Co-op;Shared/Split ...</td>\n      <td>Action;Casual;Indie</td>\n      <td>...</td>\n      <td>1065650</td>\n      <td>{'minimum': '&lt;strong&gt;Minimum:&lt;/strong&gt;&lt;br&gt;&lt;ul ...</td>\n      <td>[]</td>\n      <td>[]</td>\n      <td>OS: Windows 7, Windows 8, Windows 10 (32/64bit...</td>\n      <td>NaN</td>\n      <td>1065650</td>\n      <td>http://entwickler-x.de/super-star-blast</td>\n      <td>http://www.entwickler-x.de</td>\n      <td>mail@entwickler-x.de</td>\n    </tr>\n    <tr>\n      <th>26866</th>\n      <td>1066700</td>\n      <td>New Yankee 7: Deer Hunters</td>\n      <td>2019-04-17</td>\n      <td>1</td>\n      <td>Yustas Game Studio</td>\n      <td>Alawar Entertainment</td>\n      <td>windows;mac</td>\n      <td>0</td>\n      <td>Single-player;Steam Cloud</td>\n      <td>Adventure;Casual;Indie</td>\n      <td>...</td>\n      <td>1066700</td>\n      <td>{'minimum': '&lt;strong&gt;Minimum:&lt;/strong&gt;&lt;br&gt;&lt;ul ...</td>\n      <td>{'minimum': '&lt;strong&gt;Minimum:&lt;/strong&gt;&lt;br&gt;&lt;ul ...</td>\n      <td>[]</td>\n      <td>OS: Windows XP or later Processor: 1.5 GHz Mem...</td>\n      <td>OS: Windows 7 or later Processor: 1.5 GHz Memo...</td>\n      <td>1066700</td>\n      <td>https://steamcommunity.com/groups/alawargames</td>\n      <td>http://www.alawar.com</td>\n      <td>steam@alawar.com</td>\n    </tr>\n    <tr>\n      <th>26867</th>\n      <td>1069460</td>\n      <td>Rune Lord</td>\n      <td>2019-04-24</td>\n      <td>1</td>\n      <td>Adept Studios GD</td>\n      <td>Alawar Entertainment</td>\n      <td>windows;mac</td>\n      <td>0</td>\n      <td>Single-player;Steam Cloud</td>\n      <td>Adventure;Casual;Indie</td>\n      <td>...</td>\n      <td>1069460</td>\n      <td>{'minimum': '&lt;strong&gt;Minimum:&lt;/strong&gt;&lt;br&gt;&lt;ul ...</td>\n      <td>{'minimum': '&lt;strong&gt;Minimum:&lt;/strong&gt;&lt;br&gt;&lt;ul ...</td>\n      <td>[]</td>\n      <td>OS: Windows XP or later Processor: 2 GHz Memor...</td>\n      <td>OS: Windows 7 or later Processor: 4 GHZ proces...</td>\n      <td>1069460</td>\n      <td>https://steamcommunity.com/groups/alawargames</td>\n      <td>http://www.alawar.com</td>\n      <td>steam@alawar.com</td>\n    </tr>\n  </tbody>\n</table>\n<p>26868 rows × 37 columns</p>\n</div>"
     },
     "metadata": {},
     "execution_count": 9
    }
   ],
   "source": [
    "steam_1"
   ]
  },
  {
   "cell_type": "code",
   "execution_count": 10,
   "metadata": {},
   "outputs": [],
   "source": [
    "steam_df = steam_1[['name', 'english', 'categories', 'genres', 'short_description']]"
   ]
  },
  {
   "cell_type": "code",
   "execution_count": 11,
   "metadata": {},
   "outputs": [],
   "source": [
    "steam_df.categories = steam_df.categories.apply(lambda x : x.split(';'))\n",
    "steam_df['categories_literal'] = steam_df.categories.apply(lambda x : (' ').join(x))\n",
    "steam_df.genres = steam_df.genres.apply(lambda x : x.split(';'))\n",
    "steam_df['genres_literal'] = steam_df.genres.apply(lambda x : (' ').join(x))\n"
   ]
  },
  {
   "cell_type": "code",
   "execution_count": 12,
   "metadata": {},
   "outputs": [],
   "source": [
    "steam_df.drop(['categories', 'genres'], axis=1, inplace=True)"
   ]
  },
  {
   "cell_type": "code",
   "execution_count": 13,
   "metadata": {},
   "outputs": [
    {
     "output_type": "execute_result",
     "data": {
      "text/plain": [
       "                                 name  english  \\\n",
       "0                      Counter-Strike        1   \n",
       "1                       Day of Defeat        1   \n",
       "2           Half-Life: Opposing Force        1   \n",
       "3                           Half-Life        1   \n",
       "4      Counter-Strike: Condition Zero        1   \n",
       "...                               ...      ...   \n",
       "26863                 Room of Pandora        1   \n",
       "26864                       Cyber Gun        1   \n",
       "26865                Super Star Blast        1   \n",
       "26866      New Yankee 7: Deer Hunters        1   \n",
       "26867                       Rune Lord        1   \n",
       "\n",
       "                                       short_description  \\\n",
       "0      Play the world's number 1 online action game. ...   \n",
       "1      Enlist in an intense brand of Axis vs. Allied ...   \n",
       "2      Return to the Black Mesa Research Facility as ...   \n",
       "3      Named Game of the Year by over 50 publications...   \n",
       "4      With its extensive Tour of Duty campaign, a ne...   \n",
       "...                                                  ...   \n",
       "26863  The Room of Pandora is a third-person interact...   \n",
       "26864  Cyber Gun is a hardcore first-person shooter w...   \n",
       "26865  Super Star Blast is a space based game with ch...   \n",
       "26866  Pursue a snow-white deer through an enchanted ...   \n",
       "26867  A portal has opened and dark magic is pouring ...   \n",
       "\n",
       "                                      categories_literal  \\\n",
       "0      Multi-player Online Multi-Player Local Multi-P...   \n",
       "1                  Multi-player Valve Anti-Cheat enabled   \n",
       "2      Single-player Multi-player Valve Anti-Cheat en...   \n",
       "3      Single-player Multi-player Online Multi-Player...   \n",
       "4      Single-player Multi-player Valve Anti-Cheat en...   \n",
       "...                                                  ...   \n",
       "26863                   Single-player Steam Achievements   \n",
       "26864                                      Single-player   \n",
       "26865  Single-player Multi-player Co-op Shared/Split ...   \n",
       "26866                          Single-player Steam Cloud   \n",
       "26867                          Single-player Steam Cloud   \n",
       "\n",
       "               genres_literal  \n",
       "0                      Action  \n",
       "1                      Action  \n",
       "2                      Action  \n",
       "3                      Action  \n",
       "4                      Action  \n",
       "...                       ...  \n",
       "26863  Adventure Casual Indie  \n",
       "26864  Action Adventure Indie  \n",
       "26865     Action Casual Indie  \n",
       "26866  Adventure Casual Indie  \n",
       "26867  Adventure Casual Indie  \n",
       "\n",
       "[26868 rows x 5 columns]"
      ],
      "text/html": "<div>\n<style scoped>\n    .dataframe tbody tr th:only-of-type {\n        vertical-align: middle;\n    }\n\n    .dataframe tbody tr th {\n        vertical-align: top;\n    }\n\n    .dataframe thead th {\n        text-align: right;\n    }\n</style>\n<table border=\"1\" class=\"dataframe\">\n  <thead>\n    <tr style=\"text-align: right;\">\n      <th></th>\n      <th>name</th>\n      <th>english</th>\n      <th>short_description</th>\n      <th>categories_literal</th>\n      <th>genres_literal</th>\n    </tr>\n  </thead>\n  <tbody>\n    <tr>\n      <th>0</th>\n      <td>Counter-Strike</td>\n      <td>1</td>\n      <td>Play the world's number 1 online action game. ...</td>\n      <td>Multi-player Online Multi-Player Local Multi-P...</td>\n      <td>Action</td>\n    </tr>\n    <tr>\n      <th>1</th>\n      <td>Day of Defeat</td>\n      <td>1</td>\n      <td>Enlist in an intense brand of Axis vs. Allied ...</td>\n      <td>Multi-player Valve Anti-Cheat enabled</td>\n      <td>Action</td>\n    </tr>\n    <tr>\n      <th>2</th>\n      <td>Half-Life: Opposing Force</td>\n      <td>1</td>\n      <td>Return to the Black Mesa Research Facility as ...</td>\n      <td>Single-player Multi-player Valve Anti-Cheat en...</td>\n      <td>Action</td>\n    </tr>\n    <tr>\n      <th>3</th>\n      <td>Half-Life</td>\n      <td>1</td>\n      <td>Named Game of the Year by over 50 publications...</td>\n      <td>Single-player Multi-player Online Multi-Player...</td>\n      <td>Action</td>\n    </tr>\n    <tr>\n      <th>4</th>\n      <td>Counter-Strike: Condition Zero</td>\n      <td>1</td>\n      <td>With its extensive Tour of Duty campaign, a ne...</td>\n      <td>Single-player Multi-player Valve Anti-Cheat en...</td>\n      <td>Action</td>\n    </tr>\n    <tr>\n      <th>...</th>\n      <td>...</td>\n      <td>...</td>\n      <td>...</td>\n      <td>...</td>\n      <td>...</td>\n    </tr>\n    <tr>\n      <th>26863</th>\n      <td>Room of Pandora</td>\n      <td>1</td>\n      <td>The Room of Pandora is a third-person interact...</td>\n      <td>Single-player Steam Achievements</td>\n      <td>Adventure Casual Indie</td>\n    </tr>\n    <tr>\n      <th>26864</th>\n      <td>Cyber Gun</td>\n      <td>1</td>\n      <td>Cyber Gun is a hardcore first-person shooter w...</td>\n      <td>Single-player</td>\n      <td>Action Adventure Indie</td>\n    </tr>\n    <tr>\n      <th>26865</th>\n      <td>Super Star Blast</td>\n      <td>1</td>\n      <td>Super Star Blast is a space based game with ch...</td>\n      <td>Single-player Multi-player Co-op Shared/Split ...</td>\n      <td>Action Casual Indie</td>\n    </tr>\n    <tr>\n      <th>26866</th>\n      <td>New Yankee 7: Deer Hunters</td>\n      <td>1</td>\n      <td>Pursue a snow-white deer through an enchanted ...</td>\n      <td>Single-player Steam Cloud</td>\n      <td>Adventure Casual Indie</td>\n    </tr>\n    <tr>\n      <th>26867</th>\n      <td>Rune Lord</td>\n      <td>1</td>\n      <td>A portal has opened and dark magic is pouring ...</td>\n      <td>Single-player Steam Cloud</td>\n      <td>Adventure Casual Indie</td>\n    </tr>\n  </tbody>\n</table>\n<p>26868 rows × 5 columns</p>\n</div>"
     },
     "metadata": {},
     "execution_count": 13
    }
   ],
   "source": [
    "steam_df"
   ]
  },
  {
   "cell_type": "code",
   "execution_count": 14,
   "metadata": {},
   "outputs": [],
   "source": [
    "steam_df['literal'] = steam_df['categories_literal'] + \" \" + steam_df['genres_literal']"
   ]
  },
  {
   "cell_type": "code",
   "execution_count": 15,
   "metadata": {},
   "outputs": [
    {
     "output_type": "execute_result",
     "data": {
      "text/plain": [
       "                                 name  english  \\\n",
       "0                      Counter-Strike        1   \n",
       "1                       Day of Defeat        1   \n",
       "2           Half-Life: Opposing Force        1   \n",
       "3                           Half-Life        1   \n",
       "4      Counter-Strike: Condition Zero        1   \n",
       "...                               ...      ...   \n",
       "26863                 Room of Pandora        1   \n",
       "26864                       Cyber Gun        1   \n",
       "26865                Super Star Blast        1   \n",
       "26866      New Yankee 7: Deer Hunters        1   \n",
       "26867                       Rune Lord        1   \n",
       "\n",
       "                                       short_description  \\\n",
       "0      Play the world's number 1 online action game. ...   \n",
       "1      Enlist in an intense brand of Axis vs. Allied ...   \n",
       "2      Return to the Black Mesa Research Facility as ...   \n",
       "3      Named Game of the Year by over 50 publications...   \n",
       "4      With its extensive Tour of Duty campaign, a ne...   \n",
       "...                                                  ...   \n",
       "26863  The Room of Pandora is a third-person interact...   \n",
       "26864  Cyber Gun is a hardcore first-person shooter w...   \n",
       "26865  Super Star Blast is a space based game with ch...   \n",
       "26866  Pursue a snow-white deer through an enchanted ...   \n",
       "26867  A portal has opened and dark magic is pouring ...   \n",
       "\n",
       "                                      categories_literal  \\\n",
       "0      Multi-player Online Multi-Player Local Multi-P...   \n",
       "1                  Multi-player Valve Anti-Cheat enabled   \n",
       "2      Single-player Multi-player Valve Anti-Cheat en...   \n",
       "3      Single-player Multi-player Online Multi-Player...   \n",
       "4      Single-player Multi-player Valve Anti-Cheat en...   \n",
       "...                                                  ...   \n",
       "26863                   Single-player Steam Achievements   \n",
       "26864                                      Single-player   \n",
       "26865  Single-player Multi-player Co-op Shared/Split ...   \n",
       "26866                          Single-player Steam Cloud   \n",
       "26867                          Single-player Steam Cloud   \n",
       "\n",
       "               genres_literal  \\\n",
       "0                      Action   \n",
       "1                      Action   \n",
       "2                      Action   \n",
       "3                      Action   \n",
       "4                      Action   \n",
       "...                       ...   \n",
       "26863  Adventure Casual Indie   \n",
       "26864  Action Adventure Indie   \n",
       "26865     Action Casual Indie   \n",
       "26866  Adventure Casual Indie   \n",
       "26867  Adventure Casual Indie   \n",
       "\n",
       "                                                 literal  \n",
       "0      Multi-player Online Multi-Player Local Multi-P...  \n",
       "1           Multi-player Valve Anti-Cheat enabled Action  \n",
       "2      Single-player Multi-player Valve Anti-Cheat en...  \n",
       "3      Single-player Multi-player Online Multi-Player...  \n",
       "4      Single-player Multi-player Valve Anti-Cheat en...  \n",
       "...                                                  ...  \n",
       "26863  Single-player Steam Achievements Adventure Cas...  \n",
       "26864               Single-player Action Adventure Indie  \n",
       "26865  Single-player Multi-player Co-op Shared/Split ...  \n",
       "26866   Single-player Steam Cloud Adventure Casual Indie  \n",
       "26867   Single-player Steam Cloud Adventure Casual Indie  \n",
       "\n",
       "[26868 rows x 6 columns]"
      ],
      "text/html": "<div>\n<style scoped>\n    .dataframe tbody tr th:only-of-type {\n        vertical-align: middle;\n    }\n\n    .dataframe tbody tr th {\n        vertical-align: top;\n    }\n\n    .dataframe thead th {\n        text-align: right;\n    }\n</style>\n<table border=\"1\" class=\"dataframe\">\n  <thead>\n    <tr style=\"text-align: right;\">\n      <th></th>\n      <th>name</th>\n      <th>english</th>\n      <th>short_description</th>\n      <th>categories_literal</th>\n      <th>genres_literal</th>\n      <th>literal</th>\n    </tr>\n  </thead>\n  <tbody>\n    <tr>\n      <th>0</th>\n      <td>Counter-Strike</td>\n      <td>1</td>\n      <td>Play the world's number 1 online action game. ...</td>\n      <td>Multi-player Online Multi-Player Local Multi-P...</td>\n      <td>Action</td>\n      <td>Multi-player Online Multi-Player Local Multi-P...</td>\n    </tr>\n    <tr>\n      <th>1</th>\n      <td>Day of Defeat</td>\n      <td>1</td>\n      <td>Enlist in an intense brand of Axis vs. Allied ...</td>\n      <td>Multi-player Valve Anti-Cheat enabled</td>\n      <td>Action</td>\n      <td>Multi-player Valve Anti-Cheat enabled Action</td>\n    </tr>\n    <tr>\n      <th>2</th>\n      <td>Half-Life: Opposing Force</td>\n      <td>1</td>\n      <td>Return to the Black Mesa Research Facility as ...</td>\n      <td>Single-player Multi-player Valve Anti-Cheat en...</td>\n      <td>Action</td>\n      <td>Single-player Multi-player Valve Anti-Cheat en...</td>\n    </tr>\n    <tr>\n      <th>3</th>\n      <td>Half-Life</td>\n      <td>1</td>\n      <td>Named Game of the Year by over 50 publications...</td>\n      <td>Single-player Multi-player Online Multi-Player...</td>\n      <td>Action</td>\n      <td>Single-player Multi-player Online Multi-Player...</td>\n    </tr>\n    <tr>\n      <th>4</th>\n      <td>Counter-Strike: Condition Zero</td>\n      <td>1</td>\n      <td>With its extensive Tour of Duty campaign, a ne...</td>\n      <td>Single-player Multi-player Valve Anti-Cheat en...</td>\n      <td>Action</td>\n      <td>Single-player Multi-player Valve Anti-Cheat en...</td>\n    </tr>\n    <tr>\n      <th>...</th>\n      <td>...</td>\n      <td>...</td>\n      <td>...</td>\n      <td>...</td>\n      <td>...</td>\n      <td>...</td>\n    </tr>\n    <tr>\n      <th>26863</th>\n      <td>Room of Pandora</td>\n      <td>1</td>\n      <td>The Room of Pandora is a third-person interact...</td>\n      <td>Single-player Steam Achievements</td>\n      <td>Adventure Casual Indie</td>\n      <td>Single-player Steam Achievements Adventure Cas...</td>\n    </tr>\n    <tr>\n      <th>26864</th>\n      <td>Cyber Gun</td>\n      <td>1</td>\n      <td>Cyber Gun is a hardcore first-person shooter w...</td>\n      <td>Single-player</td>\n      <td>Action Adventure Indie</td>\n      <td>Single-player Action Adventure Indie</td>\n    </tr>\n    <tr>\n      <th>26865</th>\n      <td>Super Star Blast</td>\n      <td>1</td>\n      <td>Super Star Blast is a space based game with ch...</td>\n      <td>Single-player Multi-player Co-op Shared/Split ...</td>\n      <td>Action Casual Indie</td>\n      <td>Single-player Multi-player Co-op Shared/Split ...</td>\n    </tr>\n    <tr>\n      <th>26866</th>\n      <td>New Yankee 7: Deer Hunters</td>\n      <td>1</td>\n      <td>Pursue a snow-white deer through an enchanted ...</td>\n      <td>Single-player Steam Cloud</td>\n      <td>Adventure Casual Indie</td>\n      <td>Single-player Steam Cloud Adventure Casual Indie</td>\n    </tr>\n    <tr>\n      <th>26867</th>\n      <td>Rune Lord</td>\n      <td>1</td>\n      <td>A portal has opened and dark magic is pouring ...</td>\n      <td>Single-player Steam Cloud</td>\n      <td>Adventure Casual Indie</td>\n      <td>Single-player Steam Cloud Adventure Casual Indie</td>\n    </tr>\n  </tbody>\n</table>\n<p>26868 rows × 6 columns</p>\n</div>"
     },
     "metadata": {},
     "execution_count": 15
    }
   ],
   "source": [
    "steam_df"
   ]
  },
  {
   "cell_type": "code",
   "execution_count": 16,
   "metadata": {},
   "outputs": [
    {
     "output_type": "stream",
     "name": "stdout",
     "text": [
      "(26868, 732)\n"
     ]
    }
   ],
   "source": [
    "from sklearn.feature_extraction.text import CountVectorizer\n",
    "\n",
    "count_vect = CountVectorizer(min_df=0, ngram_range=(1,2))\n",
    "genre_mat = count_vect.fit_transform(steam_df['literal'])\n",
    "print(genre_mat.shape)"
   ]
  },
  {
   "cell_type": "code",
   "execution_count": 17,
   "metadata": {},
   "outputs": [
    {
     "output_type": "stream",
     "name": "stdout",
     "text": [
      "(26868, 26868)\n[[1.         0.80361438 0.76968257 ... 0.30961158 0.12688648 0.12688648]\n [0.80361438 1.         0.89079867 ... 0.21657404 0.07692308 0.07692308]]\n"
     ]
    }
   ],
   "source": [
    "from sklearn.metrics.pairwise import cosine_similarity\n",
    "\n",
    "genre_sim = cosine_similarity(genre_mat, genre_mat)\n",
    "print(genre_sim.shape)\n",
    "print(genre_sim[:2])"
   ]
  },
  {
   "cell_type": "code",
   "execution_count": 18,
   "metadata": {},
   "outputs": [
    {
     "output_type": "execute_result",
     "data": {
      "text/plain": [
       "array([[    0,     3, 24732, ..., 25770, 22783, 25661],\n",
       "       [    1,     4,     2, ...,  4155,  8272, 25457],\n",
       "       [    4,     2,    34, ..., 25417,  4912, 16326],\n",
       "       ...,\n",
       "       [26865,  5230,  6665, ...,  1880,  5878, 22812],\n",
       "       [26867, 26842, 26866, ..., 25132, 13162,  5033],\n",
       "       [26867, 26842, 26866, ..., 25132, 13162,  5033]], dtype=int64)"
      ]
     },
     "metadata": {},
     "execution_count": 18
    }
   ],
   "source": [
    "genre_sim_sorted_ind = genre_sim.argsort()[:, ::-1]\n",
    "genre_sim_sorted_ind"
   ]
  },
  {
   "cell_type": "code",
   "execution_count": 19,
   "metadata": {},
   "outputs": [],
   "source": [
    "def find_sim_game(df, sorted_ind, title_name, top_n=10):\n",
    "    title_game = df[df['name'] == title_name]\n",
    "\n",
    "    title_index = title_game.index.values\n",
    "    similar_indexes = sorted_ind[title_index, :(top_n)]\n",
    "\n",
    "    print(similar_indexes)\n",
    "    similar_indexes = similar_indexes.reshape(-1)\n",
    "\n",
    "    return df.iloc[similar_indexes]"
   ]
  },
  {
   "cell_type": "code",
   "execution_count": 20,
   "metadata": {},
   "outputs": [
    {
     "output_type": "stream",
     "name": "stdout",
     "text": [
      "[[    0     3 24732   100  1017 17469 13723 17028     1 22790]]\n"
     ]
    },
    {
     "output_type": "execute_result",
     "data": {
      "text/plain": [
       "                                 name  \\\n",
       "0                      Counter-Strike   \n",
       "3                           Half-Life   \n",
       "24732                        PRATAGON   \n",
       "100    Cossacks II: Battle for Europe   \n",
       "1017     Cossacks II: Napoleonic Wars   \n",
       "17469  Fatal Velocity: Physics Combat   \n",
       "13723    Shogo: Mobile Armor Division   \n",
       "17028                 The Broken Seal   \n",
       "1                       Day of Defeat   \n",
       "22790               Dragon`s Checkers   \n",
       "\n",
       "                                                 literal  \n",
       "0      Multi-player Online Multi-Player Local Multi-P...  \n",
       "3      Single-player Multi-player Online Multi-Player...  \n",
       "24732  Single-player Multi-player Online Multi-Player...  \n",
       "100    Single-player Multi-player Online Multi-Player...  \n",
       "1017   Single-player Multi-player Online Multi-Player...  \n",
       "17469  Multi-player Online Multi-Player Local Multi-P...  \n",
       "13723  Single-player Multi-player Online Multi-Player...  \n",
       "17028  Single-player Multi-player Online Multi-Player...  \n",
       "1           Multi-player Valve Anti-Cheat enabled Action  \n",
       "22790  Single-player Multi-player Online Multi-Player...  "
      ],
      "text/html": "<div>\n<style scoped>\n    .dataframe tbody tr th:only-of-type {\n        vertical-align: middle;\n    }\n\n    .dataframe tbody tr th {\n        vertical-align: top;\n    }\n\n    .dataframe thead th {\n        text-align: right;\n    }\n</style>\n<table border=\"1\" class=\"dataframe\">\n  <thead>\n    <tr style=\"text-align: right;\">\n      <th></th>\n      <th>name</th>\n      <th>literal</th>\n    </tr>\n  </thead>\n  <tbody>\n    <tr>\n      <th>0</th>\n      <td>Counter-Strike</td>\n      <td>Multi-player Online Multi-Player Local Multi-P...</td>\n    </tr>\n    <tr>\n      <th>3</th>\n      <td>Half-Life</td>\n      <td>Single-player Multi-player Online Multi-Player...</td>\n    </tr>\n    <tr>\n      <th>24732</th>\n      <td>PRATAGON</td>\n      <td>Single-player Multi-player Online Multi-Player...</td>\n    </tr>\n    <tr>\n      <th>100</th>\n      <td>Cossacks II: Battle for Europe</td>\n      <td>Single-player Multi-player Online Multi-Player...</td>\n    </tr>\n    <tr>\n      <th>1017</th>\n      <td>Cossacks II: Napoleonic Wars</td>\n      <td>Single-player Multi-player Online Multi-Player...</td>\n    </tr>\n    <tr>\n      <th>17469</th>\n      <td>Fatal Velocity: Physics Combat</td>\n      <td>Multi-player Online Multi-Player Local Multi-P...</td>\n    </tr>\n    <tr>\n      <th>13723</th>\n      <td>Shogo: Mobile Armor Division</td>\n      <td>Single-player Multi-player Online Multi-Player...</td>\n    </tr>\n    <tr>\n      <th>17028</th>\n      <td>The Broken Seal</td>\n      <td>Single-player Multi-player Online Multi-Player...</td>\n    </tr>\n    <tr>\n      <th>1</th>\n      <td>Day of Defeat</td>\n      <td>Multi-player Valve Anti-Cheat enabled Action</td>\n    </tr>\n    <tr>\n      <th>22790</th>\n      <td>Dragon`s Checkers</td>\n      <td>Single-player Multi-player Online Multi-Player...</td>\n    </tr>\n  </tbody>\n</table>\n</div>"
     },
     "metadata": {},
     "execution_count": 20
    }
   ],
   "source": [
    "sim_games = find_sim_game(steam_df, genre_sim_sorted_ind, 'Counter-Strike', 10)\n",
    "sim_games[['name', 'literal']]"
   ]
  },
  {
   "cell_type": "code",
   "execution_count": null,
   "metadata": {},
   "outputs": [],
   "source": []
  },
  {
   "cell_type": "code",
   "execution_count": null,
   "metadata": {},
   "outputs": [],
   "source": []
  },
  {
   "cell_type": "code",
   "execution_count": null,
   "metadata": {},
   "outputs": [],
   "source": []
  },
  {
   "cell_type": "code",
   "execution_count": null,
   "metadata": {},
   "outputs": [],
   "source": []
  },
  {
   "cell_type": "code",
   "execution_count": null,
   "metadata": {},
   "outputs": [],
   "source": []
  },
  {
   "cell_type": "code",
   "execution_count": null,
   "metadata": {},
   "outputs": [],
   "source": []
  },
  {
   "cell_type": "code",
   "execution_count": null,
   "metadata": {},
   "outputs": [],
   "source": []
  },
  {
   "cell_type": "code",
   "execution_count": null,
   "metadata": {},
   "outputs": [],
   "source": []
  },
  {
   "cell_type": "code",
   "execution_count": null,
   "metadata": {},
   "outputs": [],
   "source": []
  },
  {
   "cell_type": "code",
   "execution_count": null,
   "metadata": {},
   "outputs": [],
   "source": []
  },
  {
   "cell_type": "code",
   "execution_count": null,
   "metadata": {},
   "outputs": [],
   "source": []
  },
  {
   "cell_type": "code",
   "execution_count": null,
   "metadata": {},
   "outputs": [],
   "source": []
  },
  {
   "cell_type": "code",
   "execution_count": null,
   "metadata": {},
   "outputs": [],
   "source": []
  },
  {
   "cell_type": "code",
   "execution_count": null,
   "metadata": {},
   "outputs": [],
   "source": []
  },
  {
   "cell_type": "code",
   "execution_count": null,
   "metadata": {},
   "outputs": [],
   "source": []
  },
  {
   "cell_type": "code",
   "execution_count": null,
   "metadata": {},
   "outputs": [],
   "source": []
  },
  {
   "cell_type": "code",
   "execution_count": null,
   "metadata": {},
   "outputs": [],
   "source": []
  },
  {
   "cell_type": "code",
   "execution_count": null,
   "metadata": {},
   "outputs": [],
   "source": []
  },
  {
   "cell_type": "code",
   "execution_count": null,
   "metadata": {},
   "outputs": [],
   "source": []
  },
  {
   "cell_type": "code",
   "execution_count": null,
   "metadata": {},
   "outputs": [],
   "source": []
  }
 ]
}