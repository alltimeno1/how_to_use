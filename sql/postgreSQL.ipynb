{
 "metadata": {
  "language_info": {
   "codemirror_mode": {
    "name": "ipython",
    "version": 3
   },
   "file_extension": ".py",
   "mimetype": "text/x-python",
   "name": "python",
   "nbconvert_exporter": "python",
   "pygments_lexer": "ipython3",
   "version": "3.8.3-final"
  },
  "orig_nbformat": 2,
  "kernelspec": {
   "name": "python3",
   "display_name": "Python 3.8.3 64-bit (conda)",
   "metadata": {
    "interpreter": {
     "hash": "b8551cc035c1c2f6dedf9d5ec53b374a5a45998e7f7ea517665a27e1156275b6"
    }
   }
  }
 },
 "nbformat": 4,
 "nbformat_minor": 2,
 "cells": [
  {
   "cell_type": "code",
   "execution_count": 2,
   "metadata": {},
   "outputs": [],
   "source": [
    "import psycopg2"
   ]
  },
  {
   "cell_type": "code",
   "execution_count": 3,
   "metadata": {},
   "outputs": [],
   "source": [
    "conn_string = \"host='localhost' dbname ='dvdrental' user='postgres' password='wns123'\"\n",
    "conn = psycopg2.connect(conn_string)\n",
    "cur = conn.cursor()"
   ]
  },
  {
   "cell_type": "code",
   "execution_count": 4,
   "metadata": {},
   "outputs": [
    {
     "output_type": "execute_result",
     "data": {
      "text/plain": [
       "[(17857,\n",
       "  434,\n",
       "  1,\n",
       "  1225,\n",
       "  Decimal('0.99'),\n",
       "  datetime.datetime(2007, 2, 15, 2, 14, 1, 996577)),\n",
       " (17901,\n",
       "  447,\n",
       "  2,\n",
       "  1230,\n",
       "  Decimal('0.99'),\n",
       "  datetime.datetime(2007, 2, 15, 2, 32, 35, 996577))]"
      ]
     },
     "metadata": {},
     "execution_count": 4
    }
   ],
   "source": [
    "cur.execute(\n",
    "    \"SELECT * FROM payment WHERE amount <= 1 OR amount >= 8 ORDER BY payment_date OFFSET 10 ROWS FETCH FIRST 10 ROWS ONLY\"\n",
    "    )\n",
    "result = cur.fetchall()\n",
    "result[:2]"
   ]
  },
  {
   "cell_type": "code",
   "execution_count": 5,
   "metadata": {},
   "outputs": [
    {
     "output_type": "execute_result",
     "data": {
      "text/plain": [
       "[(2, 15145, datetime.datetime(2005, 8, 31, 15, 51, 4)),\n",
       " (1, 15315, datetime.datetime(2005, 8, 30, 1, 51, 46))]"
      ]
     },
     "metadata": {},
     "execution_count": 5
    }
   ],
   "source": [
    "cur.execute(\n",
    "    \"SELECT customer_id, rental_id, return_date \\\n",
    "    FROM rental \\\n",
    "    WHERE customer_id IN (1,2) \\\n",
    "    ORDER BY return_date DESC;\"\n",
    "    )\n",
    "result = cur.fetchall()\n",
    "result[:2]"
   ]
  },
  {
   "cell_type": "code",
   "execution_count": 6,
   "metadata": {},
   "outputs": [
    {
     "output_type": "execute_result",
     "data": {
      "text/plain": [
       "[('Pamela', 'Baker'), ('Frances', 'Parker')]"
      ]
     },
     "metadata": {},
     "execution_count": 6
    }
   ],
   "source": [
    "cur.execute(\n",
    "    \"SELECT first_name, last_name FROM customer \\\n",
    "    WHERE customer_id IN \\\n",
    "    (SELECT customer_id \\\n",
    "    FROM rental \\\n",
    "    WHERE CAST (return_date AS date) = '2005-05-27');\"\n",
    "    )\n",
    "result = cur.fetchall()\n",
    "result[:2]"
   ]
  },
  {
   "cell_type": "code",
   "execution_count": 7,
   "metadata": {},
   "outputs": [
    {
     "output_type": "execute_result",
     "data": {
      "text/plain": [
       "[(17503,\n",
       "  datetime.datetime(2007, 2, 15, 22, 25, 46, 996577),\n",
       "  '2007-02-15-10',\n",
       "  datetime.date(2007, 2, 15)),\n",
       " (17519,\n",
       "  datetime.datetime(2007, 2, 15, 10, 54, 44, 996577),\n",
       "  '2007-02-15-10',\n",
       "  datetime.date(2007, 2, 15))]"
      ]
     },
     "metadata": {},
     "execution_count": 7
    }
   ],
   "source": [
    "cur.execute(\n",
    "    \"SELECT payment_id, payment_date, to_char(payment_date, 'yyyy-mm-dd-hh') AS date, cast(payment_date AS date) \\\n",
    "    FROM payment \\\n",
    "    WHERE to_char(payment_date, 'yyyy-mm-dd') BETWEEN '2007-02-07' AND '2007-02-15';\"\n",
    "    )\n",
    "result = cur.fetchall()\n",
    "result[:2]"
   ]
  },
  {
   "cell_type": "code",
   "execution_count": 8,
   "metadata": {},
   "outputs": [
    {
     "output_type": "execute_result",
     "data": {
      "text/plain": [
       "[(17503,\n",
       "  datetime.datetime(2007, 2, 15, 22, 25, 46, 996577),\n",
       "  '2007-02-15-10',\n",
       "  datetime.date(2007, 2, 15)),\n",
       " (17519,\n",
       "  datetime.datetime(2007, 2, 15, 10, 54, 44, 996577),\n",
       "  '2007-02-15-10',\n",
       "  datetime.date(2007, 2, 15))]"
      ]
     },
     "metadata": {},
     "execution_count": 8
    }
   ],
   "source": [
    "cur.execute(\n",
    "    \"SELECT payment_id, payment_date, to_char(payment_date, 'yyyy-mm-dd-hh') AS date, cast(payment_date AS date) \\\n",
    "    FROM payment \\\n",
    "    WHERE to_char(payment_date, 'yyyy-mm-dd') BETWEEN '2007-02-07' AND '2007-02-15';\"\n",
    "    )\n",
    "result = cur.fetchall()\n",
    "result[:2]"
   ]
  },
  {
   "cell_type": "code",
   "execution_count": 10,
   "metadata": {},
   "outputs": [
    {
     "output_type": "execute_result",
     "data": {
      "text/plain": [
       "[('Anna Reeves', 'Ava Christensen'), ('Sau Norman', 'Ava Christensen')]"
      ]
     },
     "metadata": {},
     "execution_count": 10
    }
   ],
   "source": [
    "cur.execute(\n",
    "    \"SELECT e.first_name || ' ' ||e.last_name employee,\\\n",
    "    m.first_name || ' ' ||m.last_name manager \\\n",
    "    FROM employee e \\\n",
    "    LEFT  JOIN employee m \\\n",
    "    ON m.employee_id = e.manager_id \\\n",
    "    ORDER BY manager\"\n",
    "    )\n",
    "result = cur.fetchall()\n",
    "result[:2]"
   ]
  },
  {
   "cell_type": "code",
   "execution_count": 14,
   "metadata": {},
   "outputs": [
    {
     "output_type": "error",
     "ename": "InterfaceError",
     "evalue": "cursor already closed",
     "traceback": [
      "\u001b[1;31m---------------------------------------------------------------------------\u001b[0m",
      "\u001b[1;31mInterfaceError\u001b[0m                            Traceback (most recent call last)",
      "\u001b[1;32m<ipython-input-14-a65f35a6f4fe>\u001b[0m in \u001b[0;36m<module>\u001b[1;34m\u001b[0m\n\u001b[1;32m----> 1\u001b[1;33m cur.execute(\n\u001b[0m\u001b[0;32m      2\u001b[0m     \u001b[0;31m\"\u001b[0m\u001b[0mSELECT\u001b[0m \u001b[0msum\u001b[0m\u001b[1;33m(\u001b[0m\u001b[0mamount\u001b[0m\u001b[1;33m)\u001b[0m \u001b[0mAS\u001b[0m \u001b[0mtotal\u001b[0m\u001b[1;33m,\u001b[0m \u001b[0mb\u001b[0m\u001b[1;33m.\u001b[0m\u001b[0mcustomer_id\u001b[0m\u001b[1;33m,\u001b[0m \u001b[0mb\u001b[0m\u001b[1;33m.\u001b[0m\u001b[0mfirst_name\u001b[0m\u001b[1;33m,\u001b[0m \u001b[0mb\u001b[0m\u001b[1;33m.\u001b[0m\u001b[0mlast_name\u001b[0m\u001b[0;31m \u001b[0m\u001b[0;31m\\\u001b[0m\u001b[1;33m\u001b[0m\u001b[1;33m\u001b[0m\u001b[0m\n\u001b[0;32m      3\u001b[0m     \u001b[0mFROM\u001b[0m \u001b[0mpayment\u001b[0m \u001b[0ma\u001b[0m\u001b[0;31m \u001b[0m\u001b[0;31m\\\u001b[0m\u001b[1;33m\u001b[0m\u001b[1;33m\u001b[0m\u001b[0m\n\u001b[0;32m      4\u001b[0m     \u001b[0mLEFT\u001b[0m \u001b[0mJOIN\u001b[0m \u001b[0mcustomer\u001b[0m \u001b[0mb\u001b[0m\u001b[0;31m \u001b[0m\u001b[0;31m\\\u001b[0m\u001b[1;33m\u001b[0m\u001b[1;33m\u001b[0m\u001b[0m\n\u001b[0;32m      5\u001b[0m     \u001b[0mON\u001b[0m \u001b[0ma\u001b[0m\u001b[1;33m.\u001b[0m\u001b[0mcustomer_id\u001b[0m \u001b[1;33m=\u001b[0m \u001b[0mb\u001b[0m\u001b[1;33m.\u001b[0m\u001b[0mcustomer_id\u001b[0m\u001b[0;31m \u001b[0m\u001b[0;31m\\\u001b[0m\u001b[1;33m\u001b[0m\u001b[1;33m\u001b[0m\u001b[0m\n",
      "\u001b[1;31mInterfaceError\u001b[0m: cursor already closed"
     ]
    }
   ],
   "source": [
    "cur.execute(\n",
    "    \"SELECT sum(amount) AS total, b.customer_id, b.first_name, b.last_name \\\n",
    "    FROM payment a \\\n",
    "    LEFT JOIN customer b \\\n",
    "    ON a.customer_id = b.customer_id \\\n",
    "    GROUP BY b.customer_id \\\n",
    "    HAVING sum(amount) > 160 \\\n",
    "    ORDER BY total DESC \\\n",
    "    LIMIT 2 OFFSET 0\"\n",
    "    )\n",
    "result = cur.fetchall()\n",
    "result[:2]"
   ]
  },
  {
   "cell_type": "code",
   "execution_count": null,
   "metadata": {},
   "outputs": [],
   "source": []
  },
  {
   "cell_type": "code",
   "execution_count": 11,
   "metadata": {},
   "outputs": [],
   "source": [
    "col_name = [desc[0] for desc in cur.description]\n",
    "df = pd.DataFrame(result, columns=col_name)"
   ]
  },
  {
   "cell_type": "code",
   "execution_count": 12,
   "metadata": {},
   "outputs": [
    {
     "output_type": "execute_result",
     "data": {
      "text/plain": [
       "          employee        manager\n",
       "3      Kelsie Hays  Hassan Conner\n",
       "4        Tory Goff  Hassan Conner\n",
       "5    Hassan Conner     Windy Hays\n",
       "6  Ava Christensen     Windy Hays\n",
       "7       Windy Hays           None"
      ],
      "text/html": "<div>\n<style scoped>\n    .dataframe tbody tr th:only-of-type {\n        vertical-align: middle;\n    }\n\n    .dataframe tbody tr th {\n        vertical-align: top;\n    }\n\n    .dataframe thead th {\n        text-align: right;\n    }\n</style>\n<table border=\"1\" class=\"dataframe\">\n  <thead>\n    <tr style=\"text-align: right;\">\n      <th></th>\n      <th>employee</th>\n      <th>manager</th>\n    </tr>\n  </thead>\n  <tbody>\n    <tr>\n      <th>3</th>\n      <td>Kelsie Hays</td>\n      <td>Hassan Conner</td>\n    </tr>\n    <tr>\n      <th>4</th>\n      <td>Tory Goff</td>\n      <td>Hassan Conner</td>\n    </tr>\n    <tr>\n      <th>5</th>\n      <td>Hassan Conner</td>\n      <td>Windy Hays</td>\n    </tr>\n    <tr>\n      <th>6</th>\n      <td>Ava Christensen</td>\n      <td>Windy Hays</td>\n    </tr>\n    <tr>\n      <th>7</th>\n      <td>Windy Hays</td>\n      <td>None</td>\n    </tr>\n  </tbody>\n</table>\n</div>"
     },
     "metadata": {},
     "execution_count": 12
    }
   ],
   "source": [
    "df.tail()"
   ]
  },
  {
   "cell_type": "code",
   "execution_count": 13,
   "metadata": {},
   "outputs": [],
   "source": [
    "cur.close()\n",
    "conn.close()"
   ]
  },
  {
   "cell_type": "code",
   "execution_count": null,
   "metadata": {},
   "outputs": [],
   "source": []
  }
 ]
}