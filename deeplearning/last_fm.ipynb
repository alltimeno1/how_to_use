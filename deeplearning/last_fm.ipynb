{
 "metadata": {
  "language_info": {
   "codemirror_mode": {
    "name": "ipython",
    "version": 3
   },
   "file_extension": ".py",
   "mimetype": "text/x-python",
   "name": "python",
   "nbconvert_exporter": "python",
   "pygments_lexer": "ipython3",
   "version": "3.8.3-final"
  },
  "orig_nbformat": 2,
  "kernelspec": {
   "name": "python3",
   "display_name": "Python 3.8.3 64-bit (conda)",
   "metadata": {
    "interpreter": {
     "hash": "b8551cc035c1c2f6dedf9d5ec53b374a5a45998e7f7ea517665a27e1156275b6"
    }
   }
  }
 },
 "nbformat": 4,
 "nbformat_minor": 2,
 "cells": [
  {
   "cell_type": "code",
   "execution_count": 63,
   "metadata": {},
   "outputs": [],
   "source": [
    "artists = pd.read_table('lastfm/artists.dat', sep='\\t', encoding='utf-8')\n",
    "user_artists = pd.read_table('lastfm/user_artists.dat', sep='\\t', encoding='utf-8')\n",
    "user_friends = pd.read_table('lastfm/user_friends.dat', sep='\\t', encoding='utf-8')\n",
    "user_taggedartists = pd.read_table('lastfm/user_taggedartists.dat', sep='\\t', encoding='utf-8')\n",
    "user_taggedartists_timestamps = pd.read_table('lastfm/user_taggedartists-timestamps.dat', sep='\\t', encoding='utf-8')\n",
    "tags = pd.read_table('lastfm/tags.dat', sep='\\t', index_col='tagID', encoding = 'ISO-8859-1')"
   ]
  },
  {
   "cell_type": "code",
   "execution_count": 64,
   "metadata": {},
   "outputs": [
    {
     "output_type": "execute_result",
     "data": {
      "text/plain": [
       "          id               name                                           url  \\\n",
       "0          1       MALICE MIZER         http://www.last.fm/music/MALICE+MIZER   \n",
       "1          2    Diary of Dreams      http://www.last.fm/music/Diary+of+Dreams   \n",
       "2          3  Carpathian Forest    http://www.last.fm/music/Carpathian+Forest   \n",
       "3          4       Moi dix Mois         http://www.last.fm/music/Moi+dix+Mois   \n",
       "4          5        Bella Morte          http://www.last.fm/music/Bella+Morte   \n",
       "...      ...                ...                                           ...   \n",
       "17627  18741     Diamanda Galás  http://www.last.fm/music/Diamanda+Gal%C3%A1s   \n",
       "17628  18742             Aya RL               http://www.last.fm/music/Aya+RL   \n",
       "17629  18743        Coptic Rain          http://www.last.fm/music/Coptic+Rain   \n",
       "17630  18744       Oz Alchemist         http://www.last.fm/music/Oz+Alchemist   \n",
       "17631  18745   Grzegorz Tomczak     http://www.last.fm/music/Grzegorz+Tomczak   \n",
       "\n",
       "                                              pictureURL  \n",
       "0        http://userserve-ak.last.fm/serve/252/10808.jpg  \n",
       "1      http://userserve-ak.last.fm/serve/252/3052066.jpg  \n",
       "2      http://userserve-ak.last.fm/serve/252/40222717...  \n",
       "3      http://userserve-ak.last.fm/serve/252/54697835...  \n",
       "4      http://userserve-ak.last.fm/serve/252/14789013...  \n",
       "...                                                  ...  \n",
       "17627  http://userserve-ak.last.fm/serve/252/16352971...  \n",
       "17628   http://userserve-ak.last.fm/serve/252/207445.jpg  \n",
       "17629   http://userserve-ak.last.fm/serve/252/344868.jpg  \n",
       "17630  http://userserve-ak.last.fm/serve/252/29297695...  \n",
       "17631  http://userserve-ak.last.fm/serve/252/59486303...  \n",
       "\n",
       "[17632 rows x 4 columns]"
      ],
      "text/html": "<div>\n<style scoped>\n    .dataframe tbody tr th:only-of-type {\n        vertical-align: middle;\n    }\n\n    .dataframe tbody tr th {\n        vertical-align: top;\n    }\n\n    .dataframe thead th {\n        text-align: right;\n    }\n</style>\n<table border=\"1\" class=\"dataframe\">\n  <thead>\n    <tr style=\"text-align: right;\">\n      <th></th>\n      <th>id</th>\n      <th>name</th>\n      <th>url</th>\n      <th>pictureURL</th>\n    </tr>\n  </thead>\n  <tbody>\n    <tr>\n      <th>0</th>\n      <td>1</td>\n      <td>MALICE MIZER</td>\n      <td>http://www.last.fm/music/MALICE+MIZER</td>\n      <td>http://userserve-ak.last.fm/serve/252/10808.jpg</td>\n    </tr>\n    <tr>\n      <th>1</th>\n      <td>2</td>\n      <td>Diary of Dreams</td>\n      <td>http://www.last.fm/music/Diary+of+Dreams</td>\n      <td>http://userserve-ak.last.fm/serve/252/3052066.jpg</td>\n    </tr>\n    <tr>\n      <th>2</th>\n      <td>3</td>\n      <td>Carpathian Forest</td>\n      <td>http://www.last.fm/music/Carpathian+Forest</td>\n      <td>http://userserve-ak.last.fm/serve/252/40222717...</td>\n    </tr>\n    <tr>\n      <th>3</th>\n      <td>4</td>\n      <td>Moi dix Mois</td>\n      <td>http://www.last.fm/music/Moi+dix+Mois</td>\n      <td>http://userserve-ak.last.fm/serve/252/54697835...</td>\n    </tr>\n    <tr>\n      <th>4</th>\n      <td>5</td>\n      <td>Bella Morte</td>\n      <td>http://www.last.fm/music/Bella+Morte</td>\n      <td>http://userserve-ak.last.fm/serve/252/14789013...</td>\n    </tr>\n    <tr>\n      <th>...</th>\n      <td>...</td>\n      <td>...</td>\n      <td>...</td>\n      <td>...</td>\n    </tr>\n    <tr>\n      <th>17627</th>\n      <td>18741</td>\n      <td>Diamanda Galás</td>\n      <td>http://www.last.fm/music/Diamanda+Gal%C3%A1s</td>\n      <td>http://userserve-ak.last.fm/serve/252/16352971...</td>\n    </tr>\n    <tr>\n      <th>17628</th>\n      <td>18742</td>\n      <td>Aya RL</td>\n      <td>http://www.last.fm/music/Aya+RL</td>\n      <td>http://userserve-ak.last.fm/serve/252/207445.jpg</td>\n    </tr>\n    <tr>\n      <th>17629</th>\n      <td>18743</td>\n      <td>Coptic Rain</td>\n      <td>http://www.last.fm/music/Coptic+Rain</td>\n      <td>http://userserve-ak.last.fm/serve/252/344868.jpg</td>\n    </tr>\n    <tr>\n      <th>17630</th>\n      <td>18744</td>\n      <td>Oz Alchemist</td>\n      <td>http://www.last.fm/music/Oz+Alchemist</td>\n      <td>http://userserve-ak.last.fm/serve/252/29297695...</td>\n    </tr>\n    <tr>\n      <th>17631</th>\n      <td>18745</td>\n      <td>Grzegorz Tomczak</td>\n      <td>http://www.last.fm/music/Grzegorz+Tomczak</td>\n      <td>http://userserve-ak.last.fm/serve/252/59486303...</td>\n    </tr>\n  </tbody>\n</table>\n<p>17632 rows × 4 columns</p>\n</div>"
     },
     "metadata": {},
     "execution_count": 64
    }
   ],
   "source": [
    "artists"
   ]
  },
  {
   "cell_type": "code",
   "execution_count": 65,
   "metadata": {},
   "outputs": [
    {
     "output_type": "execute_result",
     "data": {
      "text/plain": [
       "       userID  artistID  weight\n",
       "0           2        51   13883\n",
       "1           2        52   11690\n",
       "2           2        53   11351\n",
       "3           2        54   10300\n",
       "4           2        55    8983\n",
       "...       ...       ...     ...\n",
       "92829    2100     18726     337\n",
       "92830    2100     18727     297\n",
       "92831    2100     18728     281\n",
       "92832    2100     18729     280\n",
       "92833    2100     18730     263\n",
       "\n",
       "[92834 rows x 3 columns]"
      ],
      "text/html": "<div>\n<style scoped>\n    .dataframe tbody tr th:only-of-type {\n        vertical-align: middle;\n    }\n\n    .dataframe tbody tr th {\n        vertical-align: top;\n    }\n\n    .dataframe thead th {\n        text-align: right;\n    }\n</style>\n<table border=\"1\" class=\"dataframe\">\n  <thead>\n    <tr style=\"text-align: right;\">\n      <th></th>\n      <th>userID</th>\n      <th>artistID</th>\n      <th>weight</th>\n    </tr>\n  </thead>\n  <tbody>\n    <tr>\n      <th>0</th>\n      <td>2</td>\n      <td>51</td>\n      <td>13883</td>\n    </tr>\n    <tr>\n      <th>1</th>\n      <td>2</td>\n      <td>52</td>\n      <td>11690</td>\n    </tr>\n    <tr>\n      <th>2</th>\n      <td>2</td>\n      <td>53</td>\n      <td>11351</td>\n    </tr>\n    <tr>\n      <th>3</th>\n      <td>2</td>\n      <td>54</td>\n      <td>10300</td>\n    </tr>\n    <tr>\n      <th>4</th>\n      <td>2</td>\n      <td>55</td>\n      <td>8983</td>\n    </tr>\n    <tr>\n      <th>...</th>\n      <td>...</td>\n      <td>...</td>\n      <td>...</td>\n    </tr>\n    <tr>\n      <th>92829</th>\n      <td>2100</td>\n      <td>18726</td>\n      <td>337</td>\n    </tr>\n    <tr>\n      <th>92830</th>\n      <td>2100</td>\n      <td>18727</td>\n      <td>297</td>\n    </tr>\n    <tr>\n      <th>92831</th>\n      <td>2100</td>\n      <td>18728</td>\n      <td>281</td>\n    </tr>\n    <tr>\n      <th>92832</th>\n      <td>2100</td>\n      <td>18729</td>\n      <td>280</td>\n    </tr>\n    <tr>\n      <th>92833</th>\n      <td>2100</td>\n      <td>18730</td>\n      <td>263</td>\n    </tr>\n  </tbody>\n</table>\n<p>92834 rows × 3 columns</p>\n</div>"
     },
     "metadata": {},
     "execution_count": 65
    }
   ],
   "source": [
    "user_artists"
   ]
  },
  {
   "cell_type": "code",
   "execution_count": 66,
   "metadata": {},
   "outputs": [
    {
     "output_type": "execute_result",
     "data": {
      "text/plain": [
       "       userID  artistID  weight     id                 name  \\\n",
       "92829    2100     18726     337  18726            Nyktalgia   \n",
       "92830    2100     18727     297  18727     Atsakau  niekadA   \n",
       "92831    2100     18728     281  18728   Domantas Razauskas   \n",
       "92832    2100     18729     280  18729              Atalyja   \n",
       "92833    2100     18730     263  18730  Les Chants de Nihil   \n",
       "\n",
       "                                                url  \\\n",
       "92829            http://www.last.fm/music/Nyktalgia   \n",
       "92830     http://www.last.fm/music/Atsakau++niekadA   \n",
       "92831   http://www.last.fm/music/Domantas+Razauskas   \n",
       "92832              http://www.last.fm/music/Atalyja   \n",
       "92833  http://www.last.fm/music/Les+Chants+de+Nihil   \n",
       "\n",
       "                                              pictureURL  \n",
       "92829  http://userserve-ak.last.fm/serve/252/49060167...  \n",
       "92830  http://userserve-ak.last.fm/serve/252/29862435...  \n",
       "92831   http://userserve-ak.last.fm/serve/252/165556.jpg  \n",
       "92832    http://userserve-ak.last.fm/serve/252/98093.jpg  \n",
       "92833  http://userserve-ak.last.fm/serve/252/34135877...  "
      ],
      "text/html": "<div>\n<style scoped>\n    .dataframe tbody tr th:only-of-type {\n        vertical-align: middle;\n    }\n\n    .dataframe tbody tr th {\n        vertical-align: top;\n    }\n\n    .dataframe thead th {\n        text-align: right;\n    }\n</style>\n<table border=\"1\" class=\"dataframe\">\n  <thead>\n    <tr style=\"text-align: right;\">\n      <th></th>\n      <th>userID</th>\n      <th>artistID</th>\n      <th>weight</th>\n      <th>id</th>\n      <th>name</th>\n      <th>url</th>\n      <th>pictureURL</th>\n    </tr>\n  </thead>\n  <tbody>\n    <tr>\n      <th>92829</th>\n      <td>2100</td>\n      <td>18726</td>\n      <td>337</td>\n      <td>18726</td>\n      <td>Nyktalgia</td>\n      <td>http://www.last.fm/music/Nyktalgia</td>\n      <td>http://userserve-ak.last.fm/serve/252/49060167...</td>\n    </tr>\n    <tr>\n      <th>92830</th>\n      <td>2100</td>\n      <td>18727</td>\n      <td>297</td>\n      <td>18727</td>\n      <td>Atsakau  niekadA</td>\n      <td>http://www.last.fm/music/Atsakau++niekadA</td>\n      <td>http://userserve-ak.last.fm/serve/252/29862435...</td>\n    </tr>\n    <tr>\n      <th>92831</th>\n      <td>2100</td>\n      <td>18728</td>\n      <td>281</td>\n      <td>18728</td>\n      <td>Domantas Razauskas</td>\n      <td>http://www.last.fm/music/Domantas+Razauskas</td>\n      <td>http://userserve-ak.last.fm/serve/252/165556.jpg</td>\n    </tr>\n    <tr>\n      <th>92832</th>\n      <td>2100</td>\n      <td>18729</td>\n      <td>280</td>\n      <td>18729</td>\n      <td>Atalyja</td>\n      <td>http://www.last.fm/music/Atalyja</td>\n      <td>http://userserve-ak.last.fm/serve/252/98093.jpg</td>\n    </tr>\n    <tr>\n      <th>92833</th>\n      <td>2100</td>\n      <td>18730</td>\n      <td>263</td>\n      <td>18730</td>\n      <td>Les Chants de Nihil</td>\n      <td>http://www.last.fm/music/Les+Chants+de+Nihil</td>\n      <td>http://userserve-ak.last.fm/serve/252/34135877...</td>\n    </tr>\n  </tbody>\n</table>\n</div>"
     },
     "metadata": {},
     "execution_count": 66
    }
   ],
   "source": [
    "user_artists_name = pd.merge(user_artists, artists, left_on='artistID', right_on='id')\n",
    "user_artists_name.tail()"
   ]
  },
  {
   "source": [
    "## 아이템 기반 최근접 이웃 협업 필터링 (Item Based Nearest Neighbor Collaborative Filtering)"
   ],
   "cell_type": "markdown",
   "metadata": {}
  },
  {
   "cell_type": "code",
   "execution_count": 5,
   "metadata": {},
   "outputs": [],
   "source": [
    "table = pd.pivot_table(user_artists_name, values='weight', index='userID', columns='name')\n",
    "table.fillna(0, inplace=True)"
   ]
  },
  {
   "cell_type": "code",
   "execution_count": 6,
   "metadata": {},
   "outputs": [
    {
     "output_type": "execute_result",
     "data": {
      "text/plain": [
       "userID        2     3     4     5     6     7     8     9     10    11    ...  \\\n",
       "name                                                                      ...   \n",
       "!!!            0.0   0.0   0.0   0.0   0.0   0.0   0.0   0.0   0.0   0.0  ...   \n",
       "!DISTAIN       0.0   0.0   0.0   0.0   0.0   0.0   0.0   0.0   0.0   0.0  ...   \n",
       "!deladap       0.0   0.0   0.0   0.0   0.0   0.0   0.0   0.0   0.0   0.0  ...   \n",
       "#####          0.0   0.0   0.0   0.0   0.0   0.0   0.0   0.0   0.0   0.0  ...   \n",
       "#2 Orchestra   0.0   0.0   0.0   0.0   0.0   0.0   0.0   0.0   0.0   0.0  ...   \n",
       "...            ...   ...   ...   ...   ...   ...   ...   ...   ...   ...  ...   \n",
       "ＲＥＤ            0.0   0.0   0.0   0.0   0.0   0.0   0.0   0.0   0.0   0.0  ...   \n",
       "ＶａｎｅｓｓＡ        0.0   0.0   0.0   0.0   0.0   0.0   0.0   0.0   0.0   0.0  ...   \n",
       "ｂｏｏｇｉｅｍａｎ      0.0   0.0   0.0   0.0   0.0   0.0   0.0   0.0   0.0   0.0  ...   \n",
       "ｂｏｒｎ           0.0   0.0   0.0   0.0   0.0   0.0   0.0   0.0   0.0   0.0  ...   \n",
       "ｍａｃｈｉｎｅ        0.0   0.0   0.0   0.0   0.0   0.0   0.0   0.0   0.0   0.0  ...   \n",
       "\n",
       "userID        2090  2091  2092  2093  2094  2095  2096  2097  2099  2100  \n",
       "name                                                                      \n",
       "!!!            0.0   0.0   0.0   0.0   0.0   0.0   0.0   0.0   0.0   0.0  \n",
       "!DISTAIN       0.0   0.0   0.0   0.0   0.0   0.0   0.0   0.0   0.0   0.0  \n",
       "!deladap       0.0   0.0   0.0   0.0   0.0   0.0   0.0   0.0   0.0   0.0  \n",
       "#####          0.0   0.0   0.0   0.0   0.0   0.0   0.0   0.0   0.0   0.0  \n",
       "#2 Orchestra   0.0   0.0   0.0   0.0   0.0   0.0   0.0   0.0   0.0   0.0  \n",
       "...            ...   ...   ...   ...   ...   ...   ...   ...   ...   ...  \n",
       "ＲＥＤ            0.0   0.0   0.0   0.0   0.0   0.0   0.0   0.0   0.0   0.0  \n",
       "ＶａｎｅｓｓＡ        0.0   0.0   0.0   0.0   0.0   0.0   0.0   0.0   0.0   0.0  \n",
       "ｂｏｏｇｉｅｍａｎ      0.0   0.0   0.0   0.0   0.0   0.0   0.0   0.0   0.0   0.0  \n",
       "ｂｏｒｎ           0.0   0.0   0.0   0.0   0.0   0.0   0.0   0.0   0.0   0.0  \n",
       "ｍａｃｈｉｎｅ        0.0   0.0   0.0   0.0   0.0   0.0   0.0   0.0   0.0   0.0  \n",
       "\n",
       "[17632 rows x 1892 columns]"
      ],
      "text/html": "<div>\n<style scoped>\n    .dataframe tbody tr th:only-of-type {\n        vertical-align: middle;\n    }\n\n    .dataframe tbody tr th {\n        vertical-align: top;\n    }\n\n    .dataframe thead th {\n        text-align: right;\n    }\n</style>\n<table border=\"1\" class=\"dataframe\">\n  <thead>\n    <tr style=\"text-align: right;\">\n      <th>userID</th>\n      <th>2</th>\n      <th>3</th>\n      <th>4</th>\n      <th>5</th>\n      <th>6</th>\n      <th>7</th>\n      <th>8</th>\n      <th>9</th>\n      <th>10</th>\n      <th>11</th>\n      <th>...</th>\n      <th>2090</th>\n      <th>2091</th>\n      <th>2092</th>\n      <th>2093</th>\n      <th>2094</th>\n      <th>2095</th>\n      <th>2096</th>\n      <th>2097</th>\n      <th>2099</th>\n      <th>2100</th>\n    </tr>\n    <tr>\n      <th>name</th>\n      <th></th>\n      <th></th>\n      <th></th>\n      <th></th>\n      <th></th>\n      <th></th>\n      <th></th>\n      <th></th>\n      <th></th>\n      <th></th>\n      <th></th>\n      <th></th>\n      <th></th>\n      <th></th>\n      <th></th>\n      <th></th>\n      <th></th>\n      <th></th>\n      <th></th>\n      <th></th>\n      <th></th>\n    </tr>\n  </thead>\n  <tbody>\n    <tr>\n      <th>!!!</th>\n      <td>0.0</td>\n      <td>0.0</td>\n      <td>0.0</td>\n      <td>0.0</td>\n      <td>0.0</td>\n      <td>0.0</td>\n      <td>0.0</td>\n      <td>0.0</td>\n      <td>0.0</td>\n      <td>0.0</td>\n      <td>...</td>\n      <td>0.0</td>\n      <td>0.0</td>\n      <td>0.0</td>\n      <td>0.0</td>\n      <td>0.0</td>\n      <td>0.0</td>\n      <td>0.0</td>\n      <td>0.0</td>\n      <td>0.0</td>\n      <td>0.0</td>\n    </tr>\n    <tr>\n      <th>!DISTAIN</th>\n      <td>0.0</td>\n      <td>0.0</td>\n      <td>0.0</td>\n      <td>0.0</td>\n      <td>0.0</td>\n      <td>0.0</td>\n      <td>0.0</td>\n      <td>0.0</td>\n      <td>0.0</td>\n      <td>0.0</td>\n      <td>...</td>\n      <td>0.0</td>\n      <td>0.0</td>\n      <td>0.0</td>\n      <td>0.0</td>\n      <td>0.0</td>\n      <td>0.0</td>\n      <td>0.0</td>\n      <td>0.0</td>\n      <td>0.0</td>\n      <td>0.0</td>\n    </tr>\n    <tr>\n      <th>!deladap</th>\n      <td>0.0</td>\n      <td>0.0</td>\n      <td>0.0</td>\n      <td>0.0</td>\n      <td>0.0</td>\n      <td>0.0</td>\n      <td>0.0</td>\n      <td>0.0</td>\n      <td>0.0</td>\n      <td>0.0</td>\n      <td>...</td>\n      <td>0.0</td>\n      <td>0.0</td>\n      <td>0.0</td>\n      <td>0.0</td>\n      <td>0.0</td>\n      <td>0.0</td>\n      <td>0.0</td>\n      <td>0.0</td>\n      <td>0.0</td>\n      <td>0.0</td>\n    </tr>\n    <tr>\n      <th>#####</th>\n      <td>0.0</td>\n      <td>0.0</td>\n      <td>0.0</td>\n      <td>0.0</td>\n      <td>0.0</td>\n      <td>0.0</td>\n      <td>0.0</td>\n      <td>0.0</td>\n      <td>0.0</td>\n      <td>0.0</td>\n      <td>...</td>\n      <td>0.0</td>\n      <td>0.0</td>\n      <td>0.0</td>\n      <td>0.0</td>\n      <td>0.0</td>\n      <td>0.0</td>\n      <td>0.0</td>\n      <td>0.0</td>\n      <td>0.0</td>\n      <td>0.0</td>\n    </tr>\n    <tr>\n      <th>#2 Orchestra</th>\n      <td>0.0</td>\n      <td>0.0</td>\n      <td>0.0</td>\n      <td>0.0</td>\n      <td>0.0</td>\n      <td>0.0</td>\n      <td>0.0</td>\n      <td>0.0</td>\n      <td>0.0</td>\n      <td>0.0</td>\n      <td>...</td>\n      <td>0.0</td>\n      <td>0.0</td>\n      <td>0.0</td>\n      <td>0.0</td>\n      <td>0.0</td>\n      <td>0.0</td>\n      <td>0.0</td>\n      <td>0.0</td>\n      <td>0.0</td>\n      <td>0.0</td>\n    </tr>\n    <tr>\n      <th>...</th>\n      <td>...</td>\n      <td>...</td>\n      <td>...</td>\n      <td>...</td>\n      <td>...</td>\n      <td>...</td>\n      <td>...</td>\n      <td>...</td>\n      <td>...</td>\n      <td>...</td>\n      <td>...</td>\n      <td>...</td>\n      <td>...</td>\n      <td>...</td>\n      <td>...</td>\n      <td>...</td>\n      <td>...</td>\n      <td>...</td>\n      <td>...</td>\n      <td>...</td>\n      <td>...</td>\n    </tr>\n    <tr>\n      <th>ＲＥＤ</th>\n      <td>0.0</td>\n      <td>0.0</td>\n      <td>0.0</td>\n      <td>0.0</td>\n      <td>0.0</td>\n      <td>0.0</td>\n      <td>0.0</td>\n      <td>0.0</td>\n      <td>0.0</td>\n      <td>0.0</td>\n      <td>...</td>\n      <td>0.0</td>\n      <td>0.0</td>\n      <td>0.0</td>\n      <td>0.0</td>\n      <td>0.0</td>\n      <td>0.0</td>\n      <td>0.0</td>\n      <td>0.0</td>\n      <td>0.0</td>\n      <td>0.0</td>\n    </tr>\n    <tr>\n      <th>ＶａｎｅｓｓＡ</th>\n      <td>0.0</td>\n      <td>0.0</td>\n      <td>0.0</td>\n      <td>0.0</td>\n      <td>0.0</td>\n      <td>0.0</td>\n      <td>0.0</td>\n      <td>0.0</td>\n      <td>0.0</td>\n      <td>0.0</td>\n      <td>...</td>\n      <td>0.0</td>\n      <td>0.0</td>\n      <td>0.0</td>\n      <td>0.0</td>\n      <td>0.0</td>\n      <td>0.0</td>\n      <td>0.0</td>\n      <td>0.0</td>\n      <td>0.0</td>\n      <td>0.0</td>\n    </tr>\n    <tr>\n      <th>ｂｏｏｇｉｅｍａｎ</th>\n      <td>0.0</td>\n      <td>0.0</td>\n      <td>0.0</td>\n      <td>0.0</td>\n      <td>0.0</td>\n      <td>0.0</td>\n      <td>0.0</td>\n      <td>0.0</td>\n      <td>0.0</td>\n      <td>0.0</td>\n      <td>...</td>\n      <td>0.0</td>\n      <td>0.0</td>\n      <td>0.0</td>\n      <td>0.0</td>\n      <td>0.0</td>\n      <td>0.0</td>\n      <td>0.0</td>\n      <td>0.0</td>\n      <td>0.0</td>\n      <td>0.0</td>\n    </tr>\n    <tr>\n      <th>ｂｏｒｎ</th>\n      <td>0.0</td>\n      <td>0.0</td>\n      <td>0.0</td>\n      <td>0.0</td>\n      <td>0.0</td>\n      <td>0.0</td>\n      <td>0.0</td>\n      <td>0.0</td>\n      <td>0.0</td>\n      <td>0.0</td>\n      <td>...</td>\n      <td>0.0</td>\n      <td>0.0</td>\n      <td>0.0</td>\n      <td>0.0</td>\n      <td>0.0</td>\n      <td>0.0</td>\n      <td>0.0</td>\n      <td>0.0</td>\n      <td>0.0</td>\n      <td>0.0</td>\n    </tr>\n    <tr>\n      <th>ｍａｃｈｉｎｅ</th>\n      <td>0.0</td>\n      <td>0.0</td>\n      <td>0.0</td>\n      <td>0.0</td>\n      <td>0.0</td>\n      <td>0.0</td>\n      <td>0.0</td>\n      <td>0.0</td>\n      <td>0.0</td>\n      <td>0.0</td>\n      <td>...</td>\n      <td>0.0</td>\n      <td>0.0</td>\n      <td>0.0</td>\n      <td>0.0</td>\n      <td>0.0</td>\n      <td>0.0</td>\n      <td>0.0</td>\n      <td>0.0</td>\n      <td>0.0</td>\n      <td>0.0</td>\n    </tr>\n  </tbody>\n</table>\n<p>17632 rows × 1892 columns</p>\n</div>"
     },
     "metadata": {},
     "execution_count": 6
    }
   ],
   "source": [
    "table.T"
   ]
  },
  {
   "source": [
    "### 코사인 유사도(Cosine Similarity)"
   ],
   "cell_type": "markdown",
   "metadata": {}
  },
  {
   "cell_type": "code",
   "execution_count": 7,
   "metadata": {},
   "outputs": [
    {
     "output_type": "execute_result",
     "data": {
      "text/plain": [
       "name          !!!  !DISTAIN  !deladap  #####  #2 Orchestra  $lick  \\\n",
       "name                                                                \n",
       "!!!           1.0       0.0       0.0    0.0           0.0    0.0   \n",
       "!DISTAIN      0.0       1.0       0.0    0.0           0.0    0.0   \n",
       "!deladap      0.0       0.0       1.0    0.0           0.0    0.0   \n",
       "#####         0.0       0.0       0.0    1.0           0.0    0.0   \n",
       "#2 Orchestra  0.0       0.0       0.0    0.0           1.0    0.0   \n",
       "\n",
       "name          $lick feat. Six-Fo  (1962-1966)  (Pre) Kingdom  \\\n",
       "name                                                           \n",
       "!!!                          0.0          0.0            0.0   \n",
       "!DISTAIN                     0.0          0.0            0.0   \n",
       "!deladap                     0.0          0.0            0.0   \n",
       "#####                        0.0          0.0            0.0   \n",
       "#2 Orchestra                 0.0          0.0            0.0   \n",
       "\n",
       "name          (We Are) Performance  ...  티아라   현아  ＬｕＬｕ  ＭＡＮＮＥＱＵＩＮ  \\\n",
       "name                                ...                              \n",
       "!!!                            0.0  ...  0.0  0.0   0.0        0.0   \n",
       "!DISTAIN                       0.0  ...  0.0  0.0   0.0        0.0   \n",
       "!deladap                       0.0  ...  0.0  0.0   0.0        0.0   \n",
       "#####                          0.0  ...  0.0  0.0   0.0        0.0   \n",
       "#2 Orchestra                   0.0  ...  0.0  0.0   0.0        0.0   \n",
       "\n",
       "name          ＰＥＲＥＳＴＲＯＩＫＡ  ＲＥＤ  ＶａｎｅｓｓＡ  ｂｏｏｇｉｅｍａｎ  ｂｏｒｎ  ｍａｃｈｉｎｅ  \n",
       "name                                                               \n",
       "!!!                   0.0  0.0      0.0        0.0   0.0      0.0  \n",
       "!DISTAIN              0.0  0.0      0.0        0.0   0.0      0.0  \n",
       "!deladap              0.0  0.0      0.0        0.0   0.0      0.0  \n",
       "#####                 0.0  0.0      0.0        0.0   0.0      0.0  \n",
       "#2 Orchestra          0.0  0.0      0.0        0.0   0.0      0.0  \n",
       "\n",
       "[5 rows x 17632 columns]"
      ],
      "text/html": "<div>\n<style scoped>\n    .dataframe tbody tr th:only-of-type {\n        vertical-align: middle;\n    }\n\n    .dataframe tbody tr th {\n        vertical-align: top;\n    }\n\n    .dataframe thead th {\n        text-align: right;\n    }\n</style>\n<table border=\"1\" class=\"dataframe\">\n  <thead>\n    <tr style=\"text-align: right;\">\n      <th>name</th>\n      <th>!!!</th>\n      <th>!DISTAIN</th>\n      <th>!deladap</th>\n      <th>#####</th>\n      <th>#2 Orchestra</th>\n      <th>$lick</th>\n      <th>$lick feat. Six-Fo</th>\n      <th>(1962-1966)</th>\n      <th>(Pre) Kingdom</th>\n      <th>(We Are) Performance</th>\n      <th>...</th>\n      <th>티아라</th>\n      <th>현아</th>\n      <th>ＬｕＬｕ</th>\n      <th>ＭＡＮＮＥＱＵＩＮ</th>\n      <th>ＰＥＲＥＳＴＲＯＩＫＡ</th>\n      <th>ＲＥＤ</th>\n      <th>ＶａｎｅｓｓＡ</th>\n      <th>ｂｏｏｇｉｅｍａｎ</th>\n      <th>ｂｏｒｎ</th>\n      <th>ｍａｃｈｉｎｅ</th>\n    </tr>\n    <tr>\n      <th>name</th>\n      <th></th>\n      <th></th>\n      <th></th>\n      <th></th>\n      <th></th>\n      <th></th>\n      <th></th>\n      <th></th>\n      <th></th>\n      <th></th>\n      <th></th>\n      <th></th>\n      <th></th>\n      <th></th>\n      <th></th>\n      <th></th>\n      <th></th>\n      <th></th>\n      <th></th>\n      <th></th>\n      <th></th>\n    </tr>\n  </thead>\n  <tbody>\n    <tr>\n      <th>!!!</th>\n      <td>1.0</td>\n      <td>0.0</td>\n      <td>0.0</td>\n      <td>0.0</td>\n      <td>0.0</td>\n      <td>0.0</td>\n      <td>0.0</td>\n      <td>0.0</td>\n      <td>0.0</td>\n      <td>0.0</td>\n      <td>...</td>\n      <td>0.0</td>\n      <td>0.0</td>\n      <td>0.0</td>\n      <td>0.0</td>\n      <td>0.0</td>\n      <td>0.0</td>\n      <td>0.0</td>\n      <td>0.0</td>\n      <td>0.0</td>\n      <td>0.0</td>\n    </tr>\n    <tr>\n      <th>!DISTAIN</th>\n      <td>0.0</td>\n      <td>1.0</td>\n      <td>0.0</td>\n      <td>0.0</td>\n      <td>0.0</td>\n      <td>0.0</td>\n      <td>0.0</td>\n      <td>0.0</td>\n      <td>0.0</td>\n      <td>0.0</td>\n      <td>...</td>\n      <td>0.0</td>\n      <td>0.0</td>\n      <td>0.0</td>\n      <td>0.0</td>\n      <td>0.0</td>\n      <td>0.0</td>\n      <td>0.0</td>\n      <td>0.0</td>\n      <td>0.0</td>\n      <td>0.0</td>\n    </tr>\n    <tr>\n      <th>!deladap</th>\n      <td>0.0</td>\n      <td>0.0</td>\n      <td>1.0</td>\n      <td>0.0</td>\n      <td>0.0</td>\n      <td>0.0</td>\n      <td>0.0</td>\n      <td>0.0</td>\n      <td>0.0</td>\n      <td>0.0</td>\n      <td>...</td>\n      <td>0.0</td>\n      <td>0.0</td>\n      <td>0.0</td>\n      <td>0.0</td>\n      <td>0.0</td>\n      <td>0.0</td>\n      <td>0.0</td>\n      <td>0.0</td>\n      <td>0.0</td>\n      <td>0.0</td>\n    </tr>\n    <tr>\n      <th>#####</th>\n      <td>0.0</td>\n      <td>0.0</td>\n      <td>0.0</td>\n      <td>1.0</td>\n      <td>0.0</td>\n      <td>0.0</td>\n      <td>0.0</td>\n      <td>0.0</td>\n      <td>0.0</td>\n      <td>0.0</td>\n      <td>...</td>\n      <td>0.0</td>\n      <td>0.0</td>\n      <td>0.0</td>\n      <td>0.0</td>\n      <td>0.0</td>\n      <td>0.0</td>\n      <td>0.0</td>\n      <td>0.0</td>\n      <td>0.0</td>\n      <td>0.0</td>\n    </tr>\n    <tr>\n      <th>#2 Orchestra</th>\n      <td>0.0</td>\n      <td>0.0</td>\n      <td>0.0</td>\n      <td>0.0</td>\n      <td>1.0</td>\n      <td>0.0</td>\n      <td>0.0</td>\n      <td>0.0</td>\n      <td>0.0</td>\n      <td>0.0</td>\n      <td>...</td>\n      <td>0.0</td>\n      <td>0.0</td>\n      <td>0.0</td>\n      <td>0.0</td>\n      <td>0.0</td>\n      <td>0.0</td>\n      <td>0.0</td>\n      <td>0.0</td>\n      <td>0.0</td>\n      <td>0.0</td>\n    </tr>\n  </tbody>\n</table>\n<p>5 rows × 17632 columns</p>\n</div>"
     },
     "metadata": {},
     "execution_count": 7
    }
   ],
   "source": [
    "from sklearn.metrics.pairwise import cosine_similarity\n",
    "\n",
    "item_sim = cosine_similarity(table.T, table.T)\n",
    "item_sim_df = pd.DataFrame(data=item_sim, index=table.columns, columns=table.columns)\n",
    "item_sim_df.head()"
   ]
  },
  {
   "cell_type": "code",
   "execution_count": 8,
   "metadata": {},
   "outputs": [
    {
     "output_type": "execute_result",
     "data": {
      "text/plain": [
       "name\n",
       "Brown Eyed Girls    0.697886\n",
       "Super Junior        0.691643\n",
       "U-KISS              0.681646\n",
       "동방신기                0.661916\n",
       "f(x)                0.659249\n",
       "4minute             0.593870\n",
       "放課後ティータイム           0.567331\n",
       "和田光司                0.567331\n",
       "티아라                 0.559596\n",
       "Name: 소녀시대, dtype: float64"
      ]
     },
     "metadata": {},
     "execution_count": 8
    }
   ],
   "source": [
    "item_sim_df['소녀시대'].sort_values(ascending=False)[1:10]"
   ]
  },
  {
   "cell_type": "code",
   "execution_count": 9,
   "metadata": {},
   "outputs": [
    {
     "output_type": "execute_result",
     "data": {
      "text/plain": [
       "name\n",
       "Laith Al-Deen      1.0\n",
       "Remi Bandali       1.0\n",
       "TRAX               1.0\n",
       "3mmey              1.0\n",
       "Jay Park           1.0\n",
       "Chinese mix        1.0\n",
       "Wasted Land        1.0\n",
       "モンゴル800            1.0\n",
       "www.DjFahad.com    1.0\n",
       "Name: 김종국, dtype: float64"
      ]
     },
     "metadata": {},
     "execution_count": 9
    }
   ],
   "source": [
    "item_sim_df['김종국'].sort_values(ascending=False)[1:10]"
   ]
  },
  {
   "source": [
    "### 유클리드 거리(Euclidean Distances)"
   ],
   "cell_type": "markdown",
   "metadata": {}
  },
  {
   "cell_type": "code",
   "execution_count": 10,
   "metadata": {},
   "outputs": [
    {
     "output_type": "execute_result",
     "data": {
      "text/plain": [
       "name                  !!!     !DISTAIN     !deladap        #####  \\\n",
       "name                                                               \n",
       "!!!              0.000000  2784.943985  2634.407144  3110.005627   \n",
       "!DISTAIN      2784.943985     0.000000   907.888760  1885.814413   \n",
       "!deladap      2634.407144   907.888760     0.000000  1655.440727   \n",
       "#####         3110.005627  1885.814413  1655.440727     0.000000   \n",
       "#2 Orchestra  2637.539004   916.936748   157.990506  1660.420128   \n",
       "\n",
       "name          #2 Orchestra        $lick  $lick feat. Six-Fo  (1962-1966)  \\\n",
       "name                                                                       \n",
       "!!!            2637.539004  2980.251835         2634.589152  2634.243724   \n",
       "!DISTAIN        916.936748  1663.148219          908.416755   907.414459   \n",
       "!deladap        157.990506  1396.513516           97.000000    87.114867   \n",
       "#####          1660.420128  2163.858591         1655.730352  1655.180655   \n",
       "#2 Orchestra      0.000000  1402.412564          160.996894   155.241747   \n",
       "\n",
       "name          (Pre) Kingdom  (We Are) Performance  ...          티아라  \\\n",
       "name                                               ...                \n",
       "!!!             2633.605324           2633.605324  ...  4459.295684   \n",
       "!DISTAIN         905.559496            905.559496  ...  3710.724862   \n",
       "!deladap          65.007692             65.007692  ...  3599.120309   \n",
       "#####           1654.164442           1654.164442  ...  3960.517769   \n",
       "#2 Orchestra     144.003472            144.003472  ...  3601.413334   \n",
       "\n",
       "name                   현아         ＬｕＬｕ    ＭＡＮＮＥＱＵＩＮ  ＰＥＲＥＳＴＲＯＩＫＡ          ＲＥＤ  \\\n",
       "name                                                                            \n",
       "!!!           2806.628939  2801.410716  2693.739408  2660.169356  2659.888156   \n",
       "!DISTAIN      1327.149954  1316.078645  1067.891848   980.133664   979.370206   \n",
       "!deladap       972.375956   957.210008   569.720107   380.591645   378.621183   \n",
       "#####         1917.693667  1910.048429  1748.317763  1696.137966  1695.696907   \n",
       "#2 Orchestra   980.829241   965.796045   584.030821   401.697647   399.831214   \n",
       "\n",
       "name              ＶａｎｅｓｓＡ    ｂｏｏｇｉｅｍａｎ         ｂｏｒｎ      ｍａｃｈｉｎｅ  \n",
       "name                                                              \n",
       "!!!           3413.716450  2660.593919  3488.014478  2954.000677  \n",
       "!DISTAIN      2353.215035   981.285382  2459.757305  1615.636407  \n",
       "!deladap      2172.972388   383.547911  2287.923513  1339.577919  \n",
       "#####         2730.172705  1696.803760  2822.521568  2127.557990  \n",
       "#2 Orchestra  2176.768247   404.499691  2291.528966  1345.726570  \n",
       "\n",
       "[5 rows x 17632 columns]"
      ],
      "text/html": "<div>\n<style scoped>\n    .dataframe tbody tr th:only-of-type {\n        vertical-align: middle;\n    }\n\n    .dataframe tbody tr th {\n        vertical-align: top;\n    }\n\n    .dataframe thead th {\n        text-align: right;\n    }\n</style>\n<table border=\"1\" class=\"dataframe\">\n  <thead>\n    <tr style=\"text-align: right;\">\n      <th>name</th>\n      <th>!!!</th>\n      <th>!DISTAIN</th>\n      <th>!deladap</th>\n      <th>#####</th>\n      <th>#2 Orchestra</th>\n      <th>$lick</th>\n      <th>$lick feat. Six-Fo</th>\n      <th>(1962-1966)</th>\n      <th>(Pre) Kingdom</th>\n      <th>(We Are) Performance</th>\n      <th>...</th>\n      <th>티아라</th>\n      <th>현아</th>\n      <th>ＬｕＬｕ</th>\n      <th>ＭＡＮＮＥＱＵＩＮ</th>\n      <th>ＰＥＲＥＳＴＲＯＩＫＡ</th>\n      <th>ＲＥＤ</th>\n      <th>ＶａｎｅｓｓＡ</th>\n      <th>ｂｏｏｇｉｅｍａｎ</th>\n      <th>ｂｏｒｎ</th>\n      <th>ｍａｃｈｉｎｅ</th>\n    </tr>\n    <tr>\n      <th>name</th>\n      <th></th>\n      <th></th>\n      <th></th>\n      <th></th>\n      <th></th>\n      <th></th>\n      <th></th>\n      <th></th>\n      <th></th>\n      <th></th>\n      <th></th>\n      <th></th>\n      <th></th>\n      <th></th>\n      <th></th>\n      <th></th>\n      <th></th>\n      <th></th>\n      <th></th>\n      <th></th>\n      <th></th>\n    </tr>\n  </thead>\n  <tbody>\n    <tr>\n      <th>!!!</th>\n      <td>0.000000</td>\n      <td>2784.943985</td>\n      <td>2634.407144</td>\n      <td>3110.005627</td>\n      <td>2637.539004</td>\n      <td>2980.251835</td>\n      <td>2634.589152</td>\n      <td>2634.243724</td>\n      <td>2633.605324</td>\n      <td>2633.605324</td>\n      <td>...</td>\n      <td>4459.295684</td>\n      <td>2806.628939</td>\n      <td>2801.410716</td>\n      <td>2693.739408</td>\n      <td>2660.169356</td>\n      <td>2659.888156</td>\n      <td>3413.716450</td>\n      <td>2660.593919</td>\n      <td>3488.014478</td>\n      <td>2954.000677</td>\n    </tr>\n    <tr>\n      <th>!DISTAIN</th>\n      <td>2784.943985</td>\n      <td>0.000000</td>\n      <td>907.888760</td>\n      <td>1885.814413</td>\n      <td>916.936748</td>\n      <td>1663.148219</td>\n      <td>908.416755</td>\n      <td>907.414459</td>\n      <td>905.559496</td>\n      <td>905.559496</td>\n      <td>...</td>\n      <td>3710.724862</td>\n      <td>1327.149954</td>\n      <td>1316.078645</td>\n      <td>1067.891848</td>\n      <td>980.133664</td>\n      <td>979.370206</td>\n      <td>2353.215035</td>\n      <td>981.285382</td>\n      <td>2459.757305</td>\n      <td>1615.636407</td>\n    </tr>\n    <tr>\n      <th>!deladap</th>\n      <td>2634.407144</td>\n      <td>907.888760</td>\n      <td>0.000000</td>\n      <td>1655.440727</td>\n      <td>157.990506</td>\n      <td>1396.513516</td>\n      <td>97.000000</td>\n      <td>87.114867</td>\n      <td>65.007692</td>\n      <td>65.007692</td>\n      <td>...</td>\n      <td>3599.120309</td>\n      <td>972.375956</td>\n      <td>957.210008</td>\n      <td>569.720107</td>\n      <td>380.591645</td>\n      <td>378.621183</td>\n      <td>2172.972388</td>\n      <td>383.547911</td>\n      <td>2287.923513</td>\n      <td>1339.577919</td>\n    </tr>\n    <tr>\n      <th>#####</th>\n      <td>3110.005627</td>\n      <td>1885.814413</td>\n      <td>1655.440727</td>\n      <td>0.000000</td>\n      <td>1660.420128</td>\n      <td>2163.858591</td>\n      <td>1655.730352</td>\n      <td>1655.180655</td>\n      <td>1654.164442</td>\n      <td>1654.164442</td>\n      <td>...</td>\n      <td>3960.517769</td>\n      <td>1917.693667</td>\n      <td>1910.048429</td>\n      <td>1748.317763</td>\n      <td>1696.137966</td>\n      <td>1695.696907</td>\n      <td>2730.172705</td>\n      <td>1696.803760</td>\n      <td>2822.521568</td>\n      <td>2127.557990</td>\n    </tr>\n    <tr>\n      <th>#2 Orchestra</th>\n      <td>2637.539004</td>\n      <td>916.936748</td>\n      <td>157.990506</td>\n      <td>1660.420128</td>\n      <td>0.000000</td>\n      <td>1402.412564</td>\n      <td>160.996894</td>\n      <td>155.241747</td>\n      <td>144.003472</td>\n      <td>144.003472</td>\n      <td>...</td>\n      <td>3601.413334</td>\n      <td>980.829241</td>\n      <td>965.796045</td>\n      <td>584.030821</td>\n      <td>401.697647</td>\n      <td>399.831214</td>\n      <td>2176.768247</td>\n      <td>404.499691</td>\n      <td>2291.528966</td>\n      <td>1345.726570</td>\n    </tr>\n  </tbody>\n</table>\n<p>5 rows × 17632 columns</p>\n</div>"
     },
     "metadata": {},
     "execution_count": 10
    }
   ],
   "source": [
    "from sklearn.metrics.pairwise import euclidean_distances\n",
    "\n",
    "item_sim_eu = euclidean_distances(table.T, table.T)\n",
    "item_sim_eu_df = pd.DataFrame(data=item_sim_eu, index=table.columns, columns=table.columns)\n",
    "item_sim_eu_df.head()"
   ]
  },
  {
   "cell_type": "code",
   "execution_count": 11,
   "metadata": {},
   "outputs": [
    {
     "output_type": "execute_result",
     "data": {
      "text/plain": [
       "name\n",
       "Super Junior        6164.521798\n",
       "4minute             6395.739363\n",
       "Brown Eyed Girls    6552.115460\n",
       "티아라                 6595.666759\n",
       "동방신기                6766.541140\n",
       "f(x)                6809.382277\n",
       "U-KISS              6920.971825\n",
       "Trevor Morris       6925.390819\n",
       "B2ST                6961.318912\n",
       "Name: 소녀시대, dtype: float64"
      ]
     },
     "metadata": {},
     "execution_count": 11
    }
   ],
   "source": [
    "item_sim_eu_df['소녀시대'].sort_values()[1:10]"
   ]
  },
  {
   "cell_type": "code",
   "execution_count": 12,
   "metadata": {},
   "outputs": [
    {
     "output_type": "execute_result",
     "data": {
      "text/plain": [
       "name\n",
       "モンゴル800             375.000000\n",
       "Jay Park            715.000000\n",
       "C.N.BLUE            948.448206\n",
       "T.M.Revolution      985.349177\n",
       "TRAX               1014.000000\n",
       "BUCK-TICK          1048.720172\n",
       "Remi Bandali       1080.000000\n",
       "Sinamore           1087.813403\n",
       "www.DjFahad.com    1138.000000\n",
       "Name: 김종국, dtype: float64"
      ]
     },
     "metadata": {},
     "execution_count": 12
    }
   ],
   "source": [
    "item_sim_eu_df['김종국'].sort_values()[1:10]"
   ]
  },
  {
   "source": [
    "## 유저 기반 최근접 이웃 협업 필터링 (User Based Nearest Neighbor Collaborative Filtering)"
   ],
   "cell_type": "markdown",
   "metadata": {}
  },
  {
   "source": [
    "### 코사인 유사도(Cosine Similarity)"
   ],
   "cell_type": "markdown",
   "metadata": {}
  },
  {
   "cell_type": "code",
   "execution_count": 13,
   "metadata": {},
   "outputs": [
    {
     "output_type": "execute_result",
     "data": {
      "text/plain": [
       "userID      2     3         4         5         6         7         8     \\\n",
       "userID                                                                     \n",
       "2       1.000000   0.0  0.144786  0.028692  0.007016  0.030219  0.008964   \n",
       "3       0.000000   1.0  0.000000  0.000000  0.000000  0.000000  0.000000   \n",
       "4       0.144786   0.0  1.000000  0.081193  0.006609  0.000000  0.000000   \n",
       "5       0.028692   0.0  0.081193  1.000000  0.000000  0.000000  0.000000   \n",
       "6       0.007016   0.0  0.006609  0.000000  1.000000  0.012713  0.018881   \n",
       "\n",
       "userID  9         10        11    ...      2090      2091      2092      2093  \\\n",
       "userID                            ...                                           \n",
       "2        0.0  0.000000  0.021267  ...  0.000000  0.043405  0.000000  0.004625   \n",
       "3        0.0  0.000000  0.000000  ...  0.000000  0.000000  0.000000  0.000000   \n",
       "4        0.0  0.009072  0.013407  ...  0.000000  0.000000  0.003776  0.006178   \n",
       "5        0.0  0.169078  0.004639  ...  0.010993  0.000000  0.205141  0.000000   \n",
       "6        0.0  0.000000  0.000000  ...  0.000000  0.000000  0.000000  0.000000   \n",
       "\n",
       "userID      2094  2095      2096      2097      2099  2100  \n",
       "userID                                                      \n",
       "2       0.001585   0.0  0.000956  0.082134  0.000000   0.0  \n",
       "3       0.000000   0.0  0.000000  0.000000  0.000318   0.0  \n",
       "4       0.000000   0.0  0.045125  0.659085  0.000000   0.0  \n",
       "5       0.000000   0.0  0.204557  0.119133  0.000000   0.0  \n",
       "6       0.000000   0.0  0.000000  0.000000  0.000000   0.0  \n",
       "\n",
       "[5 rows x 1892 columns]"
      ],
      "text/html": "<div>\n<style scoped>\n    .dataframe tbody tr th:only-of-type {\n        vertical-align: middle;\n    }\n\n    .dataframe tbody tr th {\n        vertical-align: top;\n    }\n\n    .dataframe thead th {\n        text-align: right;\n    }\n</style>\n<table border=\"1\" class=\"dataframe\">\n  <thead>\n    <tr style=\"text-align: right;\">\n      <th>userID</th>\n      <th>2</th>\n      <th>3</th>\n      <th>4</th>\n      <th>5</th>\n      <th>6</th>\n      <th>7</th>\n      <th>8</th>\n      <th>9</th>\n      <th>10</th>\n      <th>11</th>\n      <th>...</th>\n      <th>2090</th>\n      <th>2091</th>\n      <th>2092</th>\n      <th>2093</th>\n      <th>2094</th>\n      <th>2095</th>\n      <th>2096</th>\n      <th>2097</th>\n      <th>2099</th>\n      <th>2100</th>\n    </tr>\n    <tr>\n      <th>userID</th>\n      <th></th>\n      <th></th>\n      <th></th>\n      <th></th>\n      <th></th>\n      <th></th>\n      <th></th>\n      <th></th>\n      <th></th>\n      <th></th>\n      <th></th>\n      <th></th>\n      <th></th>\n      <th></th>\n      <th></th>\n      <th></th>\n      <th></th>\n      <th></th>\n      <th></th>\n      <th></th>\n      <th></th>\n    </tr>\n  </thead>\n  <tbody>\n    <tr>\n      <th>2</th>\n      <td>1.000000</td>\n      <td>0.0</td>\n      <td>0.144786</td>\n      <td>0.028692</td>\n      <td>0.007016</td>\n      <td>0.030219</td>\n      <td>0.008964</td>\n      <td>0.0</td>\n      <td>0.000000</td>\n      <td>0.021267</td>\n      <td>...</td>\n      <td>0.000000</td>\n      <td>0.043405</td>\n      <td>0.000000</td>\n      <td>0.004625</td>\n      <td>0.001585</td>\n      <td>0.0</td>\n      <td>0.000956</td>\n      <td>0.082134</td>\n      <td>0.000000</td>\n      <td>0.0</td>\n    </tr>\n    <tr>\n      <th>3</th>\n      <td>0.000000</td>\n      <td>1.0</td>\n      <td>0.000000</td>\n      <td>0.000000</td>\n      <td>0.000000</td>\n      <td>0.000000</td>\n      <td>0.000000</td>\n      <td>0.0</td>\n      <td>0.000000</td>\n      <td>0.000000</td>\n      <td>...</td>\n      <td>0.000000</td>\n      <td>0.000000</td>\n      <td>0.000000</td>\n      <td>0.000000</td>\n      <td>0.000000</td>\n      <td>0.0</td>\n      <td>0.000000</td>\n      <td>0.000000</td>\n      <td>0.000318</td>\n      <td>0.0</td>\n    </tr>\n    <tr>\n      <th>4</th>\n      <td>0.144786</td>\n      <td>0.0</td>\n      <td>1.000000</td>\n      <td>0.081193</td>\n      <td>0.006609</td>\n      <td>0.000000</td>\n      <td>0.000000</td>\n      <td>0.0</td>\n      <td>0.009072</td>\n      <td>0.013407</td>\n      <td>...</td>\n      <td>0.000000</td>\n      <td>0.000000</td>\n      <td>0.003776</td>\n      <td>0.006178</td>\n      <td>0.000000</td>\n      <td>0.0</td>\n      <td>0.045125</td>\n      <td>0.659085</td>\n      <td>0.000000</td>\n      <td>0.0</td>\n    </tr>\n    <tr>\n      <th>5</th>\n      <td>0.028692</td>\n      <td>0.0</td>\n      <td>0.081193</td>\n      <td>1.000000</td>\n      <td>0.000000</td>\n      <td>0.000000</td>\n      <td>0.000000</td>\n      <td>0.0</td>\n      <td>0.169078</td>\n      <td>0.004639</td>\n      <td>...</td>\n      <td>0.010993</td>\n      <td>0.000000</td>\n      <td>0.205141</td>\n      <td>0.000000</td>\n      <td>0.000000</td>\n      <td>0.0</td>\n      <td>0.204557</td>\n      <td>0.119133</td>\n      <td>0.000000</td>\n      <td>0.0</td>\n    </tr>\n    <tr>\n      <th>6</th>\n      <td>0.007016</td>\n      <td>0.0</td>\n      <td>0.006609</td>\n      <td>0.000000</td>\n      <td>1.000000</td>\n      <td>0.012713</td>\n      <td>0.018881</td>\n      <td>0.0</td>\n      <td>0.000000</td>\n      <td>0.000000</td>\n      <td>...</td>\n      <td>0.000000</td>\n      <td>0.000000</td>\n      <td>0.000000</td>\n      <td>0.000000</td>\n      <td>0.000000</td>\n      <td>0.0</td>\n      <td>0.000000</td>\n      <td>0.000000</td>\n      <td>0.000000</td>\n      <td>0.0</td>\n    </tr>\n  </tbody>\n</table>\n<p>5 rows × 1892 columns</p>\n</div>"
     },
     "metadata": {},
     "execution_count": 13
    }
   ],
   "source": [
    "from sklearn.metrics.pairwise import cosine_similarity\n",
    "\n",
    "item_sim = cosine_similarity(table, table)\n",
    "user_sim_df = pd.DataFrame(data=item_sim, index=table.index, columns=table.index)\n",
    "user_sim_df.head()"
   ]
  },
  {
   "source": [
    "### 가장 비슷한 유저의 플레이 리스트 추천(중복 제거)"
   ],
   "cell_type": "markdown",
   "metadata": {}
  },
  {
   "cell_type": "code",
   "execution_count": 14,
   "metadata": {},
   "outputs": [],
   "source": [
    "idx = user_sim_df[2].sort_values(ascending=False)[1:2].index.tolist()[0]\n",
    "sim_user = table.loc[idx].sort_values(ascending=False)[:10].index.tolist()\n",
    "target_user = table.loc[2].sort_values(ascending=False)[:10].index.tolist()\n",
    "rec_song = [song for song in sim_user if song not in target_user]"
   ]
  },
  {
   "cell_type": "code",
   "execution_count": 15,
   "metadata": {},
   "outputs": [
    {
     "output_type": "execute_result",
     "data": {
      "text/plain": [
       "['Madonna',\n",
       " 'Pet Shop Boys',\n",
       " 'Arcadia',\n",
       " 'Book of Love',\n",
       " 'Depeche Mode',\n",
       " 'George Michael',\n",
       " 'Scissor Sisters',\n",
       " 'Thompson Twins',\n",
       " 'Erasure']"
      ]
     },
     "metadata": {},
     "execution_count": 15
    }
   ],
   "source": [
    "rec_song"
   ]
  },
  {
   "source": [
    "### 피어슨 유사도(Pearson Similarity)"
   ],
   "cell_type": "markdown",
   "metadata": {}
  },
  {
   "cell_type": "code",
   "execution_count": 80,
   "metadata": {},
   "outputs": [],
   "source": [
    "corr = table.T.corr(method='pearson')"
   ]
  },
  {
   "cell_type": "code",
   "execution_count": 81,
   "metadata": {},
   "outputs": [
    {
     "output_type": "execute_result",
     "data": {
      "text/plain": [
       "userID      2         3         4         5         6         7         8     \\\n",
       "userID                                                                         \n",
       "2       1.000000 -0.000471  0.143669  0.026981  0.005025  0.029390  0.007652   \n",
       "3      -0.000471  1.000000 -0.000379 -0.000509 -0.000579 -0.000248 -0.000382   \n",
       "4       0.143669 -0.000379  1.000000  0.079895  0.005007 -0.000692 -0.001066   \n",
       "5       0.026981 -0.000509  0.079895  1.000000 -0.002168 -0.000930 -0.001432   \n",
       "6       0.005025 -0.000579  0.005007 -0.002168  1.000000  0.011673  0.017285   \n",
       "...          ...       ...       ...       ...       ...       ...       ...   \n",
       "2095   -0.001597 -0.000461 -0.001285 -0.001726 -0.001965 -0.000843 -0.001298   \n",
       "2096   -0.000144 -0.000318  0.044279  0.203638 -0.001355 -0.000581 -0.000895   \n",
       "2097    0.080981 -0.000364  0.658740  0.117941 -0.001552 -0.000665 -0.001025   \n",
       "2099   -0.001743 -0.000185 -0.001402 -0.001884 -0.002145 -0.000920 -0.001417   \n",
       "2100   -0.001850 -0.000534 -0.001489 -0.002000 -0.002277 -0.000976 -0.001504   \n",
       "\n",
       "userID      9         10        11    ...      2090      2091      2092  \\\n",
       "userID                                ...                                 \n",
       "2      -0.001719 -0.001591  0.019815  ... -0.002003  0.041881 -0.000962   \n",
       "3      -0.000496 -0.000459 -0.000428  ... -0.000578 -0.000460 -0.000278   \n",
       "4      -0.001383  0.007804  0.012230  ... -0.001611 -0.001282  0.003004   \n",
       "5      -0.001859  0.167650  0.003043  ...  0.008852 -0.001722  0.204354   \n",
       "6      -0.002116 -0.001958 -0.001826  ... -0.002464 -0.001960 -0.001184   \n",
       "...          ...       ...       ...  ...       ...       ...       ...   \n",
       "2095   -0.001684 -0.001559 -0.001454  ... -0.001962 -0.001561 -0.000943   \n",
       "2096   -0.001162  0.056861  0.000783  ...  0.005311 -0.001076  0.055690   \n",
       "2097   -0.001330  0.109647 -0.001148  ...  0.003007  0.021488  0.285919   \n",
       "2099    0.004141 -0.001702 -0.001587  ... -0.002142 -0.001704 -0.001029   \n",
       "2100   -0.001952 -0.001806 -0.001684  ...  0.010289 -0.001809 -0.001093   \n",
       "\n",
       "userID      2093      2094      2095      2096      2097      2099      2100  \n",
       "userID                                                                        \n",
       "2       0.002683  0.000500 -0.001597 -0.000144  0.080981 -0.001743 -0.001850  \n",
       "3      -0.000563 -0.000314 -0.000461 -0.000318 -0.000364 -0.000185 -0.000534  \n",
       "4       0.004620 -0.000874 -0.001285  0.044279  0.658740 -0.001402 -0.001489  \n",
       "5      -0.002108 -0.001174 -0.001726  0.203638  0.117941 -0.001884 -0.002000  \n",
       "6      -0.002400 -0.001336 -0.001965 -0.001355 -0.001552 -0.002145 -0.002277  \n",
       "...          ...       ...       ...       ...       ...       ...       ...  \n",
       "2095   -0.001911 -0.001064  1.000000 -0.001079 -0.001235 -0.001708  0.066250  \n",
       "2096    0.004618 -0.000734 -0.001079  1.000000  0.030012 -0.001178 -0.001250  \n",
       "2097   -0.001509 -0.000840 -0.001235  0.030012  1.000000 -0.001349 -0.001431  \n",
       "2099   -0.002086 -0.001162 -0.001708 -0.001178 -0.001349  1.000000 -0.001979  \n",
       "2100   -0.002214 -0.001233  0.066250 -0.001250 -0.001431 -0.001979  1.000000  \n",
       "\n",
       "[1892 rows x 1892 columns]"
      ],
      "text/html": "<div>\n<style scoped>\n    .dataframe tbody tr th:only-of-type {\n        vertical-align: middle;\n    }\n\n    .dataframe tbody tr th {\n        vertical-align: top;\n    }\n\n    .dataframe thead th {\n        text-align: right;\n    }\n</style>\n<table border=\"1\" class=\"dataframe\">\n  <thead>\n    <tr style=\"text-align: right;\">\n      <th>userID</th>\n      <th>2</th>\n      <th>3</th>\n      <th>4</th>\n      <th>5</th>\n      <th>6</th>\n      <th>7</th>\n      <th>8</th>\n      <th>9</th>\n      <th>10</th>\n      <th>11</th>\n      <th>...</th>\n      <th>2090</th>\n      <th>2091</th>\n      <th>2092</th>\n      <th>2093</th>\n      <th>2094</th>\n      <th>2095</th>\n      <th>2096</th>\n      <th>2097</th>\n      <th>2099</th>\n      <th>2100</th>\n    </tr>\n    <tr>\n      <th>userID</th>\n      <th></th>\n      <th></th>\n      <th></th>\n      <th></th>\n      <th></th>\n      <th></th>\n      <th></th>\n      <th></th>\n      <th></th>\n      <th></th>\n      <th></th>\n      <th></th>\n      <th></th>\n      <th></th>\n      <th></th>\n      <th></th>\n      <th></th>\n      <th></th>\n      <th></th>\n      <th></th>\n      <th></th>\n    </tr>\n  </thead>\n  <tbody>\n    <tr>\n      <th>2</th>\n      <td>1.000000</td>\n      <td>-0.000471</td>\n      <td>0.143669</td>\n      <td>0.026981</td>\n      <td>0.005025</td>\n      <td>0.029390</td>\n      <td>0.007652</td>\n      <td>-0.001719</td>\n      <td>-0.001591</td>\n      <td>0.019815</td>\n      <td>...</td>\n      <td>-0.002003</td>\n      <td>0.041881</td>\n      <td>-0.000962</td>\n      <td>0.002683</td>\n      <td>0.000500</td>\n      <td>-0.001597</td>\n      <td>-0.000144</td>\n      <td>0.080981</td>\n      <td>-0.001743</td>\n      <td>-0.001850</td>\n    </tr>\n    <tr>\n      <th>3</th>\n      <td>-0.000471</td>\n      <td>1.000000</td>\n      <td>-0.000379</td>\n      <td>-0.000509</td>\n      <td>-0.000579</td>\n      <td>-0.000248</td>\n      <td>-0.000382</td>\n      <td>-0.000496</td>\n      <td>-0.000459</td>\n      <td>-0.000428</td>\n      <td>...</td>\n      <td>-0.000578</td>\n      <td>-0.000460</td>\n      <td>-0.000278</td>\n      <td>-0.000563</td>\n      <td>-0.000314</td>\n      <td>-0.000461</td>\n      <td>-0.000318</td>\n      <td>-0.000364</td>\n      <td>-0.000185</td>\n      <td>-0.000534</td>\n    </tr>\n    <tr>\n      <th>4</th>\n      <td>0.143669</td>\n      <td>-0.000379</td>\n      <td>1.000000</td>\n      <td>0.079895</td>\n      <td>0.005007</td>\n      <td>-0.000692</td>\n      <td>-0.001066</td>\n      <td>-0.001383</td>\n      <td>0.007804</td>\n      <td>0.012230</td>\n      <td>...</td>\n      <td>-0.001611</td>\n      <td>-0.001282</td>\n      <td>0.003004</td>\n      <td>0.004620</td>\n      <td>-0.000874</td>\n      <td>-0.001285</td>\n      <td>0.044279</td>\n      <td>0.658740</td>\n      <td>-0.001402</td>\n      <td>-0.001489</td>\n    </tr>\n    <tr>\n      <th>5</th>\n      <td>0.026981</td>\n      <td>-0.000509</td>\n      <td>0.079895</td>\n      <td>1.000000</td>\n      <td>-0.002168</td>\n      <td>-0.000930</td>\n      <td>-0.001432</td>\n      <td>-0.001859</td>\n      <td>0.167650</td>\n      <td>0.003043</td>\n      <td>...</td>\n      <td>0.008852</td>\n      <td>-0.001722</td>\n      <td>0.204354</td>\n      <td>-0.002108</td>\n      <td>-0.001174</td>\n      <td>-0.001726</td>\n      <td>0.203638</td>\n      <td>0.117941</td>\n      <td>-0.001884</td>\n      <td>-0.002000</td>\n    </tr>\n    <tr>\n      <th>6</th>\n      <td>0.005025</td>\n      <td>-0.000579</td>\n      <td>0.005007</td>\n      <td>-0.002168</td>\n      <td>1.000000</td>\n      <td>0.011673</td>\n      <td>0.017285</td>\n      <td>-0.002116</td>\n      <td>-0.001958</td>\n      <td>-0.001826</td>\n      <td>...</td>\n      <td>-0.002464</td>\n      <td>-0.001960</td>\n      <td>-0.001184</td>\n      <td>-0.002400</td>\n      <td>-0.001336</td>\n      <td>-0.001965</td>\n      <td>-0.001355</td>\n      <td>-0.001552</td>\n      <td>-0.002145</td>\n      <td>-0.002277</td>\n    </tr>\n    <tr>\n      <th>...</th>\n      <td>...</td>\n      <td>...</td>\n      <td>...</td>\n      <td>...</td>\n      <td>...</td>\n      <td>...</td>\n      <td>...</td>\n      <td>...</td>\n      <td>...</td>\n      <td>...</td>\n      <td>...</td>\n      <td>...</td>\n      <td>...</td>\n      <td>...</td>\n      <td>...</td>\n      <td>...</td>\n      <td>...</td>\n      <td>...</td>\n      <td>...</td>\n      <td>...</td>\n      <td>...</td>\n    </tr>\n    <tr>\n      <th>2095</th>\n      <td>-0.001597</td>\n      <td>-0.000461</td>\n      <td>-0.001285</td>\n      <td>-0.001726</td>\n      <td>-0.001965</td>\n      <td>-0.000843</td>\n      <td>-0.001298</td>\n      <td>-0.001684</td>\n      <td>-0.001559</td>\n      <td>-0.001454</td>\n      <td>...</td>\n      <td>-0.001962</td>\n      <td>-0.001561</td>\n      <td>-0.000943</td>\n      <td>-0.001911</td>\n      <td>-0.001064</td>\n      <td>1.000000</td>\n      <td>-0.001079</td>\n      <td>-0.001235</td>\n      <td>-0.001708</td>\n      <td>0.066250</td>\n    </tr>\n    <tr>\n      <th>2096</th>\n      <td>-0.000144</td>\n      <td>-0.000318</td>\n      <td>0.044279</td>\n      <td>0.203638</td>\n      <td>-0.001355</td>\n      <td>-0.000581</td>\n      <td>-0.000895</td>\n      <td>-0.001162</td>\n      <td>0.056861</td>\n      <td>0.000783</td>\n      <td>...</td>\n      <td>0.005311</td>\n      <td>-0.001076</td>\n      <td>0.055690</td>\n      <td>0.004618</td>\n      <td>-0.000734</td>\n      <td>-0.001079</td>\n      <td>1.000000</td>\n      <td>0.030012</td>\n      <td>-0.001178</td>\n      <td>-0.001250</td>\n    </tr>\n    <tr>\n      <th>2097</th>\n      <td>0.080981</td>\n      <td>-0.000364</td>\n      <td>0.658740</td>\n      <td>0.117941</td>\n      <td>-0.001552</td>\n      <td>-0.000665</td>\n      <td>-0.001025</td>\n      <td>-0.001330</td>\n      <td>0.109647</td>\n      <td>-0.001148</td>\n      <td>...</td>\n      <td>0.003007</td>\n      <td>0.021488</td>\n      <td>0.285919</td>\n      <td>-0.001509</td>\n      <td>-0.000840</td>\n      <td>-0.001235</td>\n      <td>0.030012</td>\n      <td>1.000000</td>\n      <td>-0.001349</td>\n      <td>-0.001431</td>\n    </tr>\n    <tr>\n      <th>2099</th>\n      <td>-0.001743</td>\n      <td>-0.000185</td>\n      <td>-0.001402</td>\n      <td>-0.001884</td>\n      <td>-0.002145</td>\n      <td>-0.000920</td>\n      <td>-0.001417</td>\n      <td>0.004141</td>\n      <td>-0.001702</td>\n      <td>-0.001587</td>\n      <td>...</td>\n      <td>-0.002142</td>\n      <td>-0.001704</td>\n      <td>-0.001029</td>\n      <td>-0.002086</td>\n      <td>-0.001162</td>\n      <td>-0.001708</td>\n      <td>-0.001178</td>\n      <td>-0.001349</td>\n      <td>1.000000</td>\n      <td>-0.001979</td>\n    </tr>\n    <tr>\n      <th>2100</th>\n      <td>-0.001850</td>\n      <td>-0.000534</td>\n      <td>-0.001489</td>\n      <td>-0.002000</td>\n      <td>-0.002277</td>\n      <td>-0.000976</td>\n      <td>-0.001504</td>\n      <td>-0.001952</td>\n      <td>-0.001806</td>\n      <td>-0.001684</td>\n      <td>...</td>\n      <td>0.010289</td>\n      <td>-0.001809</td>\n      <td>-0.001093</td>\n      <td>-0.002214</td>\n      <td>-0.001233</td>\n      <td>0.066250</td>\n      <td>-0.001250</td>\n      <td>-0.001431</td>\n      <td>-0.001979</td>\n      <td>1.000000</td>\n    </tr>\n  </tbody>\n</table>\n<p>1892 rows × 1892 columns</p>\n</div>"
     },
     "metadata": {},
     "execution_count": 81
    }
   ],
   "source": [
    "corr"
   ]
  },
  {
   "cell_type": "code",
   "execution_count": null,
   "metadata": {},
   "outputs": [],
   "source": []
  },
  {
   "source": [
    "## 잠재 인수 모델 (Latent Factor Model)"
   ],
   "cell_type": "markdown",
   "metadata": {}
  },
  {
   "cell_type": "code",
   "execution_count": 67,
   "metadata": {},
   "outputs": [
    {
     "output_type": "execute_result",
     "data": {
      "text/plain": [
       "       userID  artistID  weight\n",
       "0           0        45   13883\n",
       "1           0        46   11690\n",
       "2           0        47   11351\n",
       "3           0        48   10300\n",
       "4           0        49    8983\n",
       "...       ...       ...     ...\n",
       "92829    1891     17615     337\n",
       "92830    1891     17616     297\n",
       "92831    1891     17617     281\n",
       "92832    1891     17618     280\n",
       "92833    1891     17619     263\n",
       "\n",
       "[92834 rows x 3 columns]"
      ],
      "text/html": "<div>\n<style scoped>\n    .dataframe tbody tr th:only-of-type {\n        vertical-align: middle;\n    }\n\n    .dataframe tbody tr th {\n        vertical-align: top;\n    }\n\n    .dataframe thead th {\n        text-align: right;\n    }\n</style>\n<table border=\"1\" class=\"dataframe\">\n  <thead>\n    <tr style=\"text-align: right;\">\n      <th></th>\n      <th>userID</th>\n      <th>artistID</th>\n      <th>weight</th>\n    </tr>\n  </thead>\n  <tbody>\n    <tr>\n      <th>0</th>\n      <td>0</td>\n      <td>45</td>\n      <td>13883</td>\n    </tr>\n    <tr>\n      <th>1</th>\n      <td>0</td>\n      <td>46</td>\n      <td>11690</td>\n    </tr>\n    <tr>\n      <th>2</th>\n      <td>0</td>\n      <td>47</td>\n      <td>11351</td>\n    </tr>\n    <tr>\n      <th>3</th>\n      <td>0</td>\n      <td>48</td>\n      <td>10300</td>\n    </tr>\n    <tr>\n      <th>4</th>\n      <td>0</td>\n      <td>49</td>\n      <td>8983</td>\n    </tr>\n    <tr>\n      <th>...</th>\n      <td>...</td>\n      <td>...</td>\n      <td>...</td>\n    </tr>\n    <tr>\n      <th>92829</th>\n      <td>1891</td>\n      <td>17615</td>\n      <td>337</td>\n    </tr>\n    <tr>\n      <th>92830</th>\n      <td>1891</td>\n      <td>17616</td>\n      <td>297</td>\n    </tr>\n    <tr>\n      <th>92831</th>\n      <td>1891</td>\n      <td>17617</td>\n      <td>281</td>\n    </tr>\n    <tr>\n      <th>92832</th>\n      <td>1891</td>\n      <td>17618</td>\n      <td>280</td>\n    </tr>\n    <tr>\n      <th>92833</th>\n      <td>1891</td>\n      <td>17619</td>\n      <td>263</td>\n    </tr>\n  </tbody>\n</table>\n<p>92834 rows × 3 columns</p>\n</div>"
     },
     "metadata": {},
     "execution_count": 67
    }
   ],
   "source": [
    "user_artists.userID = user_artists.userID.astype('category').cat.codes.values\n",
    "user_artists.artistID = user_artists.artistID.astype('category').cat.codes.values\n",
    "user_artists"
   ]
  },
  {
   "cell_type": "code",
   "execution_count": 70,
   "metadata": {},
   "outputs": [],
   "source": [
    "user_artists.weight = user_artists.weight / user_artists.weight.max()"
   ]
  },
  {
   "cell_type": "code",
   "execution_count": 72,
   "metadata": {},
   "outputs": [],
   "source": [
    "from tensorflow.keras import Model\n",
    "from tensorflow.keras.layers import Input, Embedding, Flatten, dot\n",
    "from tensorflow.keras import regularizers\n",
    "\n",
    "item_input = Input(shape=[1]) # mini_df.item\n",
    "user_input = Input(shape=[1]) # mini_df.user"
   ]
  },
  {
   "cell_type": "code",
   "execution_count": 73,
   "metadata": {},
   "outputs": [],
   "source": [
    "n_items = len(user_artists.artistID.unique()) # 영화 개수\n",
    "n_items_latent_factors = 2 # 영화의 잠재 인수 개수\n",
    "\n",
    "n_users = len(user_artists.userID.unique()) # 사용자 수 \n",
    "n_users_latent_factors = 2 # 사용자의 잠재 인수 개수\n",
    "\n",
    "# Item latent factor\n",
    "item_embedding = Embedding(n_items, n_items_latent_factors, # (5X2) Latent factor\n",
    "                           embeddings_regularizer=regularizers.l2(0.001),\n",
    "                           name='item_embedding')(item_input)\n",
    "# User latent factor\n",
    "user_embedding = Embedding(n_users, n_users_latent_factors, # (4X2) Latent factor\n",
    "                           embeddings_regularizer=regularizers.l2(0.001),\n",
    "                           name='user_embedding')(user_input)"
   ]
  },
  {
   "cell_type": "code",
   "execution_count": 74,
   "metadata": {},
   "outputs": [],
   "source": [
    "# Item latent vector\n",
    "item_vec = Flatten()(item_embedding)\n",
    "# User latent vector\n",
    "user_vec = Flatten()(user_embedding)"
   ]
  },
  {
   "cell_type": "code",
   "execution_count": 75,
   "metadata": {},
   "outputs": [],
   "source": [
    "r_hat = dot([item_vec, user_vec], axes=-1)\n",
    "mini_model = Model([user_input, item_input], r_hat)\n",
    "mini_model.compile(optimizer = 'sgd', loss = 'mean_squared_error')"
   ]
  },
  {
   "cell_type": "code",
   "execution_count": 78,
   "metadata": {},
   "outputs": [
    {
     "output_type": "stream",
     "name": "stdout",
     "text": [
      "loss:  0.00011768757394747809\n"
     ]
    },
    {
     "output_type": "display_data",
     "data": {
      "text/plain": "<Figure size 432x288 with 1 Axes>",
      "image/svg+xml": "<?xml version=\"1.0\" encoding=\"utf-8\" standalone=\"no\"?>\r\n<!DOCTYPE svg PUBLIC \"-//W3C//DTD SVG 1.1//EN\"\r\n  \"http://www.w3.org/Graphics/SVG/1.1/DTD/svg11.dtd\">\r\n<!-- Created with matplotlib (https://matplotlib.org/) -->\r\n<svg height=\"268.239375pt\" version=\"1.1\" viewBox=\"0 0 401.288125 268.239375\" width=\"401.288125pt\" xmlns=\"http://www.w3.org/2000/svg\" xmlns:xlink=\"http://www.w3.org/1999/xlink\">\r\n <defs>\r\n  <style type=\"text/css\">\r\n*{stroke-linecap:butt;stroke-linejoin:round;}\r\n  </style>\r\n </defs>\r\n <g id=\"figure_1\">\r\n  <g id=\"patch_1\">\r\n   <path d=\"M 0 268.239375 \r\nL 401.288125 268.239375 \r\nL 401.288125 0 \r\nL 0 0 \r\nz\r\n\" style=\"fill:none;\"/>\r\n  </g>\r\n  <g id=\"axes_1\">\r\n   <g id=\"patch_2\">\r\n    <path d=\"M 59.288125 224.64 \r\nL 394.088125 224.64 \r\nL 394.088125 7.2 \r\nL 59.288125 7.2 \r\nz\r\n\" style=\"fill:#ffffff;\"/>\r\n   </g>\r\n   <g id=\"matplotlib.axis_1\">\r\n    <g id=\"xtick_1\">\r\n     <g id=\"line2d_1\">\r\n      <path clip-path=\"url(#pd59766140f)\" d=\"M 74.506307 224.64 \r\nL 74.506307 7.2 \r\n\" style=\"fill:none;stroke:#cccccc;stroke-linecap:round;\"/>\r\n     </g>\r\n     <g id=\"text_1\">\r\n      <!-- 0 -->\r\n      <defs>\r\n       <path d=\"M 4.34375 34.46875 \r\nQ 4.34375 53.515625 10.546875 63.28125 \r\nQ 16.75 73.046875 28.421875 73.046875 \r\nQ 50.828125 73.046875 50.828125 36.234375 \r\nQ 50.828125 18.0625 44.59375 8.421875 \r\nQ 38.375 -1.21875 26.8125 -1.21875 \r\nQ 15.875 -1.21875 10.109375 8.125 \r\nQ 4.34375 17.484375 4.34375 34.46875 \r\nz\r\nM 12.25 34.859375 \r\nQ 12.25 5.375 27.640625 5.375 \r\nQ 42.921875 5.375 42.921875 35.296875 \r\nQ 42.921875 66.40625 28.03125 66.40625 \r\nQ 12.25 66.40625 12.25 34.859375 \r\nz\r\n\" id=\"MalgunGothic-48\"/>\r\n      </defs>\r\n      <g style=\"fill:#262626;\" transform=\"translate(71.47701 242.491406)scale(0.11 -0.11)\">\r\n       <use xlink:href=\"#MalgunGothic-48\"/>\r\n      </g>\r\n     </g>\r\n    </g>\r\n    <g id=\"xtick_2\">\r\n     <g id=\"line2d_2\">\r\n      <path clip-path=\"url(#pd59766140f)\" d=\"M 135.99391 224.64 \r\nL 135.99391 7.2 \r\n\" style=\"fill:none;stroke:#cccccc;stroke-linecap:round;\"/>\r\n     </g>\r\n     <g id=\"text_2\">\r\n      <!-- 20 -->\r\n      <defs>\r\n       <path d=\"M 39.359375 52.6875 \r\nQ 39.359375 59.125 35.546875 62.78125 \r\nQ 31.734375 66.453125 25.4375 66.453125 \r\nQ 20.953125 66.453125 16.453125 64.125 \r\nQ 11.96875 61.8125 8.34375 57.765625 \r\nL 8.34375 66.15625 \r\nQ 15.328125 73.046875 26.421875 73.046875 \r\nQ 35.640625 73.046875 41.28125 67.71875 \r\nQ 46.921875 62.40625 46.921875 53.375 \r\nQ 46.921875 45.609375 43.3125 39.765625 \r\nQ 39.703125 33.9375 31 27.734375 \r\nQ 22.796875 21.96875 19.59375 18.984375 \r\nQ 16.40625 16.015625 15.109375 13.34375 \r\nQ 13.8125 10.6875 13.8125 7.03125 \r\nL 48.6875 7.03125 \r\nL 48.6875 0 \r\nL 5.5625 0 \r\nL 5.5625 3.515625 \r\nQ 5.5625 9.421875 7.203125 13.59375 \r\nQ 8.84375 17.78125 12.671875 21.75 \r\nQ 16.5 25.734375 24.953125 31.59375 \r\nQ 32.671875 36.921875 36.015625 41.71875 \r\nQ 39.359375 46.53125 39.359375 52.6875 \r\nz\r\n\" id=\"MalgunGothic-50\"/>\r\n      </defs>\r\n      <g style=\"fill:#262626;\" transform=\"translate(129.935316 242.491406)scale(0.11 -0.11)\">\r\n       <use xlink:href=\"#MalgunGothic-50\"/>\r\n       <use x=\"55.078125\" xlink:href=\"#MalgunGothic-48\"/>\r\n      </g>\r\n     </g>\r\n    </g>\r\n    <g id=\"xtick_3\">\r\n     <g id=\"line2d_3\">\r\n      <path clip-path=\"url(#pd59766140f)\" d=\"M 197.481513 224.64 \r\nL 197.481513 7.2 \r\n\" style=\"fill:none;stroke:#cccccc;stroke-linecap:round;\"/>\r\n     </g>\r\n     <g id=\"text_3\">\r\n      <!-- 40 -->\r\n      <defs>\r\n       <path d=\"M 42.234375 71.875 \r\nL 42.234375 24.421875 \r\nL 51.703125 24.421875 \r\nL 51.703125 17.390625 \r\nL 42.234375 17.390625 \r\nL 42.234375 0 \r\nL 34.578125 0 \r\nL 34.578125 17.390625 \r\nL 0.78125 17.390625 \r\nL 0.78125 23.96875 \r\nQ 11.375 35.890625 20.234375 48.578125 \r\nQ 29.109375 61.28125 33.9375 71.875 \r\nz\r\nM 9.765625 24.421875 \r\nL 34.578125 24.421875 \r\nL 34.578125 59.859375 \r\nQ 25.203125 43.5625 14.984375 30.953125 \r\nz\r\n\" id=\"MalgunGothic-52\"/>\r\n      </defs>\r\n      <g style=\"fill:#262626;\" transform=\"translate(191.42292 242.491406)scale(0.11 -0.11)\">\r\n       <use xlink:href=\"#MalgunGothic-52\"/>\r\n       <use x=\"55.078125\" xlink:href=\"#MalgunGothic-48\"/>\r\n      </g>\r\n     </g>\r\n    </g>\r\n    <g id=\"xtick_4\">\r\n     <g id=\"line2d_4\">\r\n      <path clip-path=\"url(#pd59766140f)\" d=\"M 258.969117 224.64 \r\nL 258.969117 7.2 \r\n\" style=\"fill:none;stroke:#cccccc;stroke-linecap:round;\"/>\r\n     </g>\r\n     <g id=\"text_4\">\r\n      <!-- 60 -->\r\n      <defs>\r\n       <path d=\"M 46.578125 63.578125 \r\nQ 40.921875 66.40625 34.8125 66.40625 \r\nQ 24.859375 66.40625 19.1875 57.640625 \r\nQ 13.53125 48.875 13.578125 34.578125 \r\nL 13.8125 34.578125 \r\nQ 18.796875 44.875 30.28125 44.875 \r\nQ 39.796875 44.875 45.359375 38.71875 \r\nQ 50.921875 32.5625 50.921875 22.65625 \r\nQ 50.921875 12.453125 44.640625 5.609375 \r\nQ 38.375 -1.21875 28.515625 -1.21875 \r\nQ 17.4375 -1.21875 11.5 7.46875 \r\nQ 5.5625 16.15625 5.5625 31.546875 \r\nQ 5.5625 49.703125 13.234375 61.375 \r\nQ 20.90625 73.046875 34.71875 73.046875 \r\nQ 42.1875 73.046875 46.578125 71 \r\nz\r\nM 14.15625 23.53125 \r\nQ 14.15625 15.96875 18.203125 10.671875 \r\nQ 22.265625 5.375 28.8125 5.375 \r\nQ 35.109375 5.375 39.03125 10.078125 \r\nQ 42.96875 14.796875 42.96875 21.6875 \r\nQ 42.96875 29.5 39.203125 33.859375 \r\nQ 35.453125 38.234375 28.71875 38.234375 \r\nQ 22.5625 38.234375 18.359375 33.953125 \r\nQ 14.15625 29.6875 14.15625 23.53125 \r\nz\r\n\" id=\"MalgunGothic-54\"/>\r\n      </defs>\r\n      <g style=\"fill:#262626;\" transform=\"translate(252.910523 242.491406)scale(0.11 -0.11)\">\r\n       <use xlink:href=\"#MalgunGothic-54\"/>\r\n       <use x=\"55.078125\" xlink:href=\"#MalgunGothic-48\"/>\r\n      </g>\r\n     </g>\r\n    </g>\r\n    <g id=\"xtick_5\">\r\n     <g id=\"line2d_5\">\r\n      <path clip-path=\"url(#pd59766140f)\" d=\"M 320.45672 224.64 \r\nL 320.45672 7.2 \r\n\" style=\"fill:none;stroke:#cccccc;stroke-linecap:round;\"/>\r\n     </g>\r\n     <g id=\"text_5\">\r\n      <!-- 80 -->\r\n      <defs>\r\n       <path d=\"M 4.734375 20.015625 \r\nQ 4.734375 26.078125 8.421875 31.421875 \r\nQ 12.109375 36.765625 18.015625 38.96875 \r\nQ 13.375 41.359375 10.546875 45.546875 \r\nQ 7.71875 49.75 7.71875 54.6875 \r\nQ 7.71875 59.8125 10.296875 64.03125 \r\nQ 12.890625 68.265625 17.53125 70.65625 \r\nQ 22.171875 73.046875 27.78125 73.046875 \r\nQ 36.46875 73.046875 42.1875 67.84375 \r\nQ 47.90625 62.640625 47.90625 54.6875 \r\nQ 47.90625 49.703125 45.015625 45.53125 \r\nQ 42.140625 41.359375 37.703125 38.96875 \r\nQ 43.5625 36.71875 47.21875 31.390625 \r\nQ 50.875 26.078125 50.875 20.015625 \r\nQ 50.875 10.5 44.421875 4.640625 \r\nQ 37.984375 -1.21875 27.78125 -1.21875 \r\nQ 17.671875 -1.21875 11.203125 4.703125 \r\nQ 4.734375 10.640625 4.734375 20.015625 \r\nz\r\nM 12.640625 20.75 \r\nQ 12.640625 13.71875 16.890625 9.546875 \r\nQ 21.140625 5.375 27.828125 5.375 \r\nQ 34.46875 5.375 38.78125 9.671875 \r\nQ 43.109375 13.96875 43.109375 20.75 \r\nQ 43.109375 27.046875 38.78125 31.421875 \r\nQ 34.46875 35.796875 27.828125 35.796875 \r\nQ 21.4375 35.796875 17.03125 31.5625 \r\nQ 12.640625 27.34375 12.640625 20.75 \r\nz\r\nM 15.671875 54.046875 \r\nQ 15.671875 48.828125 19.28125 45.3125 \r\nQ 22.90625 41.796875 27.828125 41.796875 \r\nQ 32.765625 41.796875 36.40625 45.3125 \r\nQ 40.046875 48.828125 40.046875 54.046875 \r\nQ 40.046875 59.421875 36.578125 62.90625 \r\nQ 33.109375 66.40625 27.828125 66.40625 \r\nQ 22.65625 66.40625 19.15625 62.953125 \r\nQ 15.671875 59.515625 15.671875 54.046875 \r\nz\r\n\" id=\"MalgunGothic-56\"/>\r\n      </defs>\r\n      <g style=\"fill:#262626;\" transform=\"translate(314.398126 242.491406)scale(0.11 -0.11)\">\r\n       <use xlink:href=\"#MalgunGothic-56\"/>\r\n       <use x=\"55.078125\" xlink:href=\"#MalgunGothic-48\"/>\r\n      </g>\r\n     </g>\r\n    </g>\r\n    <g id=\"xtick_6\">\r\n     <g id=\"line2d_6\">\r\n      <path clip-path=\"url(#pd59766140f)\" d=\"M 381.944323 224.64 \r\nL 381.944323 7.2 \r\n\" style=\"fill:none;stroke:#cccccc;stroke-linecap:round;\"/>\r\n     </g>\r\n     <g id=\"text_6\">\r\n      <!-- 100 -->\r\n      <defs>\r\n       <path d=\"M 34.859375 0 \r\nL 27.09375 0 \r\nL 27.09375 62.0625 \r\nQ 24.859375 59.8125 19.78125 57.203125 \r\nQ 14.703125 54.59375 10.5 53.5625 \r\nL 10.5 61.859375 \r\nQ 15.875 63.375 22.015625 66.796875 \r\nQ 28.171875 70.21875 31.734375 73.4375 \r\nL 34.859375 73.4375 \r\nz\r\n\" id=\"MalgunGothic-49\"/>\r\n      </defs>\r\n      <g style=\"fill:#262626;\" transform=\"translate(372.856433 242.491406)scale(0.11 -0.11)\">\r\n       <use xlink:href=\"#MalgunGothic-49\"/>\r\n       <use x=\"55.078125\" xlink:href=\"#MalgunGothic-48\"/>\r\n       <use x=\"110.15625\" xlink:href=\"#MalgunGothic-48\"/>\r\n      </g>\r\n     </g>\r\n    </g>\r\n    <g id=\"text_7\">\r\n     <!-- epoch -->\r\n     <defs>\r\n      <path d=\"M 49.3125 23.734375 \r\nL 12.9375 23.734375 \r\nQ 13.1875 14.84375 17.703125 10.125 \r\nQ 22.21875 5.421875 29.828125 5.421875 \r\nQ 38.625 5.421875 45.84375 11.234375 \r\nL 45.84375 3.8125 \r\nQ 38.96875 -1.21875 28.03125 -1.21875 \r\nQ 17.1875 -1.21875 11.0625 5.875 \r\nQ 4.9375 12.984375 4.9375 25.53125 \r\nQ 4.9375 37.203125 11.671875 44.84375 \r\nQ 18.40625 52.484375 28.375 52.484375 \r\nQ 38.328125 52.484375 43.8125 45.96875 \r\nQ 49.3125 39.453125 49.3125 27.9375 \r\nz\r\nM 41.3125 30.5625 \r\nQ 41.3125 37.75 37.859375 41.796875 \r\nQ 34.421875 45.84375 28.265625 45.84375 \r\nQ 22.46875 45.84375 18.265625 41.671875 \r\nQ 14.0625 37.5 13.03125 30.5625 \r\nz\r\n\" id=\"MalgunGothic-101\"/>\r\n      <path d=\"M 16.15625 7.515625 \r\nL 16.15625 -23.640625 \r\nL 8.40625 -23.640625 \r\nL 8.40625 51.3125 \r\nL 16.15625 51.3125 \r\nL 16.15625 42.234375 \r\nL 16.359375 42.234375 \r\nQ 22.46875 52.484375 34.125 52.484375 \r\nQ 43.890625 52.484375 49.546875 45.625 \r\nQ 55.21875 38.765625 55.21875 27.15625 \r\nQ 55.21875 14.15625 48.84375 6.46875 \r\nQ 42.484375 -1.21875 31.78125 -1.21875 \r\nQ 21.78125 -1.21875 16.359375 7.515625 \r\nz\r\nM 16.15625 20.796875 \r\nQ 16.15625 14.40625 20.421875 9.890625 \r\nQ 24.703125 5.375 31.109375 5.375 \r\nQ 38.671875 5.375 42.984375 11.1875 \r\nQ 47.3125 17 47.3125 27.390625 \r\nQ 47.3125 35.9375 43.234375 40.9375 \r\nQ 39.15625 45.953125 32.375 45.953125 \r\nQ 25.296875 45.953125 20.71875 40.921875 \r\nQ 16.15625 35.890625 16.15625 28.21875 \r\nz\r\n\" id=\"MalgunGothic-112\"/>\r\n      <path d=\"M 4.9375 25 \r\nQ 4.9375 37.796875 11.890625 45.140625 \r\nQ 18.84375 52.484375 30.90625 52.484375 \r\nQ 42.140625 52.484375 48.609375 45.421875 \r\nQ 55.078125 38.375 55.078125 25.78125 \r\nQ 55.078125 13.578125 48.09375 6.171875 \r\nQ 41.109375 -1.21875 29.6875 -1.21875 \r\nQ 18.5 -1.21875 11.71875 6 \r\nQ 4.9375 13.234375 4.9375 25 \r\nz\r\nM 12.796875 25.34375 \r\nQ 12.796875 16.265625 17.546875 10.8125 \r\nQ 22.3125 5.375 30.21875 5.375 \r\nQ 38.421875 5.375 42.796875 10.625 \r\nQ 47.171875 15.875 47.171875 25.53125 \r\nQ 47.171875 35.25 42.765625 40.59375 \r\nQ 38.375 45.953125 30.21875 45.953125 \r\nQ 22.265625 45.953125 17.53125 40.421875 \r\nQ 12.796875 34.90625 12.796875 25.34375 \r\nz\r\n\" id=\"MalgunGothic-111\"/>\r\n      <path d=\"M 43.171875 2.390625 \r\nQ 37.109375 -1.21875 29.25 -1.21875 \r\nQ 18.5 -1.21875 11.71875 5.8125 \r\nQ 4.9375 12.84375 4.9375 24.46875 \r\nQ 4.9375 37.203125 12.140625 44.84375 \r\nQ 19.34375 52.484375 31.390625 52.484375 \r\nQ 38.03125 52.484375 43.21875 50 \r\nL 43.21875 41.890625 \r\nQ 37.453125 45.953125 30.953125 45.953125 \r\nQ 23.09375 45.953125 17.9375 40.265625 \r\nQ 12.796875 34.578125 12.796875 25.140625 \r\nQ 12.796875 16.15625 17.5 10.765625 \r\nQ 22.21875 5.375 30.421875 5.375 \r\nQ 37.203125 5.375 43.171875 9.859375 \r\nz\r\n\" id=\"MalgunGothic-99\"/>\r\n      <path d=\"M 50.59375 0 \r\nL 42.875 0 \r\nL 42.875 29.59375 \r\nQ 42.875 45.953125 30.671875 45.953125 \r\nQ 24.5625 45.953125 20.359375 41.203125 \r\nQ 16.15625 36.46875 16.15625 29.046875 \r\nL 16.15625 0 \r\nL 8.40625 0 \r\nL 8.40625 75.921875 \r\nL 16.15625 75.921875 \r\nL 16.15625 42.71875 \r\nL 16.359375 42.71875 \r\nQ 22.265625 52.484375 33.25 52.484375 \r\nQ 50.59375 52.484375 50.59375 31.59375 \r\nz\r\n\" id=\"MalgunGothic-104\"/>\r\n     </defs>\r\n     <g style=\"fill:#262626;\" transform=\"translate(209.971563 258.2025)scale(0.12 -0.12)\">\r\n      <use xlink:href=\"#MalgunGothic-101\"/>\r\n      <use x=\"53.515625\" xlink:href=\"#MalgunGothic-112\"/>\r\n      <use x=\"113.574219\" xlink:href=\"#MalgunGothic-111\"/>\r\n      <use x=\"173.486328\" xlink:href=\"#MalgunGothic-99\"/>\r\n      <use x=\"220.751953\" xlink:href=\"#MalgunGothic-104\"/>\r\n     </g>\r\n    </g>\r\n   </g>\r\n   <g id=\"matplotlib.axis_2\">\r\n    <g id=\"ytick_1\">\r\n     <g id=\"line2d_7\">\r\n      <path clip-path=\"url(#pd59766140f)\" d=\"M 59.288125 217.176827 \r\nL 394.088125 217.176827 \r\n\" style=\"fill:none;stroke:#cccccc;stroke-linecap:round;\"/>\r\n     </g>\r\n     <g id=\"text_8\">\r\n      <!-- 0.000 -->\r\n      <defs>\r\n       <path d=\"M 5.5625 4.296875 \r\nQ 5.5625 6.59375 7.171875 8.171875 \r\nQ 8.796875 9.765625 10.9375 9.765625 \r\nQ 13.09375 9.765625 14.703125 8.171875 \r\nQ 16.3125 6.59375 16.3125 4.296875 \r\nQ 16.3125 2.15625 14.71875 0.515625 \r\nQ 13.140625 -1.125 10.9375 -1.125 \r\nQ 8.734375 -1.125 7.140625 0.453125 \r\nQ 5.5625 2.046875 5.5625 4.296875 \r\nz\r\n\" id=\"MalgunGothic-46\"/>\r\n      </defs>\r\n      <g style=\"fill:#262626;\" transform=\"translate(23.1475 221.35253)scale(0.11 -0.11)\">\r\n       <use xlink:href=\"#MalgunGothic-48\"/>\r\n       <use x=\"55.078125\" xlink:href=\"#MalgunGothic-46\"/>\r\n       <use x=\"76.953125\" xlink:href=\"#MalgunGothic-48\"/>\r\n       <use x=\"132.03125\" xlink:href=\"#MalgunGothic-48\"/>\r\n       <use x=\"187.109375\" xlink:href=\"#MalgunGothic-48\"/>\r\n      </g>\r\n     </g>\r\n    </g>\r\n    <g id=\"ytick_2\">\r\n     <g id=\"line2d_8\">\r\n      <path clip-path=\"url(#pd59766140f)\" d=\"M 59.288125 176.043112 \r\nL 394.088125 176.043112 \r\n\" style=\"fill:none;stroke:#cccccc;stroke-linecap:round;\"/>\r\n     </g>\r\n     <g id=\"text_9\">\r\n      <!-- 0.002 -->\r\n      <g style=\"fill:#262626;\" transform=\"translate(23.1475 180.218815)scale(0.11 -0.11)\">\r\n       <use xlink:href=\"#MalgunGothic-48\"/>\r\n       <use x=\"55.078125\" xlink:href=\"#MalgunGothic-46\"/>\r\n       <use x=\"76.953125\" xlink:href=\"#MalgunGothic-48\"/>\r\n       <use x=\"132.03125\" xlink:href=\"#MalgunGothic-48\"/>\r\n       <use x=\"187.109375\" xlink:href=\"#MalgunGothic-50\"/>\r\n      </g>\r\n     </g>\r\n    </g>\r\n    <g id=\"ytick_3\">\r\n     <g id=\"line2d_9\">\r\n      <path clip-path=\"url(#pd59766140f)\" d=\"M 59.288125 134.909397 \r\nL 394.088125 134.909397 \r\n\" style=\"fill:none;stroke:#cccccc;stroke-linecap:round;\"/>\r\n     </g>\r\n     <g id=\"text_10\">\r\n      <!-- 0.004 -->\r\n      <g style=\"fill:#262626;\" transform=\"translate(23.1475 139.0851)scale(0.11 -0.11)\">\r\n       <use xlink:href=\"#MalgunGothic-48\"/>\r\n       <use x=\"55.078125\" xlink:href=\"#MalgunGothic-46\"/>\r\n       <use x=\"76.953125\" xlink:href=\"#MalgunGothic-48\"/>\r\n       <use x=\"132.03125\" xlink:href=\"#MalgunGothic-48\"/>\r\n       <use x=\"187.109375\" xlink:href=\"#MalgunGothic-52\"/>\r\n      </g>\r\n     </g>\r\n    </g>\r\n    <g id=\"ytick_4\">\r\n     <g id=\"line2d_10\">\r\n      <path clip-path=\"url(#pd59766140f)\" d=\"M 59.288125 93.775682 \r\nL 394.088125 93.775682 \r\n\" style=\"fill:none;stroke:#cccccc;stroke-linecap:round;\"/>\r\n     </g>\r\n     <g id=\"text_11\">\r\n      <!-- 0.006 -->\r\n      <g style=\"fill:#262626;\" transform=\"translate(23.1475 97.951385)scale(0.11 -0.11)\">\r\n       <use xlink:href=\"#MalgunGothic-48\"/>\r\n       <use x=\"55.078125\" xlink:href=\"#MalgunGothic-46\"/>\r\n       <use x=\"76.953125\" xlink:href=\"#MalgunGothic-48\"/>\r\n       <use x=\"132.03125\" xlink:href=\"#MalgunGothic-48\"/>\r\n       <use x=\"187.109375\" xlink:href=\"#MalgunGothic-54\"/>\r\n      </g>\r\n     </g>\r\n    </g>\r\n    <g id=\"ytick_5\">\r\n     <g id=\"line2d_11\">\r\n      <path clip-path=\"url(#pd59766140f)\" d=\"M 59.288125 52.641967 \r\nL 394.088125 52.641967 \r\n\" style=\"fill:none;stroke:#cccccc;stroke-linecap:round;\"/>\r\n     </g>\r\n     <g id=\"text_12\">\r\n      <!-- 0.008 -->\r\n      <g style=\"fill:#262626;\" transform=\"translate(23.1475 56.81767)scale(0.11 -0.11)\">\r\n       <use xlink:href=\"#MalgunGothic-48\"/>\r\n       <use x=\"55.078125\" xlink:href=\"#MalgunGothic-46\"/>\r\n       <use x=\"76.953125\" xlink:href=\"#MalgunGothic-48\"/>\r\n       <use x=\"132.03125\" xlink:href=\"#MalgunGothic-48\"/>\r\n       <use x=\"187.109375\" xlink:href=\"#MalgunGothic-56\"/>\r\n      </g>\r\n     </g>\r\n    </g>\r\n    <g id=\"ytick_6\">\r\n     <g id=\"line2d_12\">\r\n      <path clip-path=\"url(#pd59766140f)\" d=\"M 59.288125 11.508252 \r\nL 394.088125 11.508252 \r\n\" style=\"fill:none;stroke:#cccccc;stroke-linecap:round;\"/>\r\n     </g>\r\n     <g id=\"text_13\">\r\n      <!-- 0.010 -->\r\n      <g style=\"fill:#262626;\" transform=\"translate(23.1475 15.683955)scale(0.11 -0.11)\">\r\n       <use xlink:href=\"#MalgunGothic-48\"/>\r\n       <use x=\"55.078125\" xlink:href=\"#MalgunGothic-46\"/>\r\n       <use x=\"76.953125\" xlink:href=\"#MalgunGothic-48\"/>\r\n       <use x=\"132.03125\" xlink:href=\"#MalgunGothic-49\"/>\r\n       <use x=\"187.109375\" xlink:href=\"#MalgunGothic-48\"/>\r\n      </g>\r\n     </g>\r\n    </g>\r\n    <g id=\"text_14\">\r\n     <!-- loss -->\r\n     <defs>\r\n      <path d=\"M 8.453125 0 \r\nL 8.453125 75.921875 \r\nL 16.15625 75.921875 \r\nL 16.15625 0 \r\nz\r\n\" id=\"MalgunGothic-108\"/>\r\n      <path d=\"M 5.171875 10.453125 \r\nQ 11.921875 5.46875 19.96875 5.46875 \r\nQ 30.90625 5.46875 30.90625 12.84375 \r\nQ 30.90625 16.015625 28.515625 18.09375 \r\nQ 26.125 20.171875 19.09375 22.796875 \r\nQ 10.984375 26.03125 8.125 29.34375 \r\nQ 5.28125 32.671875 5.28125 37.75 \r\nQ 5.28125 44.28125 10.9375 48.375 \r\nQ 16.609375 52.484375 24.75 52.484375 \r\nQ 31.296875 52.484375 36.578125 50.203125 \r\nL 36.578125 42.140625 \r\nQ 30.859375 45.84375 23.53125 45.84375 \r\nQ 18.75 45.84375 16.015625 43.71875 \r\nQ 13.28125 41.609375 13.28125 38.421875 \r\nQ 13.28125 35.015625 15.296875 33.203125 \r\nQ 17.328125 31.390625 24.125 28.71875 \r\nQ 33.296875 25.140625 36.078125 21.71875 \r\nQ 38.875 18.3125 38.875 13.578125 \r\nQ 38.875 6.734375 33.234375 2.75 \r\nQ 27.59375 -1.21875 18.796875 -1.21875 \r\nQ 10.84375 -1.21875 5.171875 1.90625 \r\nz\r\n\" id=\"MalgunGothic-115\"/>\r\n     </defs>\r\n     <g style=\"fill:#262626;\" transform=\"translate(16.310625 126.188437)rotate(-90)scale(0.12 -0.12)\">\r\n      <use xlink:href=\"#MalgunGothic-108\"/>\r\n      <use x=\"24.609375\" xlink:href=\"#MalgunGothic-111\"/>\r\n      <use x=\"84.521484\" xlink:href=\"#MalgunGothic-115\"/>\r\n      <use x=\"127.832031\" xlink:href=\"#MalgunGothic-115\"/>\r\n     </g>\r\n    </g>\r\n   </g>\r\n   <g id=\"line2d_13\">\r\n    <path clip-path=\"url(#pd59766140f)\" d=\"M 74.506307 17.083636 \r\nL 77.580687 38.748445 \r\nL 80.655067 58.039251 \r\nL 83.729447 75.215624 \r\nL 86.803827 90.509515 \r\nL 89.878208 104.127081 \r\nL 92.952588 116.252023 \r\nL 96.026968 127.048273 \r\nL 99.101348 136.661214 \r\nL 102.175728 145.220435 \r\nL 105.250108 152.84166 \r\nL 108.324489 159.627654 \r\nL 111.398869 165.669803 \r\nL 114.473249 171.049832 \r\nL 117.547629 175.840189 \r\nL 120.622009 180.105517 \r\nL 123.696389 183.903397 \r\nL 126.77077 187.285016 \r\nL 129.84515 190.296037 \r\nL 132.91953 192.977008 \r\nL 135.99391 195.364166 \r\nL 139.06829 197.489775 \r\nL 142.14267 199.382316 \r\nL 145.217051 201.067521 \r\nL 148.291431 202.56799 \r\nL 151.365811 203.904022 \r\nL 154.440191 205.093608 \r\nL 157.514571 206.152855 \r\nL 160.588951 207.095997 \r\nL 163.663332 207.935761 \r\nL 166.737712 208.683495 \r\nL 169.812092 209.34928 \r\nL 172.886472 209.942108 \r\nL 175.960852 210.469949 \r\nL 179.035232 210.939953 \r\nL 182.109613 211.358436 \r\nL 185.183993 211.731059 \r\nL 188.258373 212.062849 \r\nL 191.332753 212.358267 \r\nL 194.407133 212.621319 \r\nL 197.481513 212.855526 \r\nL 200.555894 213.064068 \r\nL 203.630274 213.249763 \r\nL 206.704654 213.415102 \r\nL 209.779034 213.562325 \r\nL 212.853414 213.693408 \r\nL 215.927794 213.810123 \r\nL 219.002175 213.914049 \r\nL 222.076555 214.006585 \r\nL 225.150935 214.088984 \r\nL 228.225315 214.162342 \r\nL 231.299695 214.227668 \r\nL 234.374075 214.28583 \r\nL 237.448456 214.337626 \r\nL 240.522836 214.383735 \r\nL 243.597216 214.424794 \r\nL 246.671596 214.461359 \r\nL 249.745976 214.493908 \r\nL 252.820356 214.522892 \r\nL 255.894737 214.548701 \r\nL 258.969117 214.571684 \r\nL 262.043497 214.592149 \r\nL 265.117877 214.610362 \r\nL 268.192257 214.626587 \r\nL 271.266637 214.641031 \r\nL 274.341018 214.653885 \r\nL 277.415398 214.665342 \r\nL 280.489778 214.675537 \r\nL 283.564158 214.684619 \r\nL 286.638538 214.692699 \r\nL 289.712918 214.699899 \r\nL 292.787299 214.706309 \r\nL 295.861679 214.712019 \r\nL 298.936059 214.717097 \r\nL 302.010439 214.721621 \r\nL 305.084819 214.725652 \r\nL 308.159199 214.729235 \r\nL 311.23358 214.732431 \r\nL 314.30796 214.735276 \r\nL 317.38234 214.737808 \r\nL 320.45672 214.740061 \r\nL 323.5311 214.742068 \r\nL 326.60548 214.74386 \r\nL 329.679861 214.745451 \r\nL 332.754241 214.746865 \r\nL 335.828621 214.748129 \r\nL 338.903001 214.749254 \r\nL 341.977381 214.750252 \r\nL 345.051761 214.751143 \r\nL 348.126142 214.751933 \r\nL 351.200522 214.752645 \r\nL 354.274902 214.753265 \r\nL 357.349282 214.753834 \r\nL 360.423662 214.754328 \r\nL 363.498042 214.754772 \r\nL 366.572423 214.75517 \r\nL 369.646803 214.755521 \r\nL 372.721183 214.755832 \r\nL 375.795563 214.756116 \r\nL 378.869943 214.756364 \r\n\" style=\"fill:none;stroke:#4c72b0;stroke-linecap:round;stroke-width:1.5;\"/>\r\n   </g>\r\n   <g id=\"patch_3\">\r\n    <path d=\"M 59.288125 224.64 \r\nL 59.288125 7.2 \r\n\" style=\"fill:none;stroke:#cccccc;stroke-linecap:square;stroke-linejoin:miter;stroke-width:1.25;\"/>\r\n   </g>\r\n   <g id=\"patch_4\">\r\n    <path d=\"M 394.088125 224.64 \r\nL 394.088125 7.2 \r\n\" style=\"fill:none;stroke:#cccccc;stroke-linecap:square;stroke-linejoin:miter;stroke-width:1.25;\"/>\r\n   </g>\r\n   <g id=\"patch_5\">\r\n    <path d=\"M 59.288125 224.64 \r\nL 394.088125 224.64 \r\n\" style=\"fill:none;stroke:#cccccc;stroke-linecap:square;stroke-linejoin:miter;stroke-width:1.25;\"/>\r\n   </g>\r\n   <g id=\"patch_6\">\r\n    <path d=\"M 59.288125 7.2 \r\nL 394.088125 7.2 \r\n\" style=\"fill:none;stroke:#cccccc;stroke-linecap:square;stroke-linejoin:miter;stroke-width:1.25;\"/>\r\n   </g>\r\n  </g>\r\n </g>\r\n <defs>\r\n  <clipPath id=\"pd59766140f\">\r\n   <rect height=\"217.44\" width=\"334.8\" x=\"59.288125\" y=\"7.2\"/>\r\n  </clipPath>\r\n </defs>\r\n</svg>\r\n",
      "image/png": "[encoded data removed]"
     },
     "metadata": {
      "needs_background": "light"
     }
    }
   ],
   "source": [
    "hist = mini_model.fit([user_artists.userID, user_artists.artistID], user_artists.weight, epochs=100, verbose=0) \n",
    "print('loss: ', hist.history['loss'][-1])\n",
    "\n",
    "%matplotlib inline\n",
    "import matplotlib.pyplot as plt\n",
    "\n",
    "plt.plot(hist.history['loss'])\n",
    "plt.xlabel('epoch')\n",
    "plt.ylabel('loss')\n",
    "plt.show()"
   ]
  },
  {
   "cell_type": "code",
   "execution_count": 79,
   "metadata": {},
   "outputs": [
    {
     "output_type": "execute_result",
     "data": {
      "text/plain": [
       "               0             1             2             3             4     \\\n",
       "0     -1.650113e-09 -4.825227e-10  1.471181e-09  1.984774e-09 -1.029162e-09   \n",
       "1      9.509762e-10 -3.275204e-10 -5.394149e-10 -4.432303e-09 -4.095148e-09   \n",
       "2      2.220509e-09  5.149707e-10 -1.911301e-09 -3.400360e-09  3.448758e-10   \n",
       "3     -2.994255e-09 -1.457856e-11  2.231054e-09  8.276777e-09  4.797888e-09   \n",
       "4      2.860780e-09  1.029465e-09 -2.648825e-09 -2.393405e-09  3.277743e-09   \n",
       "...             ...           ...           ...           ...           ...   \n",
       "17627 -3.011114e-09 -7.238226e-11  2.273013e-09  8.009946e-09  4.378051e-09   \n",
       "17628 -2.413980e-09  1.185103e-10  1.732339e-09  7.380108e-09  4.876509e-09   \n",
       "17629 -4.147394e-09 -1.248910e-09  3.716070e-09  4.792306e-09 -2.866450e-09   \n",
       "17630 -2.626510e-09  2.308602e-11  1.938772e-09  7.455049e-09  4.486346e-09   \n",
       "17631  4.926358e-10  5.658948e-10 -6.540640e-10  1.698063e-09  3.572914e-09   \n",
       "\n",
       "               5             6             7             8             9     \\\n",
       "0      1.311078e-09  1.572091e-09 -4.220344e-10 -1.502733e-10  9.038781e-10   \n",
       "1     -4.117311e-09 -1.223667e-09  4.364337e-09  6.786351e-10  2.475584e-09   \n",
       "2     -2.510040e-09 -2.185986e-09  1.482142e-09  3.335539e-10 -5.515836e-10   \n",
       "3      7.158468e-09  3.304296e-09 -6.624870e-09 -1.114383e-09 -2.620014e-09   \n",
       "4     -1.202086e-09 -2.624323e-09 -5.811498e-10  7.192911e-11 -2.521609e-09   \n",
       "...             ...           ...           ...           ...           ...   \n",
       "17627  6.878357e-09  3.292623e-09 -6.269375e-09 -1.064229e-09 -2.349161e-09   \n",
       "17628  6.494282e-09  2.732262e-09 -6.227436e-09 -1.025764e-09 -2.756804e-09   \n",
       "17629  3.094665e-09  3.932339e-09 -8.148304e-10 -3.423699e-10  2.450611e-09   \n",
       "17630  6.478426e-09  2.917290e-09 -6.055346e-09 -1.012588e-09 -2.475736e-09   \n",
       "17631  1.950227e-09 -2.480762e-10 -2.744610e-09 -3.675220e-10 -2.357093e-09   \n",
       "\n",
       "       ...          1882          1883          1884          1885  \\\n",
       "0      ... -2.621892e-09 -8.037265e-10  8.449001e-10 -1.432108e-10   \n",
       "1      ... -7.754213e-10 -1.682037e-09  3.507399e-09  4.094539e-09   \n",
       "2      ...  3.020983e-09  6.056561e-10 -2.508623e-10  1.082732e-09   \n",
       "3      ... -1.506949e-09  1.591489e-09 -4.145660e-09 -5.963800e-09   \n",
       "4      ...  5.273914e-09  2.076798e-09 -2.737228e-09 -1.029785e-09   \n",
       "...    ...           ...           ...           ...           ...   \n",
       "17627  ... -1.733361e-09  1.395982e-09 -3.788291e-09 -5.614983e-09   \n",
       "17628  ... -7.231000e-10  1.744498e-09 -4.201415e-09 -5.671010e-09   \n",
       "17629  ... -6.726299e-09 -2.148095e-09  2.361918e-09 -1.205458e-10   \n",
       "17630  ... -1.186428e-09  1.523104e-09 -3.873115e-09 -5.469004e-09   \n",
       "17631  ...  2.375404e-09  1.734235e-09 -3.034531e-09 -2.751850e-09   \n",
       "\n",
       "               1886          1887          1888          1889          1890  \\\n",
       "0     -1.825137e-09 -1.368648e-09 -1.380765e-11 -1.376568e-10 -1.564368e-09   \n",
       "1      3.635829e-09 -2.776360e-09 -1.390357e-09  4.285619e-09 -3.415066e-09   \n",
       "2      3.029262e-09  1.050867e-09 -2.916196e-10  1.118358e-09  1.147530e-09   \n",
       "3     -6.985544e-09  2.585082e-09  1.962951e-09 -6.229934e-09  3.298354e-09   \n",
       "4      2.341062e-09  3.508517e-09  4.693863e-10 -1.101304e-09  4.087233e-09   \n",
       "...             ...           ...           ...           ...           ...   \n",
       "17627 -6.778588e-09  2.259835e-09  1.840726e-09 -5.864098e-09  2.905496e-09   \n",
       "17628 -6.187580e-09  2.850952e-09  1.883312e-09 -5.927358e-09  3.587641e-09   \n",
       "17629 -4.433112e-09 -3.652693e-09 -1.181430e-10 -9.499340e-11 -4.189459e-09   \n",
       "17630 -6.280670e-09  2.478778e-09  1.804700e-09 -5.713961e-09  3.148965e-09   \n",
       "17631 -1.255013e-09  2.891932e-09  9.781329e-10 -2.888837e-09  3.473829e-09   \n",
       "\n",
       "               1891  \n",
       "0      2.646463e-09  \n",
       "1      6.046797e-10  \n",
       "2     -3.088783e-09  \n",
       "3      1.774148e-09  \n",
       "4     -5.266631e-09  \n",
       "...             ...  \n",
       "17627  1.987140e-09  \n",
       "17628  9.721972e-10  \n",
       "17629  6.778710e-09  \n",
       "17630  1.430086e-09  \n",
       "17631 -2.273671e-09  \n",
       "\n",
       "[17632 rows x 1892 columns]"
      ],
      "text/html": "<div>\n<style scoped>\n    .dataframe tbody tr th:only-of-type {\n        vertical-align: middle;\n    }\n\n    .dataframe tbody tr th {\n        vertical-align: top;\n    }\n\n    .dataframe thead th {\n        text-align: right;\n    }\n</style>\n<table border=\"1\" class=\"dataframe\">\n  <thead>\n    <tr style=\"text-align: right;\">\n      <th></th>\n      <th>0</th>\n      <th>1</th>\n      <th>2</th>\n      <th>3</th>\n      <th>4</th>\n      <th>5</th>\n      <th>6</th>\n      <th>7</th>\n      <th>8</th>\n      <th>9</th>\n      <th>...</th>\n      <th>1882</th>\n      <th>1883</th>\n      <th>1884</th>\n      <th>1885</th>\n      <th>1886</th>\n      <th>1887</th>\n      <th>1888</th>\n      <th>1889</th>\n      <th>1890</th>\n      <th>1891</th>\n    </tr>\n  </thead>\n  <tbody>\n    <tr>\n      <th>0</th>\n      <td>-1.650113e-09</td>\n      <td>-4.825227e-10</td>\n      <td>1.471181e-09</td>\n      <td>1.984774e-09</td>\n      <td>-1.029162e-09</td>\n      <td>1.311078e-09</td>\n      <td>1.572091e-09</td>\n      <td>-4.220344e-10</td>\n      <td>-1.502733e-10</td>\n      <td>9.038781e-10</td>\n      <td>...</td>\n      <td>-2.621892e-09</td>\n      <td>-8.037265e-10</td>\n      <td>8.449001e-10</td>\n      <td>-1.432108e-10</td>\n      <td>-1.825137e-09</td>\n      <td>-1.368648e-09</td>\n      <td>-1.380765e-11</td>\n      <td>-1.376568e-10</td>\n      <td>-1.564368e-09</td>\n      <td>2.646463e-09</td>\n    </tr>\n    <tr>\n      <th>1</th>\n      <td>9.509762e-10</td>\n      <td>-3.275204e-10</td>\n      <td>-5.394149e-10</td>\n      <td>-4.432303e-09</td>\n      <td>-4.095148e-09</td>\n      <td>-4.117311e-09</td>\n      <td>-1.223667e-09</td>\n      <td>4.364337e-09</td>\n      <td>6.786351e-10</td>\n      <td>2.475584e-09</td>\n      <td>...</td>\n      <td>-7.754213e-10</td>\n      <td>-1.682037e-09</td>\n      <td>3.507399e-09</td>\n      <td>4.094539e-09</td>\n      <td>3.635829e-09</td>\n      <td>-2.776360e-09</td>\n      <td>-1.390357e-09</td>\n      <td>4.285619e-09</td>\n      <td>-3.415066e-09</td>\n      <td>6.046797e-10</td>\n    </tr>\n    <tr>\n      <th>2</th>\n      <td>2.220509e-09</td>\n      <td>5.149707e-10</td>\n      <td>-1.911301e-09</td>\n      <td>-3.400360e-09</td>\n      <td>3.448758e-10</td>\n      <td>-2.510040e-09</td>\n      <td>-2.185986e-09</td>\n      <td>1.482142e-09</td>\n      <td>3.335539e-10</td>\n      <td>-5.515836e-10</td>\n      <td>...</td>\n      <td>3.020983e-09</td>\n      <td>6.056561e-10</td>\n      <td>-2.508623e-10</td>\n      <td>1.082732e-09</td>\n      <td>3.029262e-09</td>\n      <td>1.050867e-09</td>\n      <td>-2.916196e-10</td>\n      <td>1.118358e-09</td>\n      <td>1.147530e-09</td>\n      <td>-3.088783e-09</td>\n    </tr>\n    <tr>\n      <th>3</th>\n      <td>-2.994255e-09</td>\n      <td>-1.457856e-11</td>\n      <td>2.231054e-09</td>\n      <td>8.276777e-09</td>\n      <td>4.797888e-09</td>\n      <td>7.158468e-09</td>\n      <td>3.304296e-09</td>\n      <td>-6.624870e-09</td>\n      <td>-1.114383e-09</td>\n      <td>-2.620014e-09</td>\n      <td>...</td>\n      <td>-1.506949e-09</td>\n      <td>1.591489e-09</td>\n      <td>-4.145660e-09</td>\n      <td>-5.963800e-09</td>\n      <td>-6.985544e-09</td>\n      <td>2.585082e-09</td>\n      <td>1.962951e-09</td>\n      <td>-6.229934e-09</td>\n      <td>3.298354e-09</td>\n      <td>1.774148e-09</td>\n    </tr>\n    <tr>\n      <th>4</th>\n      <td>2.860780e-09</td>\n      <td>1.029465e-09</td>\n      <td>-2.648825e-09</td>\n      <td>-2.393405e-09</td>\n      <td>3.277743e-09</td>\n      <td>-1.202086e-09</td>\n      <td>-2.624323e-09</td>\n      <td>-5.811498e-10</td>\n      <td>7.192911e-11</td>\n      <td>-2.521609e-09</td>\n      <td>...</td>\n      <td>5.273914e-09</td>\n      <td>2.076798e-09</td>\n      <td>-2.737228e-09</td>\n      <td>-1.029785e-09</td>\n      <td>2.341062e-09</td>\n      <td>3.508517e-09</td>\n      <td>4.693863e-10</td>\n      <td>-1.101304e-09</td>\n      <td>4.087233e-09</td>\n      <td>-5.266631e-09</td>\n    </tr>\n    <tr>\n      <th>...</th>\n      <td>...</td>\n      <td>...</td>\n      <td>...</td>\n      <td>...</td>\n      <td>...</td>\n      <td>...</td>\n      <td>...</td>\n      <td>...</td>\n      <td>...</td>\n      <td>...</td>\n      <td>...</td>\n      <td>...</td>\n      <td>...</td>\n      <td>...</td>\n      <td>...</td>\n      <td>...</td>\n      <td>...</td>\n      <td>...</td>\n      <td>...</td>\n      <td>...</td>\n      <td>...</td>\n    </tr>\n    <tr>\n      <th>17627</th>\n      <td>-3.011114e-09</td>\n      <td>-7.238226e-11</td>\n      <td>2.273013e-09</td>\n      <td>8.009946e-09</td>\n      <td>4.378051e-09</td>\n      <td>6.878357e-09</td>\n      <td>3.292623e-09</td>\n      <td>-6.269375e-09</td>\n      <td>-1.064229e-09</td>\n      <td>-2.349161e-09</td>\n      <td>...</td>\n      <td>-1.733361e-09</td>\n      <td>1.395982e-09</td>\n      <td>-3.788291e-09</td>\n      <td>-5.614983e-09</td>\n      <td>-6.778588e-09</td>\n      <td>2.259835e-09</td>\n      <td>1.840726e-09</td>\n      <td>-5.864098e-09</td>\n      <td>2.905496e-09</td>\n      <td>1.987140e-09</td>\n    </tr>\n    <tr>\n      <th>17628</th>\n      <td>-2.413980e-09</td>\n      <td>1.185103e-10</td>\n      <td>1.732339e-09</td>\n      <td>7.380108e-09</td>\n      <td>4.876509e-09</td>\n      <td>6.494282e-09</td>\n      <td>2.732262e-09</td>\n      <td>-6.227436e-09</td>\n      <td>-1.025764e-09</td>\n      <td>-2.756804e-09</td>\n      <td>...</td>\n      <td>-7.231000e-10</td>\n      <td>1.744498e-09</td>\n      <td>-4.201415e-09</td>\n      <td>-5.671010e-09</td>\n      <td>-6.187580e-09</td>\n      <td>2.850952e-09</td>\n      <td>1.883312e-09</td>\n      <td>-5.927358e-09</td>\n      <td>3.587641e-09</td>\n      <td>9.721972e-10</td>\n    </tr>\n    <tr>\n      <th>17629</th>\n      <td>-4.147394e-09</td>\n      <td>-1.248910e-09</td>\n      <td>3.716070e-09</td>\n      <td>4.792306e-09</td>\n      <td>-2.866450e-09</td>\n      <td>3.094665e-09</td>\n      <td>3.932339e-09</td>\n      <td>-8.148304e-10</td>\n      <td>-3.423699e-10</td>\n      <td>2.450611e-09</td>\n      <td>...</td>\n      <td>-6.726299e-09</td>\n      <td>-2.148095e-09</td>\n      <td>2.361918e-09</td>\n      <td>-1.205458e-10</td>\n      <td>-4.433112e-09</td>\n      <td>-3.652693e-09</td>\n      <td>-1.181430e-10</td>\n      <td>-9.499340e-11</td>\n      <td>-4.189459e-09</td>\n      <td>6.778710e-09</td>\n    </tr>\n    <tr>\n      <th>17630</th>\n      <td>-2.626510e-09</td>\n      <td>2.308602e-11</td>\n      <td>1.938772e-09</td>\n      <td>7.455049e-09</td>\n      <td>4.486346e-09</td>\n      <td>6.478426e-09</td>\n      <td>2.917290e-09</td>\n      <td>-6.055346e-09</td>\n      <td>-1.012588e-09</td>\n      <td>-2.475736e-09</td>\n      <td>...</td>\n      <td>-1.186428e-09</td>\n      <td>1.523104e-09</td>\n      <td>-3.873115e-09</td>\n      <td>-5.469004e-09</td>\n      <td>-6.280670e-09</td>\n      <td>2.478778e-09</td>\n      <td>1.804700e-09</td>\n      <td>-5.713961e-09</td>\n      <td>3.148965e-09</td>\n      <td>1.430086e-09</td>\n    </tr>\n    <tr>\n      <th>17631</th>\n      <td>4.926358e-10</td>\n      <td>5.658948e-10</td>\n      <td>-6.540640e-10</td>\n      <td>1.698063e-09</td>\n      <td>3.572914e-09</td>\n      <td>1.950227e-09</td>\n      <td>-2.480762e-10</td>\n      <td>-2.744610e-09</td>\n      <td>-3.675220e-10</td>\n      <td>-2.357093e-09</td>\n      <td>...</td>\n      <td>2.375404e-09</td>\n      <td>1.734235e-09</td>\n      <td>-3.034531e-09</td>\n      <td>-2.751850e-09</td>\n      <td>-1.255013e-09</td>\n      <td>2.891932e-09</td>\n      <td>9.781329e-10</td>\n      <td>-2.888837e-09</td>\n      <td>3.473829e-09</td>\n      <td>-2.273671e-09</td>\n    </tr>\n  </tbody>\n</table>\n<p>17632 rows × 1892 columns</p>\n</div>"
     },
     "metadata": {},
     "execution_count": 79
    }
   ],
   "source": [
    "Q = mini_model.get_layer(name='item_embedding').get_weights()[0]\n",
    "P = mini_model.get_layer(name='user_embedding').get_weights()[0]\n",
    "P_t = np.transpose(P)\n",
    "\n",
    "R_hat = np.dot(Q, P_t)\n",
    "pd.DataFrame(R_hat)"
   ]
  },
  {
   "cell_type": "code",
   "execution_count": null,
   "metadata": {},
   "outputs": [],
   "source": []
  },
  {
   "cell_type": "code",
   "execution_count": null,
   "metadata": {},
   "outputs": [],
   "source": []
  }
 ]
}