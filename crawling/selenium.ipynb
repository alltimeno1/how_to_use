{
 "cells": [
  {
   "cell_type": "markdown",
   "metadata": {},
   "source": [
    "### 01. web_crawling"
   ]
  },
  {
   "cell_type": "code",
   "execution_count": 1,
   "metadata": {},
   "outputs": [],
   "source": [
    "def naver_shopping():\n",
    "    url = \"https://search.shopping.naver.com/best100v2/detail.nhn?catId=50000003\"\n",
    "\n",
    "    response = requests.get(url)\n",
    "    dom = BeautifulSoup(response.content, 'html.parser')\n",
    "\n",
    "    elements = dom.select(\"#productListArea .thumb_area a\")\n",
    "    elements_1 = dom.select(\"#productListArea .price .num\")\n",
    "\n",
    "    df = {\"title\":[], 'price':[]}\n",
    "\n",
    "    for n in range(100):\n",
    "        df[\"title\"].append(elements[n][\"title\"])\n",
    "        df[\"price\"].append(elements_1[n].text)\n",
    "\n",
    "    df = pd.DataFrame(df)\n",
    "    return df"
   ]
  },
  {
   "cell_type": "code",
   "execution_count": 3,
   "metadata": {},
   "outputs": [
    {
     "data": {
      "text/html": [
       "<div>\n",
       "<style scoped>\n",
       "    .dataframe tbody tr th:only-of-type {\n",
       "        vertical-align: middle;\n",
       "    }\n",
       "\n",
       "    .dataframe tbody tr th {\n",
       "        vertical-align: top;\n",
       "    }\n",
       "\n",
       "    .dataframe thead th {\n",
       "        text-align: right;\n",
       "    }\n",
       "</style>\n",
       "<table border=\"1\" class=\"dataframe\">\n",
       "  <thead>\n",
       "    <tr style=\"text-align: right;\">\n",
       "      <th></th>\n",
       "      <th>title</th>\n",
       "      <th>price</th>\n",
       "    </tr>\n",
       "  </thead>\n",
       "  <tbody>\n",
       "    <tr>\n",
       "      <th>0</th>\n",
       "      <td>Apple 에어팟 프로 (MWP22KH/A)</td>\n",
       "      <td>243,460</td>\n",
       "    </tr>\n",
       "    <tr>\n",
       "      <th>1</th>\n",
       "      <td>다이슨 에어랩 스타일러 컴플리트</td>\n",
       "      <td>549,240</td>\n",
       "    </tr>\n",
       "    <tr>\n",
       "      <th>2</th>\n",
       "      <td>EFM네트웍스 아이피타임 A3004NS-M</td>\n",
       "      <td>63,780</td>\n",
       "    </tr>\n",
       "    <tr>\n",
       "      <th>3</th>\n",
       "      <td>다이슨 에어랩 스타일러 볼륨 앤 쉐이프</td>\n",
       "      <td>461,010</td>\n",
       "    </tr>\n",
       "    <tr>\n",
       "      <th>4</th>\n",
       "      <td>마이크로소프트 Windows 10 Home</td>\n",
       "      <td>38,000</td>\n",
       "    </tr>\n",
       "    <tr>\n",
       "      <th>...</th>\n",
       "      <td>...</td>\n",
       "      <td>...</td>\n",
       "    </tr>\n",
       "    <tr>\n",
       "      <th>95</th>\n",
       "      <td>소니 알파 A6000</td>\n",
       "      <td>360,020</td>\n",
       "    </tr>\n",
       "    <tr>\n",
       "      <th>96</th>\n",
       "      <td>한글과컴퓨터 한컴오피스 2020 가정 및 학생용 제품키배송형</td>\n",
       "      <td>51,780</td>\n",
       "    </tr>\n",
       "    <tr>\n",
       "      <th>97</th>\n",
       "      <td>Apple 아이패드 7세대 WIFI 32G</td>\n",
       "      <td>406,420</td>\n",
       "    </tr>\n",
       "    <tr>\n",
       "      <th>98</th>\n",
       "      <td>삼성전자 삼성 J3 Portable USB3.0</td>\n",
       "      <td>69,900</td>\n",
       "    </tr>\n",
       "    <tr>\n",
       "      <th>99</th>\n",
       "      <td>아이엠듀 고속 무선충전기 (FC20)</td>\n",
       "      <td>9,700</td>\n",
       "    </tr>\n",
       "  </tbody>\n",
       "</table>\n",
       "<p>100 rows × 2 columns</p>\n",
       "</div>"
      ],
      "text/plain": [
       "                                title    price\n",
       "0            Apple 에어팟 프로 (MWP22KH/A)  243,460\n",
       "1                   다이슨 에어랩 스타일러 컴플리트  549,240\n",
       "2             EFM네트웍스 아이피타임 A3004NS-M   63,780\n",
       "3               다이슨 에어랩 스타일러 볼륨 앤 쉐이프  461,010\n",
       "4             마이크로소프트 Windows 10 Home   38,000\n",
       "..                                ...      ...\n",
       "95                        소니 알파 A6000  360,020\n",
       "96  한글과컴퓨터 한컴오피스 2020 가정 및 학생용 제품키배송형   51,780\n",
       "97            Apple 아이패드 7세대 WIFI 32G  406,420\n",
       "98         삼성전자 삼성 J3 Portable USB3.0   69,900\n",
       "99               아이엠듀 고속 무선충전기 (FC20)    9,700\n",
       "\n",
       "[100 rows x 2 columns]"
      ]
     },
     "execution_count": 3,
     "metadata": {},
     "output_type": "execute_result"
    }
   ],
   "source": [
    "naver_shopping()"
   ]
  },
  {
   "cell_type": "markdown",
   "metadata": {},
   "source": [
    "### 02. selenium - naver shopping top 100"
   ]
  },
  {
   "cell_type": "code",
   "execution_count": 4,
   "metadata": {},
   "outputs": [],
   "source": [
    "from selenium import webdriver"
   ]
  },
  {
   "cell_type": "markdown",
   "metadata": {},
   "source": [
    "#### click 디지털/가전 button"
   ]
  },
  {
   "cell_type": "code",
   "execution_count": 5,
   "metadata": {},
   "outputs": [],
   "source": [
    "driver = webdriver.Chrome()\n",
    "url = \"https://search.shopping.naver.com/best100v2/main.nhn\"\n",
    "driver.get(url)\n",
    "driver.find_element_by_css_selector(\"#snb > li:nth-child(4) > a\").click()"
   ]
  },
  {
   "cell_type": "markdown",
   "metadata": {},
   "source": [
    "#### create DataFrame"
   ]
  },
  {
   "cell_type": "code",
   "execution_count": 6,
   "metadata": {},
   "outputs": [],
   "source": [
    "def top100():\n",
    "    driver = webdriver.Chrome()\n",
    "    url = \"https://search.shopping.naver.com/best100v2/detail.nhn?catId=50000003\"\n",
    "    driver.get(url)\n",
    "    top100 = driver.find_elements_by_css_selector(\"#productListArea ._itemSection\")\n",
    "    df = {\"title\":[], 'price':[]}\n",
    "\n",
    "    for each in top100:\n",
    "        title = each.find_element_by_css_selector(\"a\").get_attribute(\"title\")\n",
    "        price = each.find_element_by_css_selector(\".num\").text\n",
    "        df[\"title\"].append(title)\n",
    "        df[\"price\"].append(price)\n",
    "        \n",
    "    driver.quit()\n",
    "    \n",
    "    return pd.DataFrame(df)"
   ]
  },
  {
   "cell_type": "code",
   "execution_count": 7,
   "metadata": {},
   "outputs": [
    {
     "data": {
      "text/html": [
       "<div>\n",
       "<style scoped>\n",
       "    .dataframe tbody tr th:only-of-type {\n",
       "        vertical-align: middle;\n",
       "    }\n",
       "\n",
       "    .dataframe tbody tr th {\n",
       "        vertical-align: top;\n",
       "    }\n",
       "\n",
       "    .dataframe thead th {\n",
       "        text-align: right;\n",
       "    }\n",
       "</style>\n",
       "<table border=\"1\" class=\"dataframe\">\n",
       "  <thead>\n",
       "    <tr style=\"text-align: right;\">\n",
       "      <th></th>\n",
       "      <th>title</th>\n",
       "      <th>price</th>\n",
       "    </tr>\n",
       "  </thead>\n",
       "  <tbody>\n",
       "    <tr>\n",
       "      <th>0</th>\n",
       "      <td>Apple 에어팟 프로 (MWP22KH/A)</td>\n",
       "      <td>243,460</td>\n",
       "    </tr>\n",
       "    <tr>\n",
       "      <th>1</th>\n",
       "      <td>다이슨 에어랩 스타일러 컴플리트</td>\n",
       "      <td>549,240</td>\n",
       "    </tr>\n",
       "    <tr>\n",
       "      <th>2</th>\n",
       "      <td>EFM네트웍스 아이피타임 A3004NS-M</td>\n",
       "      <td>63,780</td>\n",
       "    </tr>\n",
       "    <tr>\n",
       "      <th>3</th>\n",
       "      <td>다이슨 에어랩 스타일러 볼륨 앤 쉐이프</td>\n",
       "      <td>461,010</td>\n",
       "    </tr>\n",
       "    <tr>\n",
       "      <th>4</th>\n",
       "      <td>마이크로소프트 Windows 10 Home</td>\n",
       "      <td>38,000</td>\n",
       "    </tr>\n",
       "    <tr>\n",
       "      <th>...</th>\n",
       "      <td>...</td>\n",
       "      <td>...</td>\n",
       "    </tr>\n",
       "    <tr>\n",
       "      <th>95</th>\n",
       "      <td>소니 알파 A6000</td>\n",
       "      <td>360,020</td>\n",
       "    </tr>\n",
       "    <tr>\n",
       "      <th>96</th>\n",
       "      <td>한글과컴퓨터 한컴오피스 2020 가정 및 학생용 제품키배송형</td>\n",
       "      <td>51,780</td>\n",
       "    </tr>\n",
       "    <tr>\n",
       "      <th>97</th>\n",
       "      <td>Apple 아이패드 7세대 WIFI 32G</td>\n",
       "      <td>406,420</td>\n",
       "    </tr>\n",
       "    <tr>\n",
       "      <th>98</th>\n",
       "      <td>삼성전자 삼성 J3 Portable USB3.0</td>\n",
       "      <td>69,900</td>\n",
       "    </tr>\n",
       "    <tr>\n",
       "      <th>99</th>\n",
       "      <td>아이엠듀 고속 무선충전기 (FC20)</td>\n",
       "      <td>9,700</td>\n",
       "    </tr>\n",
       "  </tbody>\n",
       "</table>\n",
       "<p>100 rows × 2 columns</p>\n",
       "</div>"
      ],
      "text/plain": [
       "                                title    price\n",
       "0            Apple 에어팟 프로 (MWP22KH/A)  243,460\n",
       "1                   다이슨 에어랩 스타일러 컴플리트  549,240\n",
       "2             EFM네트웍스 아이피타임 A3004NS-M   63,780\n",
       "3               다이슨 에어랩 스타일러 볼륨 앤 쉐이프  461,010\n",
       "4             마이크로소프트 Windows 10 Home   38,000\n",
       "..                                ...      ...\n",
       "95                        소니 알파 A6000  360,020\n",
       "96  한글과컴퓨터 한컴오피스 2020 가정 및 학생용 제품키배송형   51,780\n",
       "97            Apple 아이패드 7세대 WIFI 32G  406,420\n",
       "98         삼성전자 삼성 J3 Portable USB3.0   69,900\n",
       "99               아이엠듀 고속 무선충전기 (FC20)    9,700\n",
       "\n",
       "[100 rows x 2 columns]"
      ]
     },
     "execution_count": 7,
     "metadata": {},
     "output_type": "execute_result"
    }
   ],
   "source": [
    "top100()"
   ]
  }
 ],
 "metadata": {
  "kernelspec": {
   "display_name": "Python 3",
   "language": "python",
   "name": "python3"
  },
  "language_info": {
   "codemirror_mode": {
    "name": "ipython",
    "version": 3
   },
   "file_extension": ".py",
   "mimetype": "text/x-python",
   "name": "python",
   "nbconvert_exporter": "python",
   "pygments_lexer": "ipython3",
   "version": "3.8.3"
  }
 },
 "nbformat": 4,
 "nbformat_minor": 4
}
