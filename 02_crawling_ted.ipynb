{
 "cells": [
  {
   "cell_type": "code",
   "execution_count": 1,
   "metadata": {},
   "outputs": [],
   "source": [
    "import requests\n",
    "import time\n",
    "import pandas as pd\n",
    "from selenium import webdriver\n",
    "from PIL import Image as pil\n",
    "from bs4 import BeautifulSoup"
   ]
  },
  {
   "cell_type": "markdown",
   "metadata": {},
   "source": [
    "### Crawling TED"
   ]
  },
  {
   "cell_type": "code",
   "execution_count": 2,
   "metadata": {},
   "outputs": [],
   "source": [
    "def get_ted(page):\n",
    "    url = \"https://www.ted.com/talks?page={}\".format(page)\n",
    "    response = requests.get(url)\n",
    "    dom = BeautifulSoup(response.content, \"html.parser\")\n",
    "    dom.select_one(\"#browse-results .media__message h4\").text\n",
    "    elements = dom.select(\"#browse-results .col\")\n",
    "    df = []\n",
    "\n",
    "    for element in elements:\n",
    "\n",
    "        df.append({\n",
    "            \"name\" : element.select_one(\"h4\").text,\n",
    "            \"title\" : element.select_one(\"h4.f-w\\:700.h9.m5 > a\").text.replace(\"\\n\",\"\"),\n",
    "            \"date\": element.select_one(\".meta__val\").text.replace(\"\\n\",\"\"),\n",
    "            \"url\": \"https://ted.com\" + element.select_one(\".ga-link\")[\"href\"]}\n",
    "        )\n",
    "\n",
    "    return pd.DataFrame(df)"
   ]
  },
  {
   "cell_type": "code",
   "execution_count": 3,
   "metadata": {},
   "outputs": [
    {
     "data": {
      "text/html": [
       "<div>\n",
       "<style scoped>\n",
       "    .dataframe tbody tr th:only-of-type {\n",
       "        vertical-align: middle;\n",
       "    }\n",
       "\n",
       "    .dataframe tbody tr th {\n",
       "        vertical-align: top;\n",
       "    }\n",
       "\n",
       "    .dataframe thead th {\n",
       "        text-align: right;\n",
       "    }\n",
       "</style>\n",
       "<table border=\"1\" class=\"dataframe\">\n",
       "  <thead>\n",
       "    <tr style=\"text-align: right;\">\n",
       "      <th></th>\n",
       "      <th>name</th>\n",
       "      <th>title</th>\n",
       "      <th>date</th>\n",
       "      <th>url</th>\n",
       "    </tr>\n",
       "  </thead>\n",
       "  <tbody>\n",
       "    <tr>\n",
       "      <th>355</th>\n",
       "      <td>Noah Charney</td>\n",
       "      <td>The art forger who tricked the Nazis</td>\n",
       "      <td>Apr 2020</td>\n",
       "      <td>https://ted.com/talks/noah_charney_the_art_for...</td>\n",
       "    </tr>\n",
       "    <tr>\n",
       "      <th>356</th>\n",
       "      <td>Yifat Susskind</td>\n",
       "      <td>In uncertain times, think like a mother</td>\n",
       "      <td>Apr 2020</td>\n",
       "      <td>https://ted.com/talks/yifat_susskind_in_uncert...</td>\n",
       "    </tr>\n",
       "    <tr>\n",
       "      <th>357</th>\n",
       "      <td>Alexandra Auer</td>\n",
       "      <td>The intangible effects of walls</td>\n",
       "      <td>Apr 2020</td>\n",
       "      <td>https://ted.com/talks/alexandra_auer_the_intan...</td>\n",
       "    </tr>\n",
       "    <tr>\n",
       "      <th>358</th>\n",
       "      <td>Elizabeth Gilbert</td>\n",
       "      <td>It's OK to feel overwhelmed. Here's what to do...</td>\n",
       "      <td>Apr 2020</td>\n",
       "      <td>https://ted.com/talks/elizabeth_gilbert_it_s_o...</td>\n",
       "    </tr>\n",
       "    <tr>\n",
       "      <th>359</th>\n",
       "      <td>Butterscotch</td>\n",
       "      <td>\"Accept Who I Am\"</td>\n",
       "      <td>Apr 2020</td>\n",
       "      <td>https://ted.com/talks/butterscotch_accept_who_...</td>\n",
       "    </tr>\n",
       "  </tbody>\n",
       "</table>\n",
       "</div>"
      ],
      "text/plain": [
       "                  name                                              title  \\\n",
       "355       Noah Charney               The art forger who tricked the Nazis   \n",
       "356     Yifat Susskind            In uncertain times, think like a mother   \n",
       "357     Alexandra Auer                    The intangible effects of walls   \n",
       "358  Elizabeth Gilbert  It's OK to feel overwhelmed. Here's what to do...   \n",
       "359       Butterscotch                                  \"Accept Who I Am\"   \n",
       "\n",
       "         date                                                url  \n",
       "355  Apr 2020  https://ted.com/talks/noah_charney_the_art_for...  \n",
       "356  Apr 2020  https://ted.com/talks/yifat_susskind_in_uncert...  \n",
       "357  Apr 2020  https://ted.com/talks/alexandra_auer_the_intan...  \n",
       "358  Apr 2020  https://ted.com/talks/elizabeth_gilbert_it_s_o...  \n",
       "359  Apr 2020  https://ted.com/talks/butterscotch_accept_who_...  "
      ]
     },
     "execution_count": 3,
     "metadata": {},
     "output_type": "execute_result"
    }
   ],
   "source": [
    "ted_df = pd.DataFrame()\n",
    "\n",
    "for n in range(1, 11):\n",
    "    ted_df = ted_df.append(get_ted(n))\n",
    "    \n",
    "ted_df.reset_index(drop = True, inplace=True)\n",
    "ted_df.tail()"
   ]
  }
 ],
 "metadata": {
  "kernelspec": {
   "display_name": "Python 3",
   "language": "python",
   "name": "python3"
  },
  "language_info": {
   "codemirror_mode": {
    "name": "ipython",
    "version": 3
   },
   "file_extension": ".py",
   "mimetype": "text/x-python",
   "name": "python",
   "nbconvert_exporter": "python",
   "pygments_lexer": "ipython3",
   "version": "3.8.3"
  }
 },
 "nbformat": 4,
 "nbformat_minor": 4
}
