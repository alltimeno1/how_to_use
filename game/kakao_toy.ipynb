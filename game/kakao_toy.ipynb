{
 "metadata": {
  "language_info": {
   "codemirror_mode": {
    "name": "ipython",
    "version": 3
   },
   "file_extension": ".py",
   "mimetype": "text/x-python",
   "name": "python",
   "nbconvert_exporter": "python",
   "pygments_lexer": "ipython3",
   "version": "3.8.3-final"
  },
  "orig_nbformat": 2,
  "kernelspec": {
   "name": "python3",
   "display_name": "Python 3",
   "language": "python"
  }
 },
 "nbformat": 4,
 "nbformat_minor": 2,
 "cells": [
  {
   "source": [
    "### 크레인 인형 뽑기 게임\n",
    "https://programmers.co.kr/learn/courses/30/lessons/64061"
   ],
   "cell_type": "markdown",
   "metadata": {}
  },
  {
   "cell_type": "code",
   "execution_count": 1,
   "metadata": {},
   "outputs": [],
   "source": [
    "board = [[0,0,0,0,0],[0,0,1,0,3],[0,2,5,0,1],[4,2,4,4,2],[3,5,1,3,1]]\t\n",
    "moves = [1,5,3,5,1,2,1,4]\n",
    "result = 4"
   ]
  },
  {
   "cell_type": "code",
   "execution_count": 2,
   "metadata": {},
   "outputs": [],
   "source": [
    "def solution(board, moves):\n",
    "    basket = []\n",
    "    answer = 0\n",
    "\n",
    "    for move in moves:\n",
    "        n = 0\n",
    "        while n < len(board):\n",
    "            pick = board[n][move-1]\n",
    "            if not pick:\n",
    "                n+=1\n",
    "            else:\n",
    "                basket.append(pick)\n",
    "                if len(basket) > 1 and pick == basket[-2]:\n",
    "                    basket.pop()\n",
    "                    basket.pop()\n",
    "                    answer+=2\n",
    "                board[n][move-1] = 0\n",
    "                break\n",
    "    \n",
    "    return answer"
   ]
  },
  {
   "cell_type": "code",
   "execution_count": 3,
   "metadata": {},
   "outputs": [
    {
     "output_type": "execute_result",
     "data": {
      "text/plain": [
       "4"
      ]
     },
     "metadata": {},
     "execution_count": 3
    }
   ],
   "source": [
    "solution(board, moves)"
   ]
  }
 ]
}