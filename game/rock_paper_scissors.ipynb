{
 "cells": [
  {
   "cell_type": "markdown",
   "metadata": {},
   "source": [
    "## rock paper scissors v0.1\n",
    " - if statement\n"
   ]
  },
  {
   "cell_type": "code",
   "execution_count": null,
   "metadata": {},
   "outputs": [],
   "source": [
    "me = input(\"Choose rock, scissors, paper: \")\n",
    "friend = np.random.choice([\"rock\", \"scissors\", \"paper\"])\n",
    "\n",
    "if me == friend:\n",
    "    print(\"Friend has chosen {}. Draw!\".format(friend))\n",
    "elif me == \"scissors\" and friend == \"paper\":\n",
    "    print(\"Friend has chosen {}. Victory!\".format(friend))\n",
    "elif me == \"scissors\" and friend == \"rock\":\n",
    "    print(\"Friend has chosen {}. Defeat!\".format(friend))\n",
    "elif me == \"rock\" and friend == \"scissors\":\n",
    "    print(\"Friend has chosen {}. Victory!\".format(friend))\n",
    "elif me == \"rock\" and friend == \"paper\":\n",
    "    print(\"Friend has chosen {}. Defeat!\".format(friend))\n",
    "elif me == \"paper\" and friend == \"rock\":\n",
    "    print(\"Friend has chosen {}. Victory!\".format(friend))\n",
    "elif me == \"paper\" and friend == \"scissors\":\n",
    "    print(\"Friend has chosen {}. Defeat!\".format(friend))"
   ]
  },
  {
   "cell_type": "markdown",
   "metadata": {},
   "source": [
    "## rock paper scissors v0.2\n",
    " - if statement, dictionary type\n"
   ]
  },
  {
   "cell_type": "code",
   "execution_count": null,
   "metadata": {},
   "outputs": [],
   "source": [
    "me = input(\"Choose rock, scissors, paper: \")\n",
    "friend = np.random.choice([\"scissors\", \"rock\", \"paper\"])    \n",
    "\n",
    "RPS = {\"scissors\":\"rock\",\n",
    "      \"rock\":\"paper\",\n",
    "      \"paper\":\"scissors\"}\n",
    "\n",
    "if me == friend:\n",
    "     print(\"Friend has chosen {}. Draw!\".format(friend))\n",
    "elif me == RPS[friend]:\n",
    "    print(\"Friend has chosen {}. Victory!\".format(friend))\n",
    "elif friend == RPS[me]:\n",
    "    print(\"Friend has chosen {}. Defeat!\".format(friend))"
   ]
  },
  {
   "cell_type": "markdown",
   "metadata": {},
   "source": [
    "## rock paper scissors v0.3\n",
    " - linked list, class"
   ]
  },
  {
   "cell_type": "markdown",
   "metadata": {},
   "source": [
    "#### Not working #1\n",
    "- variables in def rps don't match global variables"
   ]
  },
  {
   "cell_type": "code",
   "execution_count": null,
   "metadata": {
    "scrolled": true
   },
   "outputs": [],
   "source": [
    "me = input(\"Choose rock, scissors, paper: \")\n",
    "friend = np.random.choice([\"scissors\", \"rock\", \"paper\"])       \n",
    "        \n",
    "class Game:\n",
    "    \n",
    "    def __init__(self, my_choice = me, next_node=None):\n",
    "        self.my_choice = my_choice\n",
    "        self.next_node = next_node\n",
    "\n",
    "    def __repr__(self):\n",
    "        return \"<my_choice:{}, next_node:{}>\".format(self.my_choice, id(self.next_node))\n",
    "    \n",
    "    def rps(self, friend = friend):\n",
    "        self.friend = friend \n",
    "        if self.my_choice == friend :\n",
    "            return \"Friend has chosen {}. Draw!\".format(friend)\n",
    "        elif id(friend) == self.next_node:\n",
    "            return \"Friend has chosen {}. Victory!\".format(friend)\n",
    "        elif id(self) == friend.next_node:\n",
    "            return \"Friend has chosen {}. Defeat!\".format(friend)\n",
    "\n",
    "n1 = Game(\"scissors\")        \n",
    "n2 = Game(\"rock\")\n",
    "n3 = Game(\"paper\")\n",
    "\n",
    "n1.next_node = n2\n",
    "n2.next_node = n3\n",
    "n3.next_node = n1 \n",
    "\n",
    "game = Game()\n",
    "game.rps()"
   ]
  },
  {
   "cell_type": "markdown",
   "metadata": {},
   "source": [
    "#### Not working #2\n",
    " - if statement"
   ]
  },
  {
   "cell_type": "code",
   "execution_count": 5,
   "metadata": {
    "scrolled": true
   },
   "outputs": [
    {
     "name": "stdout",
     "output_type": "stream",
     "text": [
      "11.4 µs ± 16.2 ns per loop (mean ± std. dev. of 7 runs, 100000 loops each)\n"
     ]
    }
   ],
   "source": [
    "me = \"input(\"Choose rock, scissors, paper: \")\"\n",
    "friend = np.random.choice([\"scissors\", \"rock\", \"paper\"])       \n",
    "        \n",
    "class Game:\n",
    "    \n",
    "    def __init__(self, my_choice = me, next_node=None):\n",
    "        self.my_choice = my_choice\n",
    "        self.next_node = next_node\n",
    "        if my_choice == \"scissors\":\n",
    "            self.next_node = \"paper\"\n",
    "        if my_choice == \"paper\":\n",
    "            self.next_node = \"rock\"\n",
    "        if my_choice == \"rock\":\n",
    "            self.next_node = \"scissors\"\n",
    "\n",
    "    def __repr__(self):\n",
    "        return \"<my_choice:{}, next_node:{}>\".format(self.my_choice, id(self.next_node))\n",
    "    \n",
    "    def rps(self, friend = friend):\n",
    "        self.friend = friend\n",
    "        if self.my_choice == friend :\n",
    "            return \"Friend has chosen {}. Draw!\".format(friend)\n",
    "        elif friend == self.next_node:\n",
    "            return \"Friend has chosen {}. Victory!!\".format(friend)\n",
    "        else:\n",
    "            return \"Friend has chosen {}. Defeat!\".format(friend)\n",
    "\n",
    "game = Game()\n",
    "game.rps()"
   ]
  },
  {
   "source": [
    "## rock paper scissors v1.0\n",
    " - linked list, class"
   ],
   "cell_type": "markdown",
   "metadata": {}
  },
  {
   "cell_type": "code",
   "execution_count": null,
   "metadata": {},
   "outputs": [],
   "source": [
    "class Node:\n",
    "    def __init__(self, data, next=None):\n",
    "        self.data = data\n",
    "        self.next = next\n",
    "\n",
    "rock = Node('rock')\n",
    "scissors = Node('scissors')\n",
    "paper = Node('paper')\n",
    "\n",
    "rock.next = scissors\n",
    "scissors.next = paper\n",
    "paper.next = rock\n",
    "\n",
    "def play():\n",
    "    my_choice = input(\"Choose rock, scissors, paper: \")\n",
    "    friend_choice = np.random.choice([rock, paper, scissors])\n",
    "\n",
    "    if my_choice == friend_choice.data :\n",
    "        return \"Friend has chosen {}. Draw!\".format(friend_choice.data)\n",
    "    elif my_choice == friend_choice.next.data:\n",
    "        return \"Friend has chosen {}. Defeat!!\".format(friend_choice.data)\n",
    "    else:\n",
    "        return \"Friend has chosen {}. Victory!!\".format(friend_choice.data)\n",
    "\n",
    "play()"
   ]
  },
  {
   "cell_type": "code",
   "execution_count": null,
   "metadata": {},
   "outputs": [],
   "source": [
    "class Node:\n",
    "    def __init__(self, data, next=None):\n",
    "        self.data = data\n",
    "        self.next = next\n",
    "\n",
    "class Game():\n",
    "    \n",
    "    def __init__(self):\n",
    "        self.rock = Node('rock')\n",
    "        self.scissors = Node('scissors')\n",
    "        self.paper = Node('paper')\n",
    "        \n",
    "        self.rock.next = self.scissors\n",
    "        self.scissors.next = self.paper\n",
    "        self.paper.next = self.rock\n",
    "    \n",
    "    def play(self):\n",
    "        my_choice = input(\"Choose rock, scissors, paper: \")\n",
    "        friend_choice = np.random.choice([self.rock, self.paper, self.scissors])\n",
    "\n",
    "        if my_choice == friend_choice.data :\n",
    "            return \"Friend has chosen {}. Draw!\".format(friend_choice.data)\n",
    "        elif my_choice == friend_choice.next.data:\n",
    "            return \"Friend has chosen {}. Defeat!!\".format(friend_choice.data)\n",
    "        else:\n",
    "            return \"Friend has chosen {}. Victory!!\".format(friend_choice.data)\n",
    "\n",
    "game = Game()\n",
    "game.play()"
   ]
  }
 ],
 "metadata": {
  "kernelspec": {
   "display_name": "Python 3",
   "language": "python",
   "name": "python3"
  },
  "language_info": {
   "codemirror_mode": {
    "name": "ipython",
    "version": 3
   },
   "file_extension": ".py",
   "mimetype": "text/x-python",
   "name": "python",
   "nbconvert_exporter": "python",
   "pygments_lexer": "ipython3",
   "version": "3.8.3"
  }
 },
 "nbformat": 4,
 "nbformat_minor": 4
}
