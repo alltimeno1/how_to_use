{
 "cells": [
  {
   "cell_type": "markdown",
   "metadata": {},
   "source": [
    "#### finbonachicken\n",
    "- dictionary, for statement, def"
   ]
  },
  {
   "cell_type": "code",
   "execution_count": 201,
   "metadata": {},
   "outputs": [],
   "source": [
    "a = 0\n",
    "b = 1\n",
    "dic = {'0':0}\n",
    "\n",
    "for i in range(16):\n",
    "    a, b = b, a + b\n",
    "    dic['{}'.format(b)] = a\n",
    "    \n",
    "dic_1 = dic.copy()\n",
    "\n",
    "for i in range(1,1000):\n",
    "    if \"{}\".format(i) not in dic.keys():\n",
    "        n = i\n",
    "        \n",
    "        while \"{}\".format(i) not in dic.keys():\n",
    "            i -= 1\n",
    "        \n",
    "        dic_1['{}'.format(n)] = dic_1['{}'.format(i)] + dic_1['{}'.format(n-i)]"
   ]
  },
  {
   "cell_type": "code",
   "execution_count": 202,
   "metadata": {},
   "outputs": [],
   "source": [
    "def fibchicken():\n",
    "    number = int(input(\"치킨은 몇 명이서 먹을건가? : \"))\n",
    "    if number >= 1000:\n",
    "        print(\"그렇게 많이는 안 팔아...\")\n",
    "    else:\n",
    "        number_2 = dic_1[\"{}\".format(number)]\n",
    "        print(\"{}마리면 충분하네!\".format(number_2))"
   ]
  },
  {
   "cell_type": "code",
   "execution_count": 203,
   "metadata": {},
   "outputs": [
    {
     "name": "stdout",
     "output_type": "stream",
     "text": [
      "치킨은 몇 명이서 먹을건가? : 900\n",
      "556마리면 충분하네!\n"
     ]
    }
   ],
   "source": [
    "fibchicken()"
   ]
  },
  {
   "cell_type": "code",
   "execution_count": 204,
   "metadata": {},
   "outputs": [
    {
     "name": "stdout",
     "output_type": "stream",
     "text": [
      "치킨은 몇 명이서 먹을건가? : 1000\n",
      "그렇게 많이는 안 팔아...\n"
     ]
    }
   ],
   "source": [
    "fibchicken()"
   ]
  }
 ],
 "metadata": {
  "kernelspec": {
   "display_name": "Python 3",
   "language": "python",
   "name": "python3"
  },
  "language_info": {
   "codemirror_mode": {
    "name": "ipython",
    "version": 3
   },
   "file_extension": ".py",
   "mimetype": "text/x-python",
   "name": "python",
   "nbconvert_exporter": "python",
   "pygments_lexer": "ipython3",
   "version": "3.6.9"
  }
 },
 "nbformat": 4,
 "nbformat_minor": 4
}
